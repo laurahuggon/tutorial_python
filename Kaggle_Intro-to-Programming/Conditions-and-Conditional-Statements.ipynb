{
 "cells": [
  {
   "metadata": {},
   "cell_type": "markdown",
   "source": "# Conditions and Conditional Statments",
   "id": "d66ee1ef9b61c8c6"
  },
  {
   "metadata": {},
   "cell_type": "markdown",
   "source": [
    "## Introduction\n",
    "\n",
    "You have already seen that when you change the input value to a function, you often get a different output. For instance, consider an `add_five()` function that just adds five to any number and returns the result. Then `add_five(7)` will return an output of 12 (=7+5), and `add_five(8)` will return an output of 13 (=8+5). Note that no matter what the input is, the action that the function performs is always the same: it always adds five.\n",
    "\n",
    "But you might instead need a function that performs an action that depends on the input. For instance, you might need a function `add_three_or_eight()` that adds three if the input is less than 10, and adds eight if the input is 10 or more. Then `add_three_or_eight(1)` will return 4 (= 1+3), but `add_three_or_eight(11)` will return 19 (=11+8). In this case, the action that the function performs varies with the input.\n",
    "\n",
    "In this lesson, you will learn how to use conditions and conditional statements to modify how your functions run.\n",
    "\n",
    "## Conditions\n",
    "\n",
    "In programming, **conditions** are statements that are either `True` or `False`. There are many different ways to write conditions in Python, but some of the most common ways of writing conditions just compare two difference values. For instance, you can check if 2 is greater than 3:"
   ],
   "id": "a9a604f3d406bcec"
  },
  {
   "cell_type": "code",
   "id": "initial_id",
   "metadata": {
    "collapsed": true,
    "ExecuteTime": {
     "end_time": "2024-05-16T11:19:09.952471Z",
     "start_time": "2024-05-16T11:19:09.946065Z"
    }
   },
   "source": "print(2 > 3)",
   "outputs": [
    {
     "name": "stdout",
     "output_type": "stream",
     "text": [
      "False\n"
     ]
    }
   ],
   "execution_count": 1
  },
  {
   "metadata": {},
   "cell_type": "markdown",
   "source": [
    "Python identifies this as `False`, since 2 is not greater than 3.\n",
    "\n",
    "You can also use conditions to compare the values of variables. In the next code cell, `var_one` has a value of 1, and `var_two` has a value of two. In the conditions, we check if `var_one` is less than 1 (which is `False`), and we check if `var_two` is greater than or equal to `var_one` (which is `True`)."
   ],
   "id": "1d20fad53423e557"
  },
  {
   "metadata": {
    "ExecuteTime": {
     "end_time": "2024-05-16T11:19:09.982643Z",
     "start_time": "2024-05-16T11:19:09.980054Z"
    }
   },
   "cell_type": "code",
   "source": [
    "var_one = 1\n",
    "var_two = 2\n",
    "\n",
    "print(var_one < 1)\n",
    "print(var_two >= var_one)"
   ],
   "id": "dd6781202d7e5a05",
   "outputs": [
    {
     "name": "stdout",
     "output_type": "stream",
     "text": [
      "False\n",
      "True\n"
     ]
    }
   ],
   "execution_count": 2
  },
  {
   "metadata": {},
   "cell_type": "markdown",
   "source": [
    "Here is a list of common symbols you can use to construct conditions:\n",
    "* `==` - equals\n",
    "* `!=` - not equals\n",
    "* `<` - less than\n",
    "* `<=` - less than or equal to\n",
    "* `>` - greater than\n",
    "* `>=` - greater than or equal to\n",
    "\n",
    "**Important note:** when you check two values are equal, make sure you use the `==` sign, and not the `=` sign.\n",
    "* `var_one == 1` checks if the value of `var_one` is `1`.\n",
    "* `var_one = 1` sets the value of `var_one` to `1`.\n",
    "\n",
    "## Conditional statements\n",
    "\n",
    "**Conditional statements** use conditions to modify how your function runs. They check the value of a condition, and if the condition evaluates to `True`, then a certain block of code is executed. (Otherwise, if the condition is `False`, then the code is not run.)\n",
    "\n",
    "You will see several examples of this in the following sections.\n",
    "\n",
    "## \"if\" statements\n",
    "\n",
    "The simplest type of conditional statement is an \"if\" statement. You can see an example of this in the `evaluate_temp()` function below. The function accepts a body temperature (in Celcius) as input.\n",
    "* Initially, message is set to `\"Normal temperature\"`.\n",
    "* Then, if `temp > 38` is `True` (e.g., the body temperature is greater than 38°C), the message is updated to `\"Fever!\"`. Otherwise, if `temp > 38` is `False`, then the message is not updated.\n",
    "* Finally, `message` is returned by the function."
   ],
   "id": "c39964aff6eb754f"
  },
  {
   "metadata": {
    "ExecuteTime": {
     "end_time": "2024-05-16T11:19:09.986491Z",
     "start_time": "2024-05-16T11:19:09.984351Z"
    }
   },
   "cell_type": "code",
   "source": [
    "def evaluate_temp(temp):\n",
    "    # Set an initial message\n",
    "    message = \"Normal temperature.\"\n",
    "    # Update value of message only if temperature greater than 38\n",
    "    if temp > 38:\n",
    "        message = \"Fever!\"\n",
    "    return message"
   ],
   "id": "42431d163e49bd86",
   "outputs": [],
   "execution_count": 3
  },
  {
   "metadata": {},
   "cell_type": "markdown",
   "source": "In the next code cell, we call the function, where the temperature is 37°C. The message is `\"Normal temperature\"`, because the temperature is less than 38°C (`temp > 38` evaluates to `False`) in this case.",
   "id": "eb4628ec2ed9ce1e"
  },
  {
   "metadata": {
    "ExecuteTime": {
     "end_time": "2024-05-16T11:19:09.990473Z",
     "start_time": "2024-05-16T11:19:09.988122Z"
    }
   },
   "cell_type": "code",
   "source": "print(evaluate_temp(37))",
   "id": "43445111b4f99af5",
   "outputs": [
    {
     "name": "stdout",
     "output_type": "stream",
     "text": [
      "Normal temperature.\n"
     ]
    }
   ],
   "execution_count": 4
  },
  {
   "metadata": {},
   "cell_type": "markdown",
   "source": "However, if the temperature is instead 39°C, since this is greater than 38°C, the message is updated to `\"Fever!\"`.",
   "id": "6ee471f773b31e1"
  },
  {
   "metadata": {
    "ExecuteTime": {
     "end_time": "2024-05-16T11:19:09.996422Z",
     "start_time": "2024-05-16T11:19:09.993919Z"
    }
   },
   "cell_type": "code",
   "source": "print(evaluate_temp(39))",
   "id": "93b0a3c7a4772043",
   "outputs": [
    {
     "name": "stdout",
     "output_type": "stream",
     "text": [
      "Fever!\n"
     ]
    }
   ],
   "execution_count": 5
  },
  {
   "metadata": {},
   "cell_type": "markdown",
   "source": [
    "Note that there are two levels of indentation:\n",
    "* The first level of indentation is because we always need to indent the code block inside a function.\n",
    "* The second level of indentation is because we also need to indent the code block belonging to the \"if\" statement. (As you'll see, we'll also need to indent the code blocks for \"elif\" and \"else\" statements.)\n",
    "\n",
    "Note that because the return statement is not indented under the \"if\" statement, it is always executed, whether `temp > 38` is `True` or `False`.\n",
    "\n",
    "## \"if ... else\" statements\n",
    "\n",
    "We can use \"else\" statements to run code if a statement is `False`. The code under the \"if\" statement is run if the statement is `True`, and the code under \"else\" is run if the statement is `False`."
   ],
   "id": "7ca765ed5a68ea54"
  },
  {
   "metadata": {
    "ExecuteTime": {
     "end_time": "2024-05-16T11:19:10.000469Z",
     "start_time": "2024-05-16T11:19:09.998462Z"
    }
   },
   "cell_type": "code",
   "source": [
    "def evaluate_temp_with_else(temp):\n",
    "    if temp > 38:\n",
    "        message = \"Fever!\"\n",
    "    else:\n",
    "        message = \"Normal temperature.\"\n",
    "    return message"
   ],
   "id": "d1793e8e70b7f29c",
   "outputs": [],
   "execution_count": 6
  },
  {
   "metadata": {},
   "cell_type": "markdown",
   "source": [
    "This `evaluate_temp_with_else()` function has equivalent behavior to the `evaluate_temp()` function.\n",
    "\n",
    "In the next code cell, we call this new function, where the temperature is 37°C. In this case, `temp > 38` evaluates to `False`, so the code under the \"else\" statement is executed, and the `Normal temperature.` message is returned."
   ],
   "id": "541b236ab9c8d7ca"
  },
  {
   "metadata": {
    "ExecuteTime": {
     "end_time": "2024-05-16T11:19:10.008105Z",
     "start_time": "2024-05-16T11:19:10.006086Z"
    }
   },
   "cell_type": "code",
   "source": "print(evaluate_temp_with_else(37))",
   "id": "35fdacdd8f829c15",
   "outputs": [
    {
     "name": "stdout",
     "output_type": "stream",
     "text": [
      "Normal temperature.\n"
     ]
    }
   ],
   "execution_count": 7
  },
  {
   "metadata": {},
   "cell_type": "markdown",
   "source": [
    "As with the previous function, we indent the code blocks after the \"if\" and \"else\" statements.\n",
    "\n",
    "## \"if ... elif ... else\" statements\n",
    "\n",
    "We can use \"elif\" (which is short for \"else if\") to check if multiple conditions might be true. The function below:\n",
    "* First checks if `temp > 38`. If this is true, then the message is set to `\"Fever!\"`.\n",
    "* As long as the message has not already been set, the function then checks if `temp > 35`. If this is true, then the message is set to `\"Normal temperature.\"`.\n",
    "* Then, if still no message has been set, the \"else\" statement ensures that the message is set to `\"Low temperature.\"` message is printed.\n",
    "\n",
    "You can think of \"elif\" as saying ... \"okay, that previous condition (e.g., `temp > 38`) was false, so let's check if this new condition (e.g., `temp > 35`) might be true!\""
   ],
   "id": "9fdda316ef5d5e1"
  },
  {
   "metadata": {
    "ExecuteTime": {
     "end_time": "2024-05-16T11:19:10.030774Z",
     "start_time": "2024-05-16T11:19:10.028443Z"
    }
   },
   "cell_type": "code",
   "source": [
    "def evaluate_temp_with_elif(temp):\n",
    "    if temp > 38:\n",
    "        message = \"Fever!\"\n",
    "    elif temp > 35:\n",
    "        message = \"Normal temperature.\"\n",
    "    else:\n",
    "        message = \"Low temperature.\"\n",
    "    return message"
   ],
   "id": "36161034d57ce8c5",
   "outputs": [],
   "execution_count": 8
  },
  {
   "metadata": {},
   "cell_type": "markdown",
   "source": "In the code cell below, we run the code under the \"elif\" statement, because `temp > 38` is `False`, and` temp > 35` is `True`. Once this code is run, the function skips over the \"else\" statement and returns the message.",
   "id": "f8d6a4b6b9678512"
  },
  {
   "metadata": {
    "ExecuteTime": {
     "end_time": "2024-05-16T11:19:10.046948Z",
     "start_time": "2024-05-16T11:19:10.042850Z"
    }
   },
   "cell_type": "code",
   "source": "evaluate_temp_with_elif(36)",
   "id": "8a8c2dc32a92de59",
   "outputs": [
    {
     "data": {
      "text/plain": [
       "'Normal temperature.'"
      ]
     },
     "execution_count": 9,
     "metadata": {},
     "output_type": "execute_result"
    }
   ],
   "execution_count": 9
  },
  {
   "metadata": {},
   "cell_type": "markdown",
   "source": "Finally, we try out a case where the temperature is less than 35°C. Since the conditionals in the \"if\" and \"elif\" statements both evaluate to `False`, the code block inside the \"else\" statement is executed.",
   "id": "2d7fd1403aad3971"
  },
  {
   "metadata": {
    "ExecuteTime": {
     "end_time": "2024-05-16T11:19:10.058526Z",
     "start_time": "2024-05-16T11:19:10.055466Z"
    }
   },
   "cell_type": "code",
   "source": "evaluate_temp_with_elif(34)",
   "id": "f6a76235bf430833",
   "outputs": [
    {
     "data": {
      "text/plain": [
       "'Low temperature.'"
      ]
     },
     "execution_count": 10,
     "metadata": {},
     "output_type": "execute_result"
    }
   ],
   "execution_count": 10
  },
  {
   "metadata": {},
   "cell_type": "markdown",
   "source": [
    "## Example - Calculations\n",
    "\n",
    "In the examples so far, conditional statements were used to decide how to set the values of variables. But you can also use conditional statements to perform different calculations.\n",
    "\n",
    "In this next example, say you live in a country with only two tax brackets. Everyone earning less than 12,000 pays 25% in taxes, and anyone earning 12,000 or more pays 30%. The function below calculates how much tax is owed."
   ],
   "id": "e127be25e6a20f4b"
  },
  {
   "metadata": {
    "ExecuteTime": {
     "end_time": "2024-05-16T11:19:10.079355Z",
     "start_time": "2024-05-16T11:19:10.077215Z"
    }
   },
   "cell_type": "code",
   "source": [
    "def get_taxes(earnings):\n",
    "    if earnings < 12000:\n",
    "        tax_owed = 0.25 * earnings\n",
    "    else:\n",
    "        tax_owed = 0.30 * earnings\n",
    "    return tax_owed"
   ],
   "id": "7852931569362a1f",
   "outputs": [],
   "execution_count": 11
  },
  {
   "metadata": {},
   "cell_type": "markdown",
   "source": "The next code cell uses the function.",
   "id": "11f9bf93b3389de2"
  },
  {
   "metadata": {
    "ExecuteTime": {
     "end_time": "2024-05-16T11:19:10.089807Z",
     "start_time": "2024-05-16T11:19:10.087225Z"
    }
   },
   "cell_type": "code",
   "source": [
    "ana_taxes = get_taxes(9000)\n",
    "bob_taxes = get_taxes(15000)\n",
    "\n",
    "print(ana_taxes)\n",
    "print(bob_taxes)"
   ],
   "id": "3e9e26e31372c4c1",
   "outputs": [
    {
     "name": "stdout",
     "output_type": "stream",
     "text": [
      "2250.0\n",
      "4500.0\n"
     ]
    }
   ],
   "execution_count": 12
  },
  {
   "metadata": {},
   "cell_type": "markdown",
   "source": [
    "In each case, we call the `get_taxes()` function and use the value that is returned to set the value of a variable.\n",
    "* For `ana_taxes`, we calculate taxes owed by a person who earns 9,000. In this case, we call the `get_taxes()` function with `earnings` set to `9000`. Thus, `earnings < 12000` is `True`, and `tax_owed` is set to `.25 * 9000`. Then we return the value of `tax_owed`.\n",
    "* For `bob_taxes`, we calculate taxes owed by a person who earns 15,000. In this case, we call the `get_taxes()` function with `earnings` set to `15000`. Thus, `earnings < 12000` is `False`, and tax_owed is set to `.30 * 15000`. Then we return the value of `tax_owed`.\n",
    "\n",
    "Before we move on to another example - remember the `add_three_or_eight()` function from the introduction? It accepts a number as input and adds three if the input is less than 10, and otherwise adds eight. Can you figure out how you would write this function?"
   ],
   "id": "1b634d06543f5431"
  },
  {
   "metadata": {
    "ExecuteTime": {
     "end_time": "2024-05-16T11:19:10.097719Z",
     "start_time": "2024-05-16T11:19:10.093334Z"
    }
   },
   "cell_type": "code",
   "source": [
    "def add_three_or_eight(number):\n",
    "    if number < 10:\n",
    "        result = number + 3\n",
    "    else:\n",
    "        result = number + 8\n",
    "    return result"
   ],
   "id": "fee98f24fbde6a2a",
   "outputs": [],
   "execution_count": 13
  },
  {
   "metadata": {},
   "cell_type": "markdown",
   "source": [
    "## Example - Multiple \"elif\" statements¶\n",
    "\n",
    "So far, you have seen \"elif\" used only once in a function. But there's no limit to the number of \"elif\" statements you can use. For instance, the next block of code calculates the dose of medication (in milliliters) to give to a child, based on weight (in kilograms).\n",
    "\n",
    "Note: This function should not be used as medical advice, and represents a fake medication."
   ],
   "id": "60deeab51d1c33f7"
  },
  {
   "metadata": {
    "ExecuteTime": {
     "end_time": "2024-05-16T11:19:10.111179Z",
     "start_time": "2024-05-16T11:19:10.108259Z"
    }
   },
   "cell_type": "code",
   "source": [
    "def get_dose(weight):\n",
    "    # Dosage is 1.25 ml for anyone under 5.2 kg\n",
    "    if weight < 5.2:\n",
    "        dose = 1.25\n",
    "    elif weight < 7.9:\n",
    "        dose = 2.5\n",
    "    elif weight < 10.4:\n",
    "        dose = 3.75\n",
    "    elif weight < 15.9:\n",
    "        dose = 5\n",
    "    elif weight < 21.2:\n",
    "        dose = 7.5\n",
    "    # Dosage is 10 ml for anyone 21.2 kg or over\n",
    "    else:\n",
    "        dose = 10\n",
    "    return dose"
   ],
   "id": "7c6dffd7445fcce5",
   "outputs": [],
   "execution_count": 14
  },
  {
   "metadata": {},
   "cell_type": "markdown",
   "source": [
    "The next code cell runs the function.\n",
    "* In this case, the \"if\" statement was `False`, and all of the \"elif\" statements evaluate to `False`, until we get to `weight < 15.9`, which is `True`, and `dose` is set to `5`.\n",
    "* Once an \"elif\" statement evaluates to `True` and the code block is run, the function skips over all remaining \"elif\" and \"else\" statements. After skipping these, all that is left is the return statement, which returns the value of dose.\n",
    "* The order of the elif statements does matter here! Re-ordering the statements will return a very different result."
   ],
   "id": "283173c78750639b"
  },
  {
   "metadata": {
    "ExecuteTime": {
     "end_time": "2024-05-16T11:19:10.136122Z",
     "start_time": "2024-05-16T11:19:10.134016Z"
    }
   },
   "cell_type": "code",
   "source": "print(get_dose(12))",
   "id": "a10adc3522df03cd",
   "outputs": [
    {
     "name": "stdout",
     "output_type": "stream",
     "text": [
      "5\n"
     ]
    }
   ],
   "execution_count": 15
  }
 ],
 "metadata": {
  "kernelspec": {
   "display_name": "Python 3",
   "language": "python",
   "name": "python3"
  },
  "language_info": {
   "codemirror_mode": {
    "name": "ipython",
    "version": 2
   },
   "file_extension": ".py",
   "mimetype": "text/x-python",
   "name": "python",
   "nbconvert_exporter": "python",
   "pygments_lexer": "ipython2",
   "version": "2.7.6"
  }
 },
 "nbformat": 4,
 "nbformat_minor": 5
}
