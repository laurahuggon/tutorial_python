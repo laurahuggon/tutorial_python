{
 "cells": [
  {
   "metadata": {},
   "cell_type": "markdown",
   "source": "# Data Types",
   "id": "671260aabecc15c8"
  },
  {
   "metadata": {},
   "cell_type": "markdown",
   "source": [
    "## Introduction\n",
    "\n",
    "Whenever you create a variable in Python, it has a value with a corresponding data type. There are many different data types, such as integers, floats, booleans, and strings, all of which we'll cover in this lesson. (This is just a small subset of the available data types -- there are also dictionaries, sets, lists, tuples, and much more.)\n",
    "\n",
    "Data types are important, because they determine what kinds of actions you can do with them. For instance, you can divide two floats, but you cannot divide two strings. For instance, `12.0/2.0` makes sense, but `\"cat\"/\"dog\"` does not.\n",
    "\n",
    "To avoid errors, we need to make sure that the actions match the data types that we have.\n",
    "\n",
    "## Integers\n",
    "\n",
    "Integers are numbers without any fractional part and can be positive (`1`, `2`, `3`, ...), negative (`-1`, `-2`, `-3`, ...), or zero (`0`).\n",
    "\n",
    "In the code cell below, we set a variable `x` to an integer. We then verify the data type with `type()`, and need only pass the variable name into the parentheses."
   ],
   "id": "b898a87dc81ff873"
  },
  {
   "metadata": {
    "ExecuteTime": {
     "end_time": "2024-05-15T16:08:11.660199Z",
     "start_time": "2024-05-15T16:08:11.654580Z"
    }
   },
   "cell_type": "code",
   "source": [
    "x = 14\n",
    "print(x)\n",
    "print(type(x))"
   ],
   "id": "3b59eb23a8b857ef",
   "outputs": [
    {
     "name": "stdout",
     "output_type": "stream",
     "text": [
      "14\n",
      "<class 'int'>\n"
     ]
    }
   ],
   "execution_count": 1
  },
  {
   "metadata": {},
   "cell_type": "markdown",
   "source": [
    "In the output above, `<class 'int'>` refers to the **int**eger data type.\n",
    "\n",
    "## Floats\n",
    "\n",
    "Floats are numbers with fractional parts. They can have many numbers after decimal."
   ],
   "id": "521ab9c86d3b3b6d"
  },
  {
   "metadata": {
    "ExecuteTime": {
     "end_time": "2024-05-15T16:08:11.689182Z",
     "start_time": "2024-05-15T16:08:11.686016Z"
    }
   },
   "cell_type": "code",
   "source": [
    "nearly_pi = 3.141592653589793238462643383279502884197169399375105820974944\n",
    "print(nearly_pi)\n",
    "print(type(nearly_pi))"
   ],
   "id": "11a7bc8647f5c816",
   "outputs": [
    {
     "name": "stdout",
     "output_type": "stream",
     "text": [
      "3.141592653589793\n",
      "<class 'float'>\n"
     ]
    }
   ],
   "execution_count": 2
  },
  {
   "metadata": {},
   "cell_type": "markdown",
   "source": "We can also specify a float with a fraction.",
   "id": "98d57a0bc255dca8"
  },
  {
   "metadata": {
    "ExecuteTime": {
     "end_time": "2024-05-15T16:08:11.696696Z",
     "start_time": "2024-05-15T16:08:11.692957Z"
    }
   },
   "cell_type": "code",
   "source": [
    "almost_pi = 22/7\n",
    "print(almost_pi)\n",
    "print(type(almost_pi))"
   ],
   "id": "e7eaff1136fa63c8",
   "outputs": [
    {
     "name": "stdout",
     "output_type": "stream",
     "text": [
      "3.142857142857143\n",
      "<class 'float'>\n"
     ]
    }
   ],
   "execution_count": 3
  },
  {
   "metadata": {},
   "cell_type": "markdown",
   "source": "One function that is particularly useful for fractions is the `round()` function. It lets you round a number to a specified number of decimal places.",
   "id": "40407211bda03550"
  },
  {
   "metadata": {
    "ExecuteTime": {
     "end_time": "2024-05-15T16:08:11.705216Z",
     "start_time": "2024-05-15T16:08:11.702159Z"
    }
   },
   "cell_type": "code",
   "source": [
    "# Round to 5 decimal places\n",
    "rounded_pi = round(almost_pi, 5)\n",
    "print(rounded_pi)\n",
    "print(type(rounded_pi))"
   ],
   "id": "3e96b80f0755a79f",
   "outputs": [
    {
     "name": "stdout",
     "output_type": "stream",
     "text": [
      "3.14286\n",
      "<class 'float'>\n"
     ]
    }
   ],
   "execution_count": 4
  },
  {
   "metadata": {},
   "cell_type": "markdown",
   "source": [
    "Whenever you write an number with a decimal point, Python recognizes it as a float data type.\n",
    "\n",
    "For instance, `1.` (or `1.0`, `1.00`, etc) will be recognized as a float. This is the case, even though these numbers technically have no fractional part!"
   ],
   "id": "88db466d1fc8f496"
  },
  {
   "metadata": {
    "ExecuteTime": {
     "end_time": "2024-05-15T16:08:11.718704Z",
     "start_time": "2024-05-15T16:08:11.716052Z"
    }
   },
   "cell_type": "code",
   "source": [
    "y_float = 1.\n",
    "print(y_float)\n",
    "print(type(y_float))"
   ],
   "id": "6cf497baac2b2917",
   "outputs": [
    {
     "name": "stdout",
     "output_type": "stream",
     "text": [
      "1.0\n",
      "<class 'float'>\n"
     ]
    }
   ],
   "execution_count": 5
  },
  {
   "metadata": {},
   "cell_type": "markdown",
   "source": [
    "## Booleans\n",
    "\n",
    "Booleans represent one of two values: `True` or `False`. In the code cell below, `z_one` is set to a boolean with value `True`."
   ],
   "id": "3cdd989fe2bb4883"
  },
  {
   "metadata": {
    "ExecuteTime": {
     "end_time": "2024-05-15T16:08:11.742852Z",
     "start_time": "2024-05-15T16:08:11.740601Z"
    }
   },
   "cell_type": "code",
   "source": [
    "z_one = True\n",
    "print(z_one)\n",
    "print(type(z_one))"
   ],
   "id": "c5f07f94fdbd1da8",
   "outputs": [
    {
     "name": "stdout",
     "output_type": "stream",
     "text": [
      "True\n",
      "<class 'bool'>\n"
     ]
    }
   ],
   "execution_count": 6
  },
  {
   "metadata": {},
   "cell_type": "markdown",
   "source": "Next, `z_two` is set to a boolean with value `False`.",
   "id": "a14c1a8f07e7f0a8"
  },
  {
   "metadata": {
    "ExecuteTime": {
     "end_time": "2024-05-15T16:08:11.752159Z",
     "start_time": "2024-05-15T16:08:11.749872Z"
    }
   },
   "cell_type": "code",
   "source": [
    "z_two = False\n",
    "print(z_two)\n",
    "print(type(z_two))"
   ],
   "id": "ca27e5a286425239",
   "outputs": [
    {
     "name": "stdout",
     "output_type": "stream",
     "text": [
      "False\n",
      "<class 'bool'>\n"
     ]
    }
   ],
   "execution_count": 7
  },
  {
   "metadata": {},
   "cell_type": "markdown",
   "source": "Booleans are used to represent the truth value of an expression. Since `1 < 2` is a true statement, `z_three` takes on a value of `True`.",
   "id": "7a600ca23d277feb"
  },
  {
   "metadata": {
    "ExecuteTime": {
     "end_time": "2024-05-15T16:08:11.757881Z",
     "start_time": "2024-05-15T16:08:11.754739Z"
    }
   },
   "cell_type": "code",
   "source": [
    "z_three = (1 < 2)\n",
    "print(z_three)\n",
    "print(type(z_three))"
   ],
   "id": "405ae9cd78c19b25",
   "outputs": [
    {
     "name": "stdout",
     "output_type": "stream",
     "text": [
      "True\n",
      "<class 'bool'>\n"
     ]
    }
   ],
   "execution_count": 8
  },
  {
   "metadata": {},
   "cell_type": "markdown",
   "source": "Similarly, since `5 < 3` is a false statement, `z_four` takes on a value of `False`.",
   "id": "b8778480ee254ce4"
  },
  {
   "metadata": {
    "ExecuteTime": {
     "end_time": "2024-05-15T16:08:11.774289Z",
     "start_time": "2024-05-15T16:08:11.770882Z"
    }
   },
   "cell_type": "code",
   "source": [
    "z_four = (5 < 3)\n",
    "print(z_four)\n",
    "print(type(z_four))"
   ],
   "id": "5893106b2635a305",
   "outputs": [
    {
     "name": "stdout",
     "output_type": "stream",
     "text": [
      "False\n",
      "<class 'bool'>\n"
     ]
    }
   ],
   "execution_count": 9
  },
  {
   "metadata": {},
   "cell_type": "markdown",
   "source": "We can switch the value of a boolean by using `not`. So, `not True` is equivalent to `False`, and `not False` becomes `True`.",
   "id": "ed3d5aa7f00c3f81"
  },
  {
   "metadata": {
    "ExecuteTime": {
     "end_time": "2024-05-15T16:08:11.802563Z",
     "start_time": "2024-05-15T16:08:11.800380Z"
    }
   },
   "cell_type": "code",
   "source": [
    "z_five = not z_four\n",
    "print(z_five)\n",
    "print(type(z_five))"
   ],
   "id": "5a6dae0bb3c9f8cf",
   "outputs": [
    {
     "name": "stdout",
     "output_type": "stream",
     "text": [
      "True\n",
      "<class 'bool'>\n"
     ]
    }
   ],
   "execution_count": 10
  },
  {
   "metadata": {},
   "cell_type": "markdown",
   "source": [
    "## Strings\n",
    "\n",
    "The string data type is a collection of characters (like alphabet letters, punctuation, numerical digits, or symbols) contained in quotation marks. Strings are commonly used to represent text."
   ],
   "id": "4c08da28ecde3370"
  },
  {
   "metadata": {
    "ExecuteTime": {
     "end_time": "2024-05-15T16:08:11.811977Z",
     "start_time": "2024-05-15T16:08:11.809187Z"
    }
   },
   "cell_type": "code",
   "source": [
    "w = \"Hello, Python!\"\n",
    "print(w)\n",
    "print(type(w))"
   ],
   "id": "30f579417d5ecc3d",
   "outputs": [
    {
     "name": "stdout",
     "output_type": "stream",
     "text": [
      "Hello, Python!\n",
      "<class 'str'>\n"
     ]
    }
   ],
   "execution_count": 11
  },
  {
   "metadata": {},
   "cell_type": "markdown",
   "source": "You can get the length of a string with `len()`. `\"Hello, Python!\"` has length 14, because it has 14 characters, including the space, comma, and exclamation mark. Note that the quotation marks are not included when calculating the length.",
   "id": "b044cec6da012a16"
  },
  {
   "metadata": {
    "ExecuteTime": {
     "end_time": "2024-05-15T16:08:11.815667Z",
     "start_time": "2024-05-15T16:08:11.813264Z"
    }
   },
   "cell_type": "code",
   "source": "print(len(w))",
   "id": "f8b105ec8ef06611",
   "outputs": [
    {
     "name": "stdout",
     "output_type": "stream",
     "text": [
      "14\n"
     ]
    }
   ],
   "execution_count": 12
  },
  {
   "metadata": {},
   "cell_type": "markdown",
   "source": "One special type of string is the empty string, which has length zero.",
   "id": "d4890f4902cb867f"
  },
  {
   "metadata": {
    "ExecuteTime": {
     "end_time": "2024-05-15T16:08:11.822681Z",
     "start_time": "2024-05-15T16:08:11.820Z"
    }
   },
   "cell_type": "code",
   "source": [
    "shortest_string = \"\"\n",
    "print(type(shortest_string))\n",
    "print(len(shortest_string))"
   ],
   "id": "a3d70f916becbf2d",
   "outputs": [
    {
     "name": "stdout",
     "output_type": "stream",
     "text": [
      "<class 'str'>\n",
      "0\n"
     ]
    }
   ],
   "execution_count": 13
  },
  {
   "metadata": {},
   "cell_type": "markdown",
   "source": "If you put a number in quotation marks, it has a string data type.",
   "id": "afe3b25841160417"
  },
  {
   "metadata": {
    "ExecuteTime": {
     "end_time": "2024-05-15T16:08:11.851627Z",
     "start_time": "2024-05-15T16:08:11.849083Z"
    }
   },
   "cell_type": "code",
   "source": [
    "my_number = \"1.12321\"\n",
    "print(my_number)\n",
    "print(type(my_number))"
   ],
   "id": "84014efa2b63d13f",
   "outputs": [
    {
     "name": "stdout",
     "output_type": "stream",
     "text": [
      "1.12321\n",
      "<class 'str'>\n"
     ]
    }
   ],
   "execution_count": 14
  },
  {
   "metadata": {},
   "cell_type": "markdown",
   "source": [
    "If we have a string that is convertible to a float, we can use `float()`.\n",
    "\n",
    "This won't always work! For instance, we can convert `\"10.43430\"` and `\"3\"` to floats, but we cannot convert `\"Hello, Python!\"` to a float."
   ],
   "id": "fdd1187888cf63e7"
  },
  {
   "metadata": {
    "ExecuteTime": {
     "end_time": "2024-05-15T16:08:11.863618Z",
     "start_time": "2024-05-15T16:08:11.861206Z"
    }
   },
   "cell_type": "code",
   "source": [
    "also_my_number = float(my_number)\n",
    "print(also_my_number)\n",
    "print(type(also_my_number))"
   ],
   "id": "40a998532b374686",
   "outputs": [
    {
     "name": "stdout",
     "output_type": "stream",
     "text": [
      "1.12321\n",
      "<class 'float'>\n"
     ]
    }
   ],
   "execution_count": 15
  },
  {
   "metadata": {},
   "cell_type": "markdown",
   "source": "Just like you can add two numbers (floats or integers), you can also add two strings. It results in a longer string that combines the two original strings by concatenating them.",
   "id": "ad0a27e11bbd59eb"
  },
  {
   "metadata": {
    "ExecuteTime": {
     "end_time": "2024-05-15T16:08:11.876170Z",
     "start_time": "2024-05-15T16:08:11.872037Z"
    }
   },
   "cell_type": "code",
   "source": [
    "new_string = \"abc\" + \"def\"\n",
    "print(new_string)\n",
    "print(type(new_string))"
   ],
   "id": "38be3baf665e825a",
   "outputs": [
    {
     "name": "stdout",
     "output_type": "stream",
     "text": [
      "abcdef\n",
      "<class 'str'>\n"
     ]
    }
   ],
   "execution_count": 16
  },
  {
   "metadata": {},
   "cell_type": "markdown",
   "source": "Note that it's not possible to do subtraction or division with two strings. You also can't multiply two strings, but you can multiply a string by an integer. This again results in a string that's just the original string concatenated with itself a specified number of times.",
   "id": "dc343278d6a6df9a"
  },
  {
   "metadata": {
    "ExecuteTime": {
     "end_time": "2024-05-15T16:08:11.906466Z",
     "start_time": "2024-05-15T16:08:11.903320Z"
    }
   },
   "cell_type": "code",
   "source": [
    "newest_string = \"abc\" * 3\n",
    "print(newest_string)\n",
    "print(type(newest_string))"
   ],
   "id": "f0fce908192c54f0",
   "outputs": [
    {
     "name": "stdout",
     "output_type": "stream",
     "text": [
      "abcabcabc\n",
      "<class 'str'>\n"
     ]
    }
   ],
   "execution_count": 17
  },
  {
   "metadata": {},
   "cell_type": "markdown",
   "source": "Note that you cannot multiply a string by a float! Trying to do so will return an error.",
   "id": "ef2b95fee631708c"
  },
  {
   "metadata": {
    "ExecuteTime": {
     "end_time": "2024-05-15T16:08:12.049896Z",
     "start_time": "2024-05-15T16:08:11.912690Z"
    }
   },
   "cell_type": "code",
   "source": "will_not_work = \"abc\" * 3.",
   "id": "695adeffe8b70cb1",
   "outputs": [
    {
     "ename": "TypeError",
     "evalue": "can't multiply sequence by non-int of type 'float'",
     "output_type": "error",
     "traceback": [
      "\u001B[0;31m---------------------------------------------------------------------------\u001B[0m",
      "\u001B[0;31mTypeError\u001B[0m                                 Traceback (most recent call last)",
      "Cell \u001B[0;32mIn[18], line 1\u001B[0m\n\u001B[0;32m----> 1\u001B[0m will_not_work \u001B[38;5;241m=\u001B[39m \u001B[38;5;124;43m\"\u001B[39;49m\u001B[38;5;124;43mabc\u001B[39;49m\u001B[38;5;124;43m\"\u001B[39;49m\u001B[43m \u001B[49m\u001B[38;5;241;43m*\u001B[39;49m\u001B[43m \u001B[49m\u001B[38;5;241;43m3.\u001B[39;49m\n",
      "\u001B[0;31mTypeError\u001B[0m: can't multiply sequence by non-int of type 'float'"
     ]
    }
   ],
   "execution_count": 18
  },
  {
   "metadata": {},
   "cell_type": "markdown",
   "source": "In the error, the \"sequence\" is the string `\"abc\"`, and the \"non-int of type 'float'\" is the float (`3.`). So, the error message can be reworded to say \"can't multiply string by float\".",
   "id": "27ce4ef12fcbf8f5"
  }
 ],
 "metadata": {
  "kernelspec": {
   "display_name": "Python 3",
   "language": "python",
   "name": "python3"
  },
  "language_info": {
   "codemirror_mode": {
    "name": "ipython",
    "version": 2
   },
   "file_extension": ".py",
   "mimetype": "text/x-python",
   "name": "python",
   "nbconvert_exporter": "python",
   "pygments_lexer": "ipython2",
   "version": "2.7.6"
  }
 },
 "nbformat": 4,
 "nbformat_minor": 5
}
