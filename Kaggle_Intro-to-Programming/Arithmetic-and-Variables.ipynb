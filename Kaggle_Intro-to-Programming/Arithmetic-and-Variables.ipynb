{
 "cells": [
  {
   "metadata": {},
   "cell_type": "markdown",
   "source": "# Arithmetic and Variables",
   "id": "60f753f858492fd9"
  },
  {
   "metadata": {},
   "cell_type": "markdown",
   "source": [
    "## Printing\n",
    "\n",
    "One of the simplest (and most important!) tasks you can ask a computer to do is print a message.\n",
    "In Python, we ask a computer to print a message for us by writing `print()` and putting a message inside the parentheses and enclosed in quotation marks. Below, we ask the computer to print the message `Hello, world!`."
   ],
   "id": "e7958f69b063a6cb"
  },
  {
   "metadata": {
    "ExecuteTime": {
     "end_time": "2024-05-13T20:14:38.475583Z",
     "start_time": "2024-05-13T20:14:38.467679Z"
    }
   },
   "cell_type": "code",
   "source": "print(\"Hello, world!\")",
   "id": "59b8e0157ece2f8a",
   "outputs": [
    {
     "name": "stdout",
     "output_type": "stream",
     "text": [
      "Hello, world!\n"
     ]
    }
   ],
   "execution_count": 1
  },
  {
   "metadata": {},
   "cell_type": "markdown",
   "source": [
    "The code inside the box (known as a **code cell**), and the computer's response (called the **output** of the code) is shown below the box. As you can see, the computer printed the message we wanted.\n",
    "\n",
    "## Arithmetic\n",
    "\n",
    "We can also print the value of some arithmetic operation (such as addition, subtraction, multiplication, or division).\n",
    "For instance, in the next code cell, the computer adds 2 to 1 then prints the result, which is 3. Note that unlike when we were simply printing text, we don't use any quotation marks."
   ],
   "id": "efe98ec45b37ff8b"
  },
  {
   "metadata": {
    "ExecuteTime": {
     "end_time": "2024-05-13T20:14:38.495132Z",
     "start_time": "2024-05-13T20:14:38.491986Z"
    }
   },
   "cell_type": "code",
   "source": "print(1 + 2)",
   "id": "57a03854b0dc7343",
   "outputs": [
    {
     "name": "stdout",
     "output_type": "stream",
     "text": [
      "3\n"
     ]
    }
   ],
   "execution_count": 2
  },
  {
   "metadata": {},
   "cell_type": "markdown",
   "source": "We can also do subtraction in Python. The next code cell subtracts 5 from 9 and prints the result, which is 4.",
   "id": "e46259e5e97ebdb6"
  },
  {
   "metadata": {
    "ExecuteTime": {
     "end_time": "2024-05-13T20:14:38.501720Z",
     "start_time": "2024-05-13T20:14:38.499339Z"
    }
   },
   "cell_type": "code",
   "source": "print(9 - 5)",
   "id": "91a3fd322512dde3",
   "outputs": [
    {
     "name": "stdout",
     "output_type": "stream",
     "text": [
      "4\n"
     ]
    }
   ],
   "execution_count": 3
  },
  {
   "metadata": {},
   "cell_type": "markdown",
   "source": [
    "You can actually do a lot of calculations with Python. For example:\n",
    "* **Addition** - `+`\n",
    "* **Subtraction** - `-`\n",
    "* **Multiplication** - `*`\n",
    "* **Division** - `/`\n",
    "* **Exponent** - `**`\n",
    "\n",
    "You can control the order of operations in long calculations with parentheses."
   ],
   "id": "5748246bcf74404d"
  },
  {
   "metadata": {
    "ExecuteTime": {
     "end_time": "2024-05-13T20:14:38.508815Z",
     "start_time": "2024-05-13T20:14:38.505088Z"
    }
   },
   "cell_type": "code",
   "source": "print(((1 + 3) * (9 - 2) / 2) ** 2)",
   "id": "910ffeab513b9396",
   "outputs": [
    {
     "name": "stdout",
     "output_type": "stream",
     "text": [
      "196.0\n"
     ]
    }
   ],
   "execution_count": 4
  },
  {
   "metadata": {},
   "cell_type": "markdown",
   "source": [
    "In general, Python follows the PEMDAS rule when deciding the order of operations.\n",
    "\n",
    "## Comments\n",
    "\n",
    "We use **comments** to annotate what code is doing. They help other people to understand your code, and they can also be helpful if you haven't looked at your own code in a while. So far, the code that we have written is very short, but annotations become more important when you have written a lot of code.\n",
    "\n",
    "For instance, in the next code cell, we multiply 3 by 2. We also add a comment (`# Multiply 3 by 2`) above the code to describe what the code is doing."
   ],
   "id": "d14f4b6e8c09fa3e"
  },
  {
   "metadata": {
    "ExecuteTime": {
     "end_time": "2024-05-13T20:14:38.514553Z",
     "start_time": "2024-05-13T20:14:38.511770Z"
    }
   },
   "cell_type": "code",
   "source": [
    "# Multiply 3 by 2\n",
    "print(3 * 2)"
   ],
   "id": "d3e48e98749628e5",
   "outputs": [
    {
     "name": "stdout",
     "output_type": "stream",
     "text": [
      "6\n"
     ]
    }
   ],
   "execution_count": 5
  },
  {
   "metadata": {},
   "cell_type": "markdown",
   "source": [
    "To indicate to Python that a line is a comment (and not Python code), you need to write a hashtag (`#`) as the very first character.\n",
    "\n",
    "Once Python sees the hashtag and recognises that the line is a comment, it is completely ignored by the computer.\n",
    "\n",
    "We can see an example of not using the hashtag in the code cell below. Python errors because the text in the comment is not valid Python code, so it can't be interpreted properly."
   ],
   "id": "e89779d1cad41195"
  },
  {
   "metadata": {
    "ExecuteTime": {
     "end_time": "2024-05-13T20:14:38.518263Z",
     "start_time": "2024-05-13T20:14:38.515585Z"
    }
   },
   "cell_type": "code",
   "source": "Multiply 3 by 2",
   "id": "2692899781303049",
   "outputs": [
    {
     "ename": "SyntaxError",
     "evalue": "invalid syntax (3840778346.py, line 1)",
     "output_type": "error",
     "traceback": [
      "\u001B[0;36m  Cell \u001B[0;32mIn[6], line 1\u001B[0;36m\u001B[0m\n\u001B[0;31m    Multiply 3 by 2\u001B[0m\n\u001B[0m             ^\u001B[0m\n\u001B[0;31mSyntaxError\u001B[0m\u001B[0;31m:\u001B[0m invalid syntax\n"
     ]
    }
   ],
   "execution_count": 6
  },
  {
   "metadata": {},
   "cell_type": "markdown",
   "source": [
    "## Variables\n",
    "\n",
    "To save the results to work with later, you'll need to use **variables**.\n",
    "\n",
    "### Creating variables\n",
    "\n",
    "The next code cell creates a variable named `test_var` and assigns it the value we get when we add 5 to 4.\n",
    "\n",
    "We then print the value that is assigned to the variable, which is 9."
   ],
   "id": "873be5b98b898e7a"
  },
  {
   "metadata": {
    "ExecuteTime": {
     "end_time": "2024-05-13T20:14:38.560399Z",
     "start_time": "2024-05-13T20:14:38.556486Z"
    }
   },
   "cell_type": "code",
   "source": [
    "# Create a variable called test_var and give it a value of 4+5\n",
    "test_var = 4 + 5\n",
    "\n",
    "# Print the value of test_var\n",
    "print(test_var)"
   ],
   "id": "c5832d7e71dccb7f",
   "outputs": [
    {
     "name": "stdout",
     "output_type": "stream",
     "text": [
      "9\n"
     ]
    }
   ],
   "execution_count": 7
  },
  {
   "metadata": {},
   "cell_type": "markdown",
   "source": [
    "In general, to work with a variable, you need to begin by selecting the name you want to use. Variable names are ideally short and descriptive. They also need to satisfy several requirements:\n",
    "* They can't have spaces (e.g. `test var` is not allowed).\n",
    "* They can only include letters, numbers, and underscores (e.g. `test_var!` is not allowed).\n",
    "* They have to start with a letter or underscore (e.g. `1_var` is not allowed).\n",
    "\n",
    "To create the variable, you need to use `=` to assign the value that you want it to have.\n",
    "\n",
    "### Manipulating variables\n",
    "\n",
    "You can change the value assigned to a variable by overriding the previous value.\n",
    "\n",
    "In the code cell below, we change the value of `my_var` from 3 to 100."
   ],
   "id": "22a373261595e583"
  },
  {
   "metadata": {
    "ExecuteTime": {
     "end_time": "2024-05-13T20:14:38.567737Z",
     "start_time": "2024-05-13T20:14:38.563935Z"
    }
   },
   "cell_type": "code",
   "source": [
    "# Set the value of a new variable to 3\n",
    "my_var = 3\n",
    "\n",
    "# Print the value assigned to my_var\n",
    "print(my_var)\n",
    "\n",
    "# Change the value of the variable to 100\n",
    "my_var = 100\n",
    "\n",
    "# Print the new value assigned to my_var\n",
    "print(my_var)"
   ],
   "id": "ee09859428afffe4",
   "outputs": [
    {
     "name": "stdout",
     "output_type": "stream",
     "text": [
      "3\n",
      "100\n"
     ]
    }
   ],
   "execution_count": 8
  },
  {
   "metadata": {},
   "cell_type": "markdown",
   "source": "Note that in general, whenever you define a variable in a code cell, all of the code cells that follow also have access to that variable. For instance, we use the next code cell to access the values of `my_var` (from the code cell above) and `test_var` (from earlier in this tutorial).",
   "id": "f30fe48b5446b86f"
  },
  {
   "metadata": {
    "ExecuteTime": {
     "end_time": "2024-05-13T20:14:38.595984Z",
     "start_time": "2024-05-13T20:14:38.587353Z"
    }
   },
   "cell_type": "code",
   "source": [
    "print(my_var)\n",
    "print(test_var)"
   ],
   "id": "8c692ca78568a2dc",
   "outputs": [
    {
     "name": "stdout",
     "output_type": "stream",
     "text": [
      "100\n",
      "9\n"
     ]
    }
   ],
   "execution_count": 9
  },
  {
   "metadata": {},
   "cell_type": "markdown",
   "source": "The next code cell tells Python to increase the current value of `my_var` by 3.",
   "id": "6e30d9ad039c07a1"
  },
  {
   "metadata": {
    "ExecuteTime": {
     "end_time": "2024-05-13T20:14:38.631871Z",
     "start_time": "2024-05-13T20:14:38.629873Z"
    }
   },
   "cell_type": "code",
   "source": [
    "# Increase the value by 3\n",
    "my_var = my_var + 3\n",
    "\n",
    "# Print the value assigned to my_var\n",
    "print(my_var)"
   ],
   "id": "e91b669a5360a98a",
   "outputs": [
    {
     "name": "stdout",
     "output_type": "stream",
     "text": [
      "103\n"
     ]
    }
   ],
   "execution_count": 10
  },
  {
   "metadata": {},
   "cell_type": "markdown",
   "source": [
    "### Using multiple varibles\n",
    "\n",
    "It's common for code to use multiple variables.\n",
    "\n",
    "In the next code cell, we calculate the number of seconds in four years. This calculation uses five inputs."
   ],
   "id": "789bcc7be725dcf1"
  },
  {
   "metadata": {
    "ExecuteTime": {
     "end_time": "2024-05-13T20:14:38.667449Z",
     "start_time": "2024-05-13T20:14:38.664180Z"
    }
   },
   "cell_type": "code",
   "source": [
    "# Create variables\n",
    "num_years = 4\n",
    "days_per_year = 365 \n",
    "hours_per_day = 24\n",
    "mins_per_hour = 60\n",
    "secs_per_min = 60\n",
    "\n",
    "# Calculate number of seconds in four years\n",
    "total_secs = secs_per_min * mins_per_hour * hours_per_day * days_per_year * num_years\n",
    "print(total_secs)"
   ],
   "id": "987c474609d7bd84",
   "outputs": [
    {
     "name": "stdout",
     "output_type": "stream",
     "text": [
      "126144000\n"
     ]
    }
   ],
   "execution_count": 11
  },
  {
   "metadata": {},
   "cell_type": "markdown",
   "source": [
    "As calculated above, there are 126144000 seconds in four years.\n",
    "\n",
    "Note it is possible to do this calculation without variables as just `60 * 60 * 24 * 365 * 4`, but it is much harder to check that the calculation without variables does not have some error, because it is not as readable. When we use variables (such as `num_years`, `days_per_year`, etc), we can better keep track of each part of the calculation and more easily check for and correct any mistakes.\n",
    "\n",
    "Note that it is particularly useful to use variables when the values of the inputs can change. For instance, say we want to slightly improve our estimate by updating the value of the number of days in a year from 365 to 365.25, to account for leap years. Then we can change the value assigned to `days_per_year` without changing any of the other variables and redo the calculation."
   ],
   "id": "a745408fc5969084"
  },
  {
   "metadata": {
    "ExecuteTime": {
     "end_time": "2024-05-13T20:14:38.698665Z",
     "start_time": "2024-05-13T20:14:38.696603Z"
    }
   },
   "cell_type": "code",
   "source": [
    "# Update to include leap years\n",
    "days_per_year = 365.25\n",
    "\n",
    "# Calculate number of seconds in four years\n",
    "total_secs = secs_per_min * mins_per_hour * hours_per_day * days_per_year * num_years\n",
    "print(total_secs)"
   ],
   "id": "7928e10cb17e8bab",
   "outputs": [
    {
     "name": "stdout",
     "output_type": "stream",
     "text": [
      "126230400.0\n"
     ]
    }
   ],
   "execution_count": 12
  },
  {
   "metadata": {},
   "cell_type": "markdown",
   "source": [
    "The .0 at the end of the number is caused by the fact that in the second calculation, we used a number with a fractional part (365.25), whereas the first calculation multiplied just numbers with no fractional part.\n",
    "\n",
    "### Debugging\n",
    "\n",
    "One common error when working with variables is to accidentally introduce typos. For instance, if we spell `hours_per_day` as `hours_per_dy`, Python will error with message `NameError: name 'hours_per_dy'` is not defined."
   ],
   "id": "f041bf0be121ce6d"
  },
  {
   "metadata": {
    "ExecuteTime": {
     "end_time": "2024-05-13T20:14:38.850705Z",
     "start_time": "2024-05-13T20:14:38.706981Z"
    }
   },
   "cell_type": "code",
   "source": "print(hours_per_dy)",
   "id": "5af7e96140f7933d",
   "outputs": [
    {
     "ename": "NameError",
     "evalue": "name 'hours_per_dy' is not defined",
     "output_type": "error",
     "traceback": [
      "\u001B[0;31m---------------------------------------------------------------------------\u001B[0m",
      "\u001B[0;31mNameError\u001B[0m                                 Traceback (most recent call last)",
      "Cell \u001B[0;32mIn[13], line 1\u001B[0m\n\u001B[0;32m----> 1\u001B[0m \u001B[38;5;28mprint\u001B[39m(\u001B[43mhours_per_dy\u001B[49m)\n",
      "\u001B[0;31mNameError\u001B[0m: name 'hours_per_dy' is not defined"
     ]
    }
   ],
   "execution_count": 13
  },
  {
   "metadata": {},
   "cell_type": "markdown",
   "source": "When you see `NameError` like this, it's an indication that you should check how you spelled the variable that is references as \"not defined\". Then, to fix the error, you need only correct the spelling.",
   "id": "e4b2d924ecf01c32"
  },
  {
   "metadata": {
    "ExecuteTime": {
     "end_time": "2024-05-13T20:14:51.402395Z",
     "start_time": "2024-05-13T20:14:51.395437Z"
    }
   },
   "cell_type": "code",
   "source": "print(hours_per_day)",
   "id": "6dedf3d15aa804d3",
   "outputs": [
    {
     "name": "stdout",
     "output_type": "stream",
     "text": [
      "24\n"
     ]
    }
   ],
   "execution_count": 14
  }
 ],
 "metadata": {
  "kernelspec": {
   "display_name": "Python 3",
   "language": "python",
   "name": "python3"
  },
  "language_info": {
   "codemirror_mode": {
    "name": "ipython",
    "version": 2
   },
   "file_extension": ".py",
   "mimetype": "text/x-python",
   "name": "python",
   "nbconvert_exporter": "python",
   "pygments_lexer": "ipython2",
   "version": "2.7.6"
  }
 },
 "nbformat": 4,
 "nbformat_minor": 5
}
