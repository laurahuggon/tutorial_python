{
 "cells": [
  {
   "metadata": {},
   "cell_type": "markdown",
   "source": "# Functions",
   "id": "2bc0ee0759634758"
  },
  {
   "metadata": {},
   "cell_type": "markdown",
   "source": [
    "## Introduction\n",
    "\n",
    "In this lesson, you will learn how to organize your code with functions. A **function** is a block of code designed to perform a specific task. As you'll see, functions will let you do roughly the same calculation multiple times without duplicating any code.\n",
    "\n",
    "## Intro to functions: a simple example\n",
    "\n",
    "We begin with a simple example of a function. The `add_three()` function below accepts any number, adds three to it, and then returns the result."
   ],
   "id": "1e02b23841f4e8d3"
  },
  {
   "cell_type": "code",
   "id": "initial_id",
   "metadata": {
    "collapsed": true,
    "ExecuteTime": {
     "end_time": "2024-05-14T14:52:56.177758Z",
     "start_time": "2024-05-14T14:52:56.169107Z"
    }
   },
   "source": [
    "# Define the function\n",
    "def add_three(input_var):\n",
    "    output_var = input_var + 3\n",
    "    return output_var"
   ],
   "outputs": [],
   "execution_count": 1
  },
  {
   "metadata": {},
   "cell_type": "markdown",
   "source": [
    "Every function is composed of two pieces: a **header** and **body**.\n",
    "\n",
    "### Header\n",
    "\n",
    "The function **header** defines the name of the function and its argument(s).\n",
    "* Every function header begins with `def`, which tells Python we are about to define a function.\n",
    "* In this example, the function name is `add_three`.\n",
    "* In this example, the argument is `input_var`. The **argument** is the name of the variable that will be used as input to the function. It is always enclosed in parentheses that appear immediately after the name of the function.\n",
    "* For every function, the parentheses enclosing the function argument(s) must be followed by a colon `:`.\n",
    "\n",
    "### Body\n",
    "\n",
    "The function **body** specifies the work that the function does.\n",
    "* Every line of code in the function body must be indented exactly four spaces. You can do this by hitting the `Tab` button on your keyboard.\n",
    "* The function does its work by running all of the indented lines from top to bottom.\n",
    "    * It takes the argument as input, which in the example is `input_var`.\n",
    "    * The function creates a new variable `output_var` with the calculation `output_var = input_var + 3`.\n",
    "    * The final line of code, called the **return statement*, just returns value in `output_var` as the function's output.\n",
    "The code cell above just defines the function, but does not run it.\n",
    "\n",
    "## How to call a function\n",
    "\n",
    "In the code cell below, we run the function with `10` as the input value. We define a new variable `new_number` which is set to the output of the function."
   ],
   "id": "82afb6783e5340c6"
  },
  {
   "metadata": {
    "ExecuteTime": {
     "end_time": "2024-05-14T14:52:56.182313Z",
     "start_time": "2024-05-14T14:52:56.179610Z"
    }
   },
   "cell_type": "code",
   "source": [
    "# Run the function with 10 as input\n",
    "new_number = add_three(10)\n",
    "\n",
    "# Check that the value is 13, as expected\n",
    "print(new_number)"
   ],
   "id": "2a2208490d591cc1",
   "outputs": [
    {
     "name": "stdout",
     "output_type": "stream",
     "text": [
      "13\n"
     ]
    }
   ],
   "execution_count": 2
  },
  {
   "metadata": {},
   "cell_type": "markdown",
   "source": [
    "In more detail,\n",
    "* `add_three(10)` is the value that we get as output when we supply `10` as the value for `input_var` and call the `add_three()` function. When the function runs, it runs all of the code in its body, from top to bottom:\n",
    "    * It first calculates `output_var = input_var + 3`, which sets `output_var = 13`.\n",
    "    * The final line of code is the return statement, which returns the value of `output_var`, which is `13`.\n",
    "    * By setting `new_number = add_three(10)`, we set `new_number = 13`.\n",
    "\n",
    "Note: When we casually refer to the `add_three()` function in this tutorial, we use empty closing parentheses after the function name. This is consistent with how people generally write explanations of Python code, and the empty parentheses just make it clear that we are referring to a function, as opposed to a variable or another Python object. These parentheses should always be empty, even if the function has arguments.\n",
    "\n",
    "## Naming functions\n",
    "\n",
    "When naming your own functions, you should use only lowercase letters, with words separated by underscores instead of spaces.\n",
    "\n",
    "## A more complex example\n",
    "\n",
    "Say you are helping a friend to calculate their weekly paycheck after taxes.\n",
    "* They're in a 12% tax bracket (in other words, 12% of their salary is taken for taxes, and they only take home 88%).\n",
    "* They're paid hourly, at a rate of $15/hour.\n",
    "\n",
    "The function below calculates the paycheck based on the number of hours worked. The function is more complicated than with the first example, because the function has more lines of code and comments. Similar to the example above, the function has a single argument (`num hours`). In the function body, we:\n",
    "* Use the value for `num_hours` to specify the value for a new variable `pay_pretax`.\n",
    "* Use the value of `pay_pretax` to specify the value for a new variable `pay_aftertax`.\n",
    "* Return the value of the `pay_aftertax` variable."
   ],
   "id": "3d241b3cce85dc2"
  },
  {
   "metadata": {
    "ExecuteTime": {
     "end_time": "2024-05-14T14:52:56.186285Z",
     "start_time": "2024-05-14T14:52:56.184044Z"
    }
   },
   "cell_type": "code",
   "source": [
    "def get_pay(num_hours):\n",
    "    # Pre-tax pay, based on receiving $15/hour\n",
    "    pay_pretax = num_hours * 15\n",
    "    # After-tax pay, based on being in 12% tax bracket\n",
    "    pay_aftertax = pay_pretax * (1 - 0.12)\n",
    "    return pay_aftertax"
   ],
   "id": "2c1161dc16795bdd",
   "outputs": [],
   "execution_count": 3
  },
  {
   "metadata": {},
   "cell_type": "markdown",
   "source": "We call this function the same way we called the first function. The next code cell calculates the paycheck, based on working 40 hours. (After taxes, it is $528.)",
   "id": "9f72d3f936b9b5e6"
  },
  {
   "metadata": {
    "ExecuteTime": {
     "end_time": "2024-05-14T14:52:56.189657Z",
     "start_time": "2024-05-14T14:52:56.187411Z"
    }
   },
   "cell_type": "code",
   "source": [
    "# Calculate pay based on working 40 hours\n",
    "pay_fulltime = get_pay(40)\n",
    "print(pay_fulltime)"
   ],
   "id": "3011767173bc1d70",
   "outputs": [
    {
     "name": "stdout",
     "output_type": "stream",
     "text": [
      "528.0\n"
     ]
    }
   ],
   "execution_count": 4
  },
  {
   "metadata": {},
   "cell_type": "markdown",
   "source": "To quickly calculate pay based on a different number of hours worked, you need to supply the function with a different number. For instance, say your friend works 32 hours. (Then, they get $422.40.)",
   "id": "9288e33bfb4f580a"
  },
  {
   "metadata": {
    "ExecuteTime": {
     "end_time": "2024-05-14T14:52:56.193538Z",
     "start_time": "2024-05-14T14:52:56.191556Z"
    }
   },
   "cell_type": "code",
   "source": [
    "pay_parttime = get_pay(32)\n",
    "print(pay_parttime)"
   ],
   "id": "259aee38f5d96f23",
   "outputs": [
    {
     "name": "stdout",
     "output_type": "stream",
     "text": [
      "422.4\n"
     ]
    }
   ],
   "execution_count": 5
  },
  {
   "metadata": {},
   "cell_type": "markdown",
   "source": [
    "Because you wrote a function, you can calculate pay for different hours without having to rewrite all of the code in the calculations all over again.\n",
    "\n",
    "Functions can help you to avoid errors in your code, and you save a lot of time. In general, when coding, you should aim to write as little as possible, because each time you type out a calculation, it's another opportunity to accidentally introduce a typo or error.\n",
    "\n",
    "## Variable \"scope\"\n",
    "\n",
    "Variables defined inside the function body cannot be accessed outside of the function. For instance, the next code cell errors, because `pay_aftertax` only exists inside the function."
   ],
   "id": "975f46d9f5806e7c"
  },
  {
   "metadata": {
    "ExecuteTime": {
     "end_time": "2024-05-14T14:52:56.321494Z",
     "start_time": "2024-05-14T14:52:56.194499Z"
    }
   },
   "cell_type": "code",
   "source": "print(pay_aftertax)",
   "id": "649cc31928e27230",
   "outputs": [
    {
     "ename": "NameError",
     "evalue": "name 'pay_aftertax' is not defined",
     "output_type": "error",
     "traceback": [
      "\u001B[0;31m---------------------------------------------------------------------------\u001B[0m",
      "\u001B[0;31mNameError\u001B[0m                                 Traceback (most recent call last)",
      "Cell \u001B[0;32mIn[6], line 1\u001B[0m\n\u001B[0;32m----> 1\u001B[0m \u001B[38;5;28mprint\u001B[39m(\u001B[43mpay_aftertax\u001B[49m)\n",
      "\u001B[0;31mNameError\u001B[0m: name 'pay_aftertax' is not defined"
     ]
    }
   ],
   "execution_count": 6
  },
  {
   "metadata": {},
   "cell_type": "markdown",
   "source": [
    "You will get the same error if you try to print `pay_pretax` or `num_hours`. For this reason, if you need any information from a function, you need to make sure that appears in the return statement at the end of the function.\n",
    "\n",
    "We refer to a variable's **scope** as the part of the code where it is accessible. Variables defined *inside a function* (like `pay_aftertax`) have a local scope of that function only. However, as you've seen, variables defined *outside all functions* (like `pay_parttime`) have a global scope and can be accessed anywhere.\n",
    "\n",
    "## Functions with multiple arguments\n",
    "\n",
    "So far, you have learned how to define a function with just one argument. To define a function with multiple arguments, you only need to add more arguments inside the parentheses in the function head and separate them with a comma.\n",
    "\n",
    "We do this with the `get_pay_with_more_inputs()` function below, which calculates a weekly paycheck based on three arguments:\n",
    "\n",
    "* `num_hours` - number of hours worked in one week\n",
    "* `hourly_wage` - the hourly wage (in $/hour)\n",
    "* `tax_bracket` - percentage of your salary that is removed for taxes"
   ],
   "id": "1f6d0b58551979e7"
  },
  {
   "metadata": {
    "ExecuteTime": {
     "end_time": "2024-05-14T14:53:12.382531Z",
     "start_time": "2024-05-14T14:53:12.375272Z"
    }
   },
   "cell_type": "code",
   "source": [
    "def get_pay_with_more_inputs(num_hours, hourly_wage, tax_bracket):\n",
    "    # Pre-tax pay\n",
    "    pay_pretax = num_hours * hourly_wage\n",
    "    # After-tax pay\n",
    "    pay_aftertax = pay_pretax * (1 - tax_bracket)\n",
    "    return pay_aftertax"
   ],
   "id": "2dfe7b251f27b501",
   "outputs": [],
   "execution_count": 7
  },
  {
   "metadata": {},
   "cell_type": "markdown",
   "source": [
    "Then, to call the function, you need to provide one value for each input, again separated by a comma.\n",
    "\n",
    "In the code cell below, we calculate the pay after taxes for someone who works 40 hours, makes $24/hour, and is in a 22% tax bracket."
   ],
   "id": "a43e086d58ff711"
  },
  {
   "metadata": {
    "ExecuteTime": {
     "end_time": "2024-05-14T14:53:13.898766Z",
     "start_time": "2024-05-14T14:53:13.894502Z"
    }
   },
   "cell_type": "code",
   "source": [
    "higher_pay_aftertax = get_pay_with_more_inputs(40, 24, .22)\n",
    "print(higher_pay_aftertax)"
   ],
   "id": "a4a243d9a72aee7d",
   "outputs": [
    {
     "name": "stdout",
     "output_type": "stream",
     "text": [
      "748.8000000000001\n"
     ]
    }
   ],
   "execution_count": 8
  },
  {
   "metadata": {},
   "cell_type": "markdown",
   "source": [
    "Depending on how we plan to use this new function `get_pay_with_more_inputs()`, it can be more useful than the original function `get_pay()`, because it addresses more cases. Instead of potentially incorrectly assuming the hourly wage and tax bracket, the new function allows the user to specify the correct values. But, if you're sure the hourly wage and tax bracket won't need to change, the new function is just more complicated than necessary. In general, when defining functions, you'll need to consider how much flexibility you need, based on your use case.\n",
    "\n",
    "## Functions with no arguments\n",
    "\n",
    "Note that it's possible to define function with no arguments, and that don't have a return statement. The `print_hello()` function in the code cell below is an example."
   ],
   "id": "7d9c7f4292735941"
  },
  {
   "metadata": {
    "ExecuteTime": {
     "end_time": "2024-05-14T14:53:16.351788Z",
     "start_time": "2024-05-14T14:53:16.345650Z"
    }
   },
   "cell_type": "code",
   "source": [
    "# Define the function with no arguments and with no return\n",
    "def print_hello():\n",
    "    print(\"Hello, you!\")\n",
    "    print(\"Good morning!\")\n",
    "    \n",
    "# Call the function\n",
    "print_hello()"
   ],
   "id": "4326c0dd5ff640c7",
   "outputs": [
    {
     "name": "stdout",
     "output_type": "stream",
     "text": [
      "Hello, you!\n",
      "Good morning!\n"
     ]
    }
   ],
   "execution_count": 9
  }
 ],
 "metadata": {
  "kernelspec": {
   "display_name": "Python 3",
   "language": "python",
   "name": "python3"
  },
  "language_info": {
   "codemirror_mode": {
    "name": "ipython",
    "version": 2
   },
   "file_extension": ".py",
   "mimetype": "text/x-python",
   "name": "python",
   "nbconvert_exporter": "python",
   "pygments_lexer": "ipython2",
   "version": "2.7.6"
  }
 },
 "nbformat": 4,
 "nbformat_minor": 5
}
