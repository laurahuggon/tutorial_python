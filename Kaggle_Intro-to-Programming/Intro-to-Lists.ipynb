{
 "cells": [
  {
   "metadata": {},
   "cell_type": "markdown",
   "source": "# Intro to Lists",
   "id": "b98a6a9cf4a5a04b"
  },
  {
   "metadata": {},
   "cell_type": "markdown",
   "source": [
    "## Introduction\n",
    "\n",
    "When doing data science, you need a way to organize your data so you can work with it efficiently. Python has many data structures available for holding your data, such as lists, sets, dictionaries, and tuples. In this tutorial, you will learn how to work with Python lists.\n",
    "\n",
    "## Motivation\n",
    "\n",
    "In the \"Petal to the Metal\" competition, your goal is to classify the species of a flower based only on its image. (This is a common task in computer vision, and it is called image classification.) Towards this goal, say you organize the names of the flower species in the data.\n",
    "\n",
    "One way to do this is by organizing the names in a Python string."
   ],
   "id": "3bf472a68cc886d8"
  },
  {
   "cell_type": "code",
   "id": "initial_id",
   "metadata": {
    "collapsed": true,
    "ExecuteTime": {
     "end_time": "2024-05-17T12:08:08.737367Z",
     "start_time": "2024-05-17T12:08:08.725811Z"
    }
   },
   "source": [
    "flowers = \"pink primrose,hard-leaved pocket orchid,canterbury bells,sweet pea,english marigold,tiger lily,moon orchid,bird of paradise,monkshood,globe thistle\"\n",
    "\n",
    "print(type(flowers))\n",
    "print(flowers)"
   ],
   "outputs": [
    {
     "name": "stdout",
     "output_type": "stream",
     "text": [
      "<class 'str'>\n",
      "pink primrose,hard-leaved pocket orchid,canterbury bells,sweet pea,english marigold,tiger lily,moon orchid,bird of paradise,monkshood,globe thistle\n"
     ]
    }
   ],
   "execution_count": 1
  },
  {
   "metadata": {},
   "cell_type": "markdown",
   "source": "Even better is to represent the same data in a Python list. To create a list, you need to use square brackets (`[`, `]`) and separate each item with a comma. Every item in the list is a Python string, so each is enclosed in quotation marks.",
   "id": "91ba3664e5e2d873"
  },
  {
   "metadata": {
    "ExecuteTime": {
     "end_time": "2024-05-17T12:09:00.624605Z",
     "start_time": "2024-05-17T12:09:00.613604Z"
    }
   },
   "cell_type": "code",
   "source": [
    "flowers_list = [\"pink primrose\", \"hard-leaved pocket orchid\", \"canterbury bells\", \"sweet pea\", \"english marigold\", \"tiger lily\", \"moon orchid\", \"bird of paradise\", \"monkshood\", \"globe thistle\"]\n",
    "\n",
    "print(type(flowers_list))\n",
    "print(flowers_list)"
   ],
   "id": "4d28472e74bb53bb",
   "outputs": [
    {
     "name": "stdout",
     "output_type": "stream",
     "text": [
      "<class 'list'>\n",
      "['pink primrose', 'hard-leaved pocket orchid', 'canterbury bells', 'sweet pea', 'english marigold', 'tiger lily', 'moon orchid', 'bird of paradise', 'monkshood', 'globe thistle']\n"
     ]
    }
   ],
   "execution_count": 2
  },
  {
   "metadata": {},
   "cell_type": "markdown",
   "source": [
    "At first glance, it doesn't look too different, whether you represent the information in a Python string or list. But as you will see, there are a lot of tasks that you can more easily do with a list. For instance, a list will make it easier to:\n",
    "* Get an item at a specified position (first, second, third, etc).\n",
    "* Check the number of items.\n",
    "* Add and remove items.\n",
    "\n",
    "## Lists\n",
    "\n",
    "### Length\n",
    "\n",
    "We can count the number of entries in any list with `len()`, which is short for \"length\". You need only supply the name of the list in the parentheses."
   ],
   "id": "9cf4ed530607b0f2"
  },
  {
   "metadata": {
    "ExecuteTime": {
     "end_time": "2024-05-17T12:10:22.445479Z",
     "start_time": "2024-05-17T12:10:22.434035Z"
    }
   },
   "cell_type": "code",
   "source": [
    "# The list has ten entries\n",
    "print(len(flowers_list))"
   ],
   "id": "8d9fcb314cc93df1",
   "outputs": [
    {
     "name": "stdout",
     "output_type": "stream",
     "text": [
      "10\n"
     ]
    }
   ],
   "execution_count": 3
  },
  {
   "metadata": {},
   "cell_type": "markdown",
   "source": [
    "## Indexing\n",
    "\n",
    "We can refer to any item in the list according to its position in the list (first, second, third, etc). This is called indexing.\n",
    "\n",
    "Note that Python uses zero-based indexing, which means that:\n",
    "* To pull the first entry in the list, you use 0,\n",
    "* To pull the second entry in the list, you use 1, and\n",
    "* To pull the final entry in the list, you use one less than the length of the list."
   ],
   "id": "8edbf8324fc80914"
  },
  {
   "metadata": {
    "ExecuteTime": {
     "end_time": "2024-05-17T12:20:58.421234Z",
     "start_time": "2024-05-17T12:20:58.277724Z"
    }
   },
   "cell_type": "code",
   "source": [
    "print(\"First entry:\", flowers_list[0])\n",
    "print(\"Second entry:\", flowers_list[1])\n",
    "\n",
    "# The list has length ten, so we refer to final entry with 9\n",
    "print(\"Last entry:\", flowers_list[9])"
   ],
   "id": "49c428642081d822",
   "outputs": [
    {
     "name": "stdout",
     "output_type": "stream",
     "text": [
      "First entry: pink primrose\n",
      "Second entry: hard-leaved pocket orchid\n",
      "Last entry: globe thistle\n"
     ]
    }
   ],
   "execution_count": 4
  },
  {
   "metadata": {},
   "cell_type": "markdown",
   "source": [
    "**Side Note:** You may have noticed that in the code cell above, we use a single `print()` to print multiple items (both a Python string (like `\"First entry:\"`) and a value from the list (like `flowers_list[0]`). To print multiple things in Python with a single command, we need only separate them with a comma.\n",
    "\n",
    "## Slicing\n",
    "\n",
    "You can also pull a segment of a list (for instance, the first three entries or the last two entries). This is called **slicing**. For instance:\n",
    "* To pull the first `x` entries, you use `[:x]`, and\n",
    "* To pull the last `y` entries, you use `[-y:]`."
   ],
   "id": "7815d8feb4644c37"
  },
  {
   "metadata": {
    "ExecuteTime": {
     "end_time": "2024-05-17T12:23:14.204049Z",
     "start_time": "2024-05-17T12:23:14.177685Z"
    }
   },
   "cell_type": "code",
   "source": [
    "print(\"First three entries:\", flowers_list[:3])\n",
    "print(\"Final two entries:\", flowers_list[-2:])"
   ],
   "id": "8f6dd35ceebf60c8",
   "outputs": [
    {
     "name": "stdout",
     "output_type": "stream",
     "text": [
      "First three entries: ['pink primrose', 'hard-leaved pocket orchid', 'canterbury bells']\n",
      "Final two entries: ['monkshood', 'globe thistle']\n"
     ]
    }
   ],
   "execution_count": 5
  },
  {
   "metadata": {},
   "cell_type": "markdown",
   "source": [
    "## Removing items\n",
    "\n",
    "Remove an item from a list with `.remove()`, and put the item you would like to remove in parentheses."
   ],
   "id": "a8f196d046b419f5"
  },
  {
   "metadata": {
    "ExecuteTime": {
     "end_time": "2024-05-17T12:23:53.909925Z",
     "start_time": "2024-05-17T12:23:53.894983Z"
    }
   },
   "cell_type": "code",
   "source": [
    "flowers_list.remove(\"globe thistle\")\n",
    "print(flowers_list)"
   ],
   "id": "d8afbec148a3e5ed",
   "outputs": [
    {
     "name": "stdout",
     "output_type": "stream",
     "text": [
      "['pink primrose', 'hard-leaved pocket orchid', 'canterbury bells', 'sweet pea', 'english marigold', 'tiger lily', 'moon orchid', 'bird of paradise', 'monkshood']\n"
     ]
    }
   ],
   "execution_count": 6
  },
  {
   "metadata": {},
   "cell_type": "markdown",
   "source": [
    "## Adding items\n",
    "\n",
    "Add an item to a list with `.append()`, and put the item you would like to add in parentheses"
   ],
   "id": "dc17297cccd973d"
  },
  {
   "metadata": {
    "ExecuteTime": {
     "end_time": "2024-05-17T12:33:02.513469Z",
     "start_time": "2024-05-17T12:33:02.494558Z"
    }
   },
   "cell_type": "code",
   "source": [
    "flowers_list.append(\"snapdragon\")\n",
    "print(flowers_list)"
   ],
   "id": "4761c44a87704b0b",
   "outputs": [
    {
     "name": "stdout",
     "output_type": "stream",
     "text": [
      "['pink primrose', 'hard-leaved pocket orchid', 'canterbury bells', 'sweet pea', 'english marigold', 'tiger lily', 'moon orchid', 'bird of paradise', 'monkshood', 'snapdragon']\n"
     ]
    }
   ],
   "execution_count": 7
  },
  {
   "metadata": {},
   "cell_type": "markdown",
   "source": [
    "## Lists are not just for strings\n",
    "\n",
    "So far, we have only worked with lists where each item in the list is a string. But lists can have items with any data type, including booleans, integers, and floats.\n",
    "\n",
    "As an example, consider hardcover book sales in the first week of April 2000 in a retail store."
   ],
   "id": "e5c0b254f370cff"
  },
  {
   "metadata": {
    "ExecuteTime": {
     "end_time": "2024-05-17T12:33:35.454775Z",
     "start_time": "2024-05-17T12:33:35.441055Z"
    }
   },
   "cell_type": "code",
   "source": "hardcover_sales = [139, 128, 172, 139, 191, 168, 170]",
   "id": "d7bdc58c3c1f0792",
   "outputs": [],
   "execution_count": 8
  },
  {
   "metadata": {},
   "cell_type": "markdown",
   "source": "Here, `hardcover_sales` is a list of integers. Similar to when working with strings, you can still do things like get the length, pull individual entries, and extend the list.",
   "id": "936eed7d693b7bee"
  },
  {
   "metadata": {
    "ExecuteTime": {
     "end_time": "2024-05-17T12:35:45.565214Z",
     "start_time": "2024-05-17T12:35:45.550592Z"
    }
   },
   "cell_type": "code",
   "source": [
    "print(\"Length of the list:\", len(hardcover_sales))\n",
    "print(\"Entry at index 2:\", hardcover_sales[2])"
   ],
   "id": "c28111449cbc0553",
   "outputs": [
    {
     "name": "stdout",
     "output_type": "stream",
     "text": [
      "Length of the list: 7\n",
      "Entry at index 2: 172\n"
     ]
    }
   ],
   "execution_count": 9
  },
  {
   "metadata": {},
   "cell_type": "markdown",
   "source": "You can also get the minimum with `min()` and the maximum with `max()`.",
   "id": "adacf191ef22022a"
  },
  {
   "metadata": {
    "ExecuteTime": {
     "end_time": "2024-05-17T12:36:15.367465Z",
     "start_time": "2024-05-17T12:36:15.354799Z"
    }
   },
   "cell_type": "code",
   "source": [
    "print(\"Minimum:\", min(hardcover_sales))\n",
    "print(\"Maximum:\", max(hardcover_sales))"
   ],
   "id": "403aab104628c19b",
   "outputs": [
    {
     "name": "stdout",
     "output_type": "stream",
     "text": [
      "Minimum: 128\n",
      "Maximum: 191\n"
     ]
    }
   ],
   "execution_count": 10
  },
  {
   "metadata": {},
   "cell_type": "markdown",
   "source": "To add every item in the list, use `sum()`.",
   "id": "17972e4d5712991c"
  },
  {
   "metadata": {
    "ExecuteTime": {
     "end_time": "2024-05-17T12:36:45.102696Z",
     "start_time": "2024-05-17T12:36:45.088860Z"
    }
   },
   "cell_type": "code",
   "source": "print(\"Total books sold in one week:\", sum(hardcover_sales))",
   "id": "37a378e8d74012f5",
   "outputs": [
    {
     "name": "stdout",
     "output_type": "stream",
     "text": [
      "Total books sold in one week: 1107\n"
     ]
    }
   ],
   "execution_count": 11
  },
  {
   "metadata": {},
   "cell_type": "markdown",
   "source": "We can also do similar calculations with slices of the list. In the next code cell, we take the sum from the first five days `(sum(hardcover_sales[:5]))`, and then divide by five to get the average number of books sold in the first five days.",
   "id": "82982258955f35d2"
  },
  {
   "metadata": {
    "ExecuteTime": {
     "end_time": "2024-05-17T12:38:16.778257Z",
     "start_time": "2024-05-17T12:38:16.766919Z"
    }
   },
   "cell_type": "code",
   "source": "print(\"Average books sold in first five days:\", sum(hardcover_sales[:5])/5)",
   "id": "9da5a5ee711dd3da",
   "outputs": [
    {
     "name": "stdout",
     "output_type": "stream",
     "text": [
      "Average books sold in first five days: 153.8\n"
     ]
    }
   ],
   "execution_count": 12
  }
 ],
 "metadata": {
  "kernelspec": {
   "display_name": "Python 3",
   "language": "python",
   "name": "python3"
  },
  "language_info": {
   "codemirror_mode": {
    "name": "ipython",
    "version": 2
   },
   "file_extension": ".py",
   "mimetype": "text/x-python",
   "name": "python",
   "nbconvert_exporter": "python",
   "pygments_lexer": "ipython2",
   "version": "2.7.6"
  }
 },
 "nbformat": 4,
 "nbformat_minor": 5
}
