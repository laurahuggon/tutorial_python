{
 "cells": [
  {
   "metadata": {},
   "cell_type": "markdown",
   "source": [
    "# Missing Values\n",
    "\n",
    "In this tutorial, you will learn three approaches to **dealing with missing values**. Then you'll compare the effectiveness of these approaches on a real-world dataset.\n",
    "\n",
    "## Introduction\n",
    "\n",
    "There are many ways data can end up with missing values. For example,\n",
    "* A 2 bedroom house won't include a value for the size of a third bedroom.\n",
    "* A survey respondent may choose not to share his income.\n",
    "\n",
    "Most machine learning libraries (including `scikit-learn`) give an error if you try to build a model using missing values. So you'll need to choose one of the strategies below.\n",
    "\n",
    "## Approaches to missing values\n",
    "\n",
    "### 1. A simple option: drop columns with missing values.\n",
    "\n",
    "The simplest option is to drop columns with missing values.\n",
    "\n",
    "Unless most values in the dropped column are missing, the model loses access to a lot of (potentially useful!) information with this approach. As an extreme example, consider a dataset with 10,000 rows, where one important column is missing a single entry. This approach would drop the column entirely!\n",
    "\n",
    "### 2. A better option: imputation\n",
    "\n",
    "**Imputation** fills in the missing values with some number. For instance, we can fill in the mean value along each column.\n",
    "\n",
    "The imputed values won't be exactly right in most cases, but it usually leads to more accurate models than you would get from dropping the column entirely.\n",
    "\n",
    "### 3. An extension to imputation\n",
    "\n",
    "Imputation is the standard approach, and it usually works well. However, imputed values may be systematically above or below their actual values (which weren't collected in the dataset). Or rows with missing values may be unique in some other way. In that case, your model would make better predictions by considering which values were originally missing.\n",
    "\n",
    "In this approach, we impute the missing values, as before. And, additionally, for each column with missing entries in the original dataset, we add a new column that shows the location of the imputed entries.\n",
    "\n",
    "In some cases, this will meaningfully improve results. In other cases, it doesn't help at all.\n",
    "\n",
    "## Example\n",
    "\n",
    "In this example, we will work with the [Melbourne Housing dataset](https://www.kaggle.com/datasets/dansbecker/melbourne-housing-snapshot). Our model will use information such as the number of rooms and land size to predict home price."
   ],
   "id": "1c831f045bd0af62"
  },
  {
   "cell_type": "code",
   "id": "initial_id",
   "metadata": {
    "collapsed": true,
    "ExecuteTime": {
     "end_time": "2025-09-25T08:41:20.194770Z",
     "start_time": "2025-09-25T08:41:19.636131Z"
    }
   },
   "source": [
    "import pandas as pd\n",
    "from sklearn.model_selection import train_test_split\n",
    "\n",
    "# Load data\n",
    "data = pd.read_csv(\"./input/melb_data.csv\")\n",
    "\n",
    "# Select target\n",
    "y = data.Price\n",
    "\n",
    "# Only use numerical predictors for simplicity\n",
    "melb_predictors = data.drop([\"Price\"], axis=1)\n",
    "X = melb_predictors.select_dtypes(exclude=[\"object\"])\n",
    "\n",
    "# Divide data into training and validation subsets\n",
    "X_train, X_valid, y_train, y_valid = train_test_split(X, y, train_size=0.8, test_size=0.2, random_state=0)"
   ],
   "outputs": [],
   "execution_count": 1
  },
  {
   "metadata": {},
   "cell_type": "markdown",
   "source": [
    "### Define function to measure quality of each approach\n",
    "\n",
    "We define a function `score_dataset()` to compare different approaches to dealing with missing values. This function reports the mean absolute error (MAE) from a random forest model."
   ],
   "id": "f3c861239b3fb918"
  },
  {
   "metadata": {
    "ExecuteTime": {
     "end_time": "2025-09-25T08:41:20.291685Z",
     "start_time": "2025-09-25T08:41:20.197796Z"
    }
   },
   "cell_type": "code",
   "source": [
    "from sklearn.ensemble import RandomForestRegressor\n",
    "from sklearn.metrics import mean_absolute_error\n",
    "\n",
    "# Function for comparing different approaches\n",
    "def score_dataset(X_train, X_valid, y_train, y_valid):\n",
    "    model = RandomForestRegressor(n_estimators=10, random_state=0)\n",
    "    model.fit(X_train, y_train)\n",
    "    preds = model.predict(X_valid)\n",
    "    return mean_absolute_error(y_valid, preds)"
   ],
   "id": "4a692c206129b4cd",
   "outputs": [],
   "execution_count": 2
  },
  {
   "metadata": {},
   "cell_type": "markdown",
   "source": [
    "### Score from approach 1 (drop columns with missing values)\n",
    "\n",
    "Since we are working with both training and validation sets, we are careful to drop the same columns in both DataFrames."
   ],
   "id": "2e4c3a0127954afb"
  },
  {
   "metadata": {
    "ExecuteTime": {
     "end_time": "2025-09-25T08:41:20.592277Z",
     "start_time": "2025-09-25T08:41:20.359313Z"
    }
   },
   "cell_type": "code",
   "source": [
    "# Get names of columns with missing values\n",
    "cols_with_missing = [col for col in X_train.columns if X_train[col].isnull().any()]\n",
    "\n",
    "# Drop columns in training and validation data\n",
    "reduced_X_train = X_train.drop(cols_with_missing, axis=1)\n",
    "reduced_X_valid = X_valid.drop(cols_with_missing, axis=1)\n",
    "\n",
    "print(\"MAE from approach 1 (drop columns with missing values):\")\n",
    "print(score_dataset(reduced_X_train, reduced_X_valid, y_train, y_valid))"
   ],
   "id": "a298248dda66919c",
   "outputs": [
    {
     "name": "stdout",
     "output_type": "stream",
     "text": [
      "MAE from approach 1 (drop columns with missing values):\n",
      "183550.22137772635\n"
     ]
    }
   ],
   "execution_count": 3
  },
  {
   "metadata": {},
   "cell_type": "markdown",
   "source": [
    "### Score from approach 2 (imputation)\n",
    "\n",
    "Next, we use `SimpleImputer` to replace missing values with the mean value along each column.\n",
    "\n",
    "Although it's simple, filling in the mean value generally performs quite well (but this varies by dataset). While statisticians have experimented with more complex ways to determine imputed values (such as **regression imputation**, for instance), the complex strategies typically give no additional benefit once you plug the results into sophisticated machine learning models."
   ],
   "id": "cf1db32abc6162b1"
  },
  {
   "metadata": {
    "ExecuteTime": {
     "end_time": "2025-09-25T08:41:20.903955Z",
     "start_time": "2025-09-25T08:41:20.601294Z"
    }
   },
   "cell_type": "code",
   "source": [
    "from sklearn.impute import SimpleImputer\n",
    "\n",
    "# Make an instance of the imputer\n",
    "my_imputer = SimpleImputer()\n",
    "# fit_transform() does two things:\n",
    "    # 1. fit: calculate the imputative values (e.g. mean of each column in the X_train)\n",
    "    # 2. transform: replaced the missing values in X_train using those values\n",
    "# The result is returned as a NumPy array so pd.DataFrame() converts it back to a DataFram\n",
    "imputed_X_train = pd.DataFrame(my_imputer.fit_transform(X_train))\n",
    "# transform() applies the imputation using the values learned from X_train\n",
    "imputed_X_valid = pd.DataFrame(my_imputer.transform(X_valid))\n",
    "\n",
    "# Imputation removes column names; put them back\n",
    "imputed_X_train.columns = X_train.columns\n",
    "imputed_X_valid.columns = X_valid.columns\n",
    "\n",
    "print(\"MAE from approach 2 (imputation):\")\n",
    "print(score_dataset(imputed_X_train, imputed_X_valid, y_train, y_valid))"
   ],
   "id": "5eb1e18385daca53",
   "outputs": [
    {
     "name": "stdout",
     "output_type": "stream",
     "text": [
      "MAE from approach 2 (imputation):\n",
      "178166.46269899711\n"
     ]
    }
   ],
   "execution_count": 4
  },
  {
   "metadata": {},
   "cell_type": "markdown",
   "source": [
    "We see that approach 2 has a lower MAE than approach 1, so approach 2 performed better on this dataset.\n",
    "\n",
    "### Score from approach 3 (an extension to imputation)\n",
    "\n",
    "Next, we impute the missing values, while also keeping track of which values were imputed."
   ],
   "id": "60d29b7e0a682020"
  },
  {
   "metadata": {
    "ExecuteTime": {
     "end_time": "2025-09-25T08:41:21.235858Z",
     "start_time": "2025-09-25T08:41:20.916235Z"
    }
   },
   "cell_type": "code",
   "source": [
    "# Make copy to avoid changing original data (when imputing)\n",
    "X_train_plus = X_train.copy()\n",
    "X_valid_plus = X_valid.copy()\n",
    "\n",
    "# Make new columns indicating what will be imputed\n",
    "for col in cols_with_missing: # For each column with missing data:\n",
    "    # Create a new column called \"col-name_was_missing\"\n",
    "    # .isnull() checks each value and returns True if it was missing, False if not\n",
    "    X_train_plus[col + '_was_missing'] = X_train_plus[col].isnull()\n",
    "    X_valid_plus[col + '_was_missing'] = X_valid_plus[col].isnull()\n",
    "\n",
    "# Imputation\n",
    "my_imputer = SimpleImputer()\n",
    "imputed_X_train_plus = pd.DataFrame(my_imputer.fit_transform(X_train_plus))\n",
    "imputed_X_valid_plus = pd.DataFrame(my_imputer.transform(X_valid_plus))\n",
    "\n",
    "# Imputation removed column names; put them back\n",
    "imputed_X_train_plus.columns = X_train_plus.columns\n",
    "imputed_X_valid_plus.columns = X_valid_plus.columns\n",
    "\n",
    "print(\"MAE from approach 3 (an extension to imputation):\")\n",
    "print(score_dataset(imputed_X_train_plus, imputed_X_valid_plus, y_train, y_valid))"
   ],
   "id": "3a7234db8bca3797",
   "outputs": [
    {
     "name": "stdout",
     "output_type": "stream",
     "text": [
      "MAE from approach 3 (an extension to imputation):\n",
      "178927.503183954\n"
     ]
    }
   ],
   "execution_count": 5
  },
  {
   "metadata": {},
   "cell_type": "markdown",
   "source": [
    "As we can see, approach 3 preformed slightly worse than approach 2.\n",
    "\n",
    "So, why did imputation perform better than dropping the columns?\n",
    "\n",
    "The training data has 10,864 rows and 12 columns, where three columns contain missing data. For each column, less than half of the entries are missing. Thus, dropping the columns removes a lot of useful information, and so it makes sense that imputation would perform better."
   ],
   "id": "14a8e6c5ad0ac511"
  },
  {
   "metadata": {
    "ExecuteTime": {
     "end_time": "2025-09-25T08:41:21.254116Z",
     "start_time": "2025-09-25T08:41:21.251519Z"
    }
   },
   "cell_type": "code",
   "source": [
    "# Shape of training data\n",
    "print(X_train.shape)\n",
    "\n",
    "# Number of missing values in each column of the training data\n",
    "missing_val_count_by_column = (X_train.isnull().sum())\n",
    "print(missing_val_count_by_column[missing_val_count_by_column > 0])"
   ],
   "id": "8f2934dc41053228",
   "outputs": [
    {
     "name": "stdout",
     "output_type": "stream",
     "text": [
      "(10864, 12)\n",
      "Car               49\n",
      "BuildingArea    5156\n",
      "YearBuilt       4307\n",
      "dtype: int64\n"
     ]
    }
   ],
   "execution_count": 6
  },
  {
   "metadata": {},
   "cell_type": "markdown",
   "source": [
    "## Conclusion\n",
    "\n",
    "As is common, imputing missing values (in approach 2 and approach 3) yielded better results, relative to when we simply dropped columns with missing values (approach 1)."
   ],
   "id": "2f000da387434002"
  }
 ],
 "metadata": {
  "kernelspec": {
   "display_name": "Python 3",
   "language": "python",
   "name": "python3"
  },
  "language_info": {
   "codemirror_mode": {
    "name": "ipython",
    "version": 2
   },
   "file_extension": ".py",
   "mimetype": "text/x-python",
   "name": "python",
   "nbconvert_exporter": "python",
   "pygments_lexer": "ipython2",
   "version": "2.7.6"
  }
 },
 "nbformat": 4,
 "nbformat_minor": 5
}
