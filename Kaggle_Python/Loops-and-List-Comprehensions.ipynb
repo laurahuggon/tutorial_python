{
 "cells": [
  {
   "metadata": {},
   "cell_type": "markdown",
   "source": "# Loops and List Comprehensions",
   "id": "5bd2fc9c0a39004"
  },
  {
   "metadata": {},
   "cell_type": "markdown",
   "source": [
    "## Loops\n",
    "\n",
    "Loops are a way to repeatedly execute some code. Here's an example:"
   ],
   "id": "52cc703060e8893a"
  },
  {
   "cell_type": "code",
   "id": "initial_id",
   "metadata": {
    "collapsed": true,
    "ExecuteTime": {
     "end_time": "2024-05-29T12:14:33.528441Z",
     "start_time": "2024-05-29T12:14:33.521823Z"
    }
   },
   "source": [
    "planets = ['Mercury', 'Venus', 'Earth', 'Mars', 'Jupiter', 'Saturn', 'Uranus', 'Neptune']\n",
    "for planet in planets:\n",
    "    print(planet, end=' ') # Print all on same line"
   ],
   "outputs": [
    {
     "name": "stdout",
     "output_type": "stream",
     "text": [
      "Mercury Venus Earth Mars Jupiter Saturn Uranus Neptune "
     ]
    }
   ],
   "execution_count": 1
  },
  {
   "metadata": {},
   "cell_type": "markdown",
   "source": [
    "The `for` loop specifies:\n",
    "* The variable name to use (in this case, `planet`).\n",
    "* The set of values to loop over (in this case, `planets`)\n",
    "\n",
    "You use the word \"`in`\" to link them together.\n",
    "\n",
    "The object to the right of the \"`in`\" can be any object that supports iteration. Basically, if it can be thought of as a group of things, you can probably loop over it. In addition to lists, we can iterate over the elements of a tuple:"
   ],
   "id": "fb0c4a68ca5fa622"
  },
  {
   "metadata": {
    "ExecuteTime": {
     "end_time": "2024-05-29T12:14:33.537004Z",
     "start_time": "2024-05-29T12:14:33.532504Z"
    }
   },
   "cell_type": "code",
   "source": [
    "multiplicands = (2, 2, 2, 3, 3, 5)\n",
    "product = 1\n",
    "for mult in multiplicands:\n",
    "    product = product * mult\n",
    "product"
   ],
   "id": "c7613c3b742f5297",
   "outputs": [
    {
     "data": {
      "text/plain": [
       "360"
      ]
     },
     "execution_count": 2,
     "metadata": {},
     "output_type": "execute_result"
    }
   ],
   "execution_count": 2
  },
  {
   "metadata": {},
   "cell_type": "markdown",
   "source": "You can even loop through each character in a string:",
   "id": "c174f5b782b3a1b4"
  },
  {
   "metadata": {
    "ExecuteTime": {
     "end_time": "2024-05-29T12:14:33.547788Z",
     "start_time": "2024-05-29T12:14:33.545029Z"
    }
   },
   "cell_type": "code",
   "source": [
    "s = 'steganograpHy is the practicE of conceaLing a file, message, image, or video within another fiLe, message, image, Or video.'\n",
    "msg = ''\n",
    "# print all the uppercase letters in s, one at a time\n",
    "for char in s:\n",
    "    if char.isupper():\n",
    "        print(char, end='')"
   ],
   "id": "41e97e3b64da5c38",
   "outputs": [
    {
     "name": "stdout",
     "output_type": "stream",
     "text": [
      "HELLO"
     ]
    }
   ],
   "execution_count": 3
  },
  {
   "metadata": {},
   "cell_type": "markdown",
   "source": [
    "## `range()`\n",
    "\n",
    "`range()` is a function that returns a sequence of numbers. It turns out to be very useful for writing loops.\n",
    "\n",
    "For example, if we want to repeat some action 5 times:"
   ],
   "id": "7b0b7b37ac11fb9f"
  },
  {
   "metadata": {
    "ExecuteTime": {
     "end_time": "2024-05-29T12:14:33.558283Z",
     "start_time": "2024-05-29T12:14:33.554856Z"
    }
   },
   "cell_type": "code",
   "source": [
    "for i in range(5):\n",
    "    print(\"Doing important work. i =\", i)"
   ],
   "id": "cb9fd90ceb0ba604",
   "outputs": [
    {
     "name": "stdout",
     "output_type": "stream",
     "text": [
      "Doing important work. i = 0\n",
      "Doing important work. i = 1\n",
      "Doing important work. i = 2\n",
      "Doing important work. i = 3\n",
      "Doing important work. i = 4\n"
     ]
    }
   ],
   "execution_count": 4
  },
  {
   "metadata": {},
   "cell_type": "markdown",
   "source": [
    "## `while` loops\n",
    "\n",
    "The other type of loop in Python is a `while` loop, which iterates until some condition is met:"
   ],
   "id": "8a5827838512a83"
  },
  {
   "metadata": {
    "ExecuteTime": {
     "end_time": "2024-05-29T12:14:33.570115Z",
     "start_time": "2024-05-29T12:14:33.566768Z"
    }
   },
   "cell_type": "code",
   "source": [
    "i = 0\n",
    "while i < 10:\n",
    "    print(i, end=\" \")\n",
    "    i += 1 # Increase values of i by 1"
   ],
   "id": "905d1e82c1e6e0c1",
   "outputs": [
    {
     "name": "stdout",
     "output_type": "stream",
     "text": [
      "0 1 2 3 4 5 6 7 8 9 "
     ]
    }
   ],
   "execution_count": 5
  },
  {
   "metadata": {},
   "cell_type": "markdown",
   "source": [
    "The argument of the `while` loop is evaluated as a boolean statement, and the loop is executed until the statement evaluates to False.\n",
    "\n",
    "## List comprehensions\n",
    "\n",
    "List comprehensions are one of Python's most beloved and unique features. The easiest way to understand them is probably to just look at a few examples:"
   ],
   "id": "6b8017f9fe29f0ab"
  },
  {
   "metadata": {
    "ExecuteTime": {
     "end_time": "2024-05-29T12:14:33.603360Z",
     "start_time": "2024-05-29T12:14:33.599965Z"
    }
   },
   "cell_type": "code",
   "source": [
    "multiply_two = [n * 2 for n in range(10)]\n",
    "multiply_two"
   ],
   "id": "b8350990d776d66f",
   "outputs": [
    {
     "data": {
      "text/plain": [
       "[0, 2, 4, 6, 8, 10, 12, 14, 16, 18]"
      ]
     },
     "execution_count": 6,
     "metadata": {},
     "output_type": "execute_result"
    }
   ],
   "execution_count": 6
  },
  {
   "metadata": {},
   "cell_type": "markdown",
   "source": "Here's how we would do the same thing without a list comprehension:",
   "id": "9d0317c7e9e0420c"
  },
  {
   "metadata": {
    "ExecuteTime": {
     "end_time": "2024-05-29T12:14:33.615841Z",
     "start_time": "2024-05-29T12:14:33.611254Z"
    }
   },
   "cell_type": "code",
   "source": [
    "multiply_two = []\n",
    "for n in range(10):\n",
    "    multiply_two.append(n * 2)\n",
    "multiply_two"
   ],
   "id": "af0bf11e9be944bd",
   "outputs": [
    {
     "data": {
      "text/plain": [
       "[0, 2, 4, 6, 8, 10, 12, 14, 16, 18]"
      ]
     },
     "execution_count": 7,
     "metadata": {},
     "output_type": "execute_result"
    }
   ],
   "execution_count": 7
  },
  {
   "metadata": {},
   "cell_type": "markdown",
   "source": "We can also add an if condition:",
   "id": "2615eed8f143ec72"
  },
  {
   "metadata": {
    "ExecuteTime": {
     "end_time": "2024-05-29T12:14:33.640815Z",
     "start_time": "2024-05-29T12:14:33.637301Z"
    }
   },
   "cell_type": "code",
   "source": [
    "short_planets = [planet for planet in planets if len(planet) < 6] # For each planet (item) in planets (iterable), it checks if the length of the planet's name is less than 6 characters. If True, planet (expression) is added to short_planets.\n",
    "short_planets"
   ],
   "id": "88aa7d0197ad7743",
   "outputs": [
    {
     "data": {
      "text/plain": [
       "['Venus', 'Earth', 'Mars']"
      ]
     },
     "execution_count": 8,
     "metadata": {},
     "output_type": "execute_result"
    }
   ],
   "execution_count": 8
  },
  {
   "metadata": {},
   "cell_type": "markdown",
   "source": "Here's an example of filtering with an `if` condition *and* applying some transformation to the loop variable:",
   "id": "c3439030c5a7da11"
  },
  {
   "metadata": {
    "ExecuteTime": {
     "end_time": "2024-05-29T12:14:33.693569Z",
     "start_time": "2024-05-29T12:14:33.688172Z"
    }
   },
   "cell_type": "code",
   "source": [
    "# str.upper() returns an all-caps version of a string\n",
    "loud_short_planets = [planet.upper() + '!' for planet in planets if len(planet) < 6]\n",
    "loud_short_planets"
   ],
   "id": "eafe422916a7f904",
   "outputs": [
    {
     "data": {
      "text/plain": [
       "['VENUS!', 'EARTH!', 'MARS!']"
      ]
     },
     "execution_count": 9,
     "metadata": {},
     "output_type": "execute_result"
    }
   ],
   "execution_count": 9
  },
  {
   "metadata": {},
   "cell_type": "markdown",
   "source": "People usually write these on a single line, but you might find the structure clearer when it's split up over 3 lines:",
   "id": "3e518693dcd5ce8e"
  },
  {
   "metadata": {
    "ExecuteTime": {
     "end_time": "2024-05-29T12:14:33.736150Z",
     "start_time": "2024-05-29T12:14:33.729963Z"
    }
   },
   "cell_type": "code",
   "source": [
    "[\n",
    "    planet.upper() + '!' \n",
    "    for planet in planets \n",
    "    if len(planet) < 6\n",
    "]"
   ],
   "id": "27b987499179286f",
   "outputs": [
    {
     "data": {
      "text/plain": [
       "['VENUS!', 'EARTH!', 'MARS!']"
      ]
     },
     "execution_count": 10,
     "metadata": {},
     "output_type": "execute_result"
    }
   ],
   "execution_count": 10
  },
  {
   "metadata": {},
   "cell_type": "markdown",
   "source": [
    "List comprehensions combined with functions like `min`, `max`, and `sum` can lead to impressive one-line solutions for problems that would otherwise require several lines of code.\n",
    "\n",
    "For example, compare the following two cells of code that do the same thing."
   ],
   "id": "34803febcd0761e0"
  },
  {
   "metadata": {
    "ExecuteTime": {
     "end_time": "2024-05-29T12:14:33.775336Z",
     "start_time": "2024-05-29T12:14:33.772676Z"
    }
   },
   "cell_type": "code",
   "source": [
    "def count_negatives(nums):\n",
    "    \"\"\"Return the number of negative numbers in the given list.\n",
    "    \n",
    "    >>> count_negatives([5, -1, -2, 0, 3])\n",
    "    2\n",
    "    \"\"\"\n",
    "    n_negative = 0\n",
    "    for num in nums:\n",
    "        if num < 0:\n",
    "            n_negative = n_negative + 1\n",
    "    return n_negative"
   ],
   "id": "511231b6b69c22cf",
   "outputs": [],
   "execution_count": 11
  },
  {
   "metadata": {},
   "cell_type": "markdown",
   "source": "Here's a solution using a list comprehension:",
   "id": "6affb9b190ce15b0"
  },
  {
   "metadata": {
    "ExecuteTime": {
     "end_time": "2024-05-29T12:14:33.789305Z",
     "start_time": "2024-05-29T12:14:33.786473Z"
    }
   },
   "cell_type": "code",
   "source": [
    "def count_negatives(nums):\n",
    "    return len([num for num in nums if num < 0]) # For each num (item) in nums (iterable), it checks if num is less than 0. If True, num (expression) is added to a list. len() returns the count of numbers in this list."
   ],
   "id": "84b4dfdfa7ba8e63",
   "outputs": [],
   "execution_count": 12
  },
  {
   "metadata": {},
   "cell_type": "markdown",
   "source": "Well if all we care about is minimizing the length of our code, this third solution is better still!",
   "id": "5b26b125121f44b9"
  },
  {
   "metadata": {
    "ExecuteTime": {
     "end_time": "2024-05-29T12:14:33.794580Z",
     "start_time": "2024-05-29T12:14:33.791378Z"
    }
   },
   "cell_type": "code",
   "source": [
    "def count_negatives(nums):\n",
    "    # Reminder: in the \"booleans and conditionals\" exercises, we learned about a quirk of Python where it calculates something like True + True + False + True to be equal to 3.\n",
    "    return sum([num < 0 for num in nums]) # For each num (item) in nums (iterable), it checks if num is less than 0. True evaluates to 1 and False evaluates to 0, which can then be summed together."
   ],
   "id": "3494e3a355b5ccab",
   "outputs": [],
   "execution_count": 13
  },
  {
   "metadata": {},
   "cell_type": "markdown",
   "source": [
    "Which of these solutions is the \"best\" is entirely subjective. Solving a problem with less code is always nice, but it's worth keeping in mind the following lines from The Zen of Python:\n",
    "\n",
    "Readability counts.\n",
    "Explicit is better than implicit.\n",
    "\n",
    "So, use these tools to make compact readable programs. But when you have to choose, favor code that is easy for others to understand."
   ],
   "id": "dd52224a767ce86"
  }
 ],
 "metadata": {
  "kernelspec": {
   "display_name": "Python 3",
   "language": "python",
   "name": "python3"
  },
  "language_info": {
   "codemirror_mode": {
    "name": "ipython",
    "version": 2
   },
   "file_extension": ".py",
   "mimetype": "text/x-python",
   "name": "python",
   "nbconvert_exporter": "python",
   "pygments_lexer": "ipython2",
   "version": "2.7.6"
  }
 },
 "nbformat": 4,
 "nbformat_minor": 5
}
