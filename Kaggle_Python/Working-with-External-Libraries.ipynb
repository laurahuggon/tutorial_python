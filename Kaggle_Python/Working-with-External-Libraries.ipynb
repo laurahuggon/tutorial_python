{
 "cells": [
  {
   "metadata": {},
   "cell_type": "markdown",
   "source": "# Working with External Libraries",
   "id": "3294e8b36320ae25"
  },
  {
   "metadata": {},
   "cell_type": "markdown",
   "source": [
    "In this tutorial, you will learn about **imports** in Python, get some tips for working with unfamiliar libraries (and the objects they return), and dig into **operator overloading**.\n",
    "\n",
    "## Imports\n",
    "\n",
    "So far we've talked about types and functions which are built-in to the language.\n",
    "\n",
    "But one of the best things about Python (especially if you're a data scientist) is the vast number of high-quality custom libraries that have been written for it.\n",
    "\n",
    "Some of these libraries are in the \"standard library\", meaning you can find them anywhere you run Python. Other libraries can be easily added, even if they aren't always shipped with Python.\n",
    "\n",
    "Either way, we'll access this code with **imports**.\n",
    "\n",
    "We'll start our example by importing `math` from the standard library."
   ],
   "id": "4214a38f5c13f55b"
  },
  {
   "cell_type": "code",
   "id": "initial_id",
   "metadata": {
    "collapsed": true,
    "ExecuteTime": {
     "end_time": "2024-06-27T14:09:22.320255Z",
     "start_time": "2024-06-27T14:09:22.314614Z"
    }
   },
   "source": [
    "import math\n",
    "\n",
    "print(\"It's math! It has type {}\".format(type(math)))"
   ],
   "outputs": [
    {
     "name": "stdout",
     "output_type": "stream",
     "text": [
      "It's math! It has type <class 'module'>\n"
     ]
    }
   ],
   "execution_count": 1
  },
  {
   "metadata": {},
   "cell_type": "markdown",
   "source": "`math` is a module. A module is just a collection of variables (a *namespace*, if you like) defined by someone else. We can see all the names in `math` using the built-in function `dir()`.",
   "id": "fde36f47e2842b36"
  },
  {
   "metadata": {
    "ExecuteTime": {
     "end_time": "2024-06-27T14:09:23.157327Z",
     "start_time": "2024-06-27T14:09:23.153583Z"
    }
   },
   "cell_type": "code",
   "source": "print(dir(math))",
   "id": "b622b7bf38176376",
   "outputs": [
    {
     "name": "stdout",
     "output_type": "stream",
     "text": [
      "['__doc__', '__file__', '__loader__', '__name__', '__package__', '__spec__', 'acos', 'acosh', 'asin', 'asinh', 'atan', 'atan2', 'atanh', 'ceil', 'comb', 'copysign', 'cos', 'cosh', 'degrees', 'dist', 'e', 'erf', 'erfc', 'exp', 'expm1', 'fabs', 'factorial', 'floor', 'fmod', 'frexp', 'fsum', 'gamma', 'gcd', 'hypot', 'inf', 'isclose', 'isfinite', 'isinf', 'isnan', 'isqrt', 'lcm', 'ldexp', 'lgamma', 'log', 'log10', 'log1p', 'log2', 'modf', 'nan', 'nextafter', 'perm', 'pi', 'pow', 'prod', 'radians', 'remainder', 'sin', 'sinh', 'sqrt', 'tan', 'tanh', 'tau', 'trunc', 'ulp']\n"
     ]
    }
   ],
   "execution_count": 2
  },
  {
   "metadata": {},
   "cell_type": "markdown",
   "source": "We can access these variables using dot syntax. Some of them refer to simple values, like `math.pi`:",
   "id": "87d786d7b53e7a60"
  },
  {
   "metadata": {
    "ExecuteTime": {
     "end_time": "2024-06-27T14:09:23.333236Z",
     "start_time": "2024-06-27T14:09:23.326025Z"
    }
   },
   "cell_type": "code",
   "source": "print(\"pi to 4 significant digits = {:.4}\".format(math.pi))",
   "id": "89ba54d7df25d065",
   "outputs": [
    {
     "name": "stdout",
     "output_type": "stream",
     "text": [
      "pi to 4 significant digits = 3.142\n"
     ]
    }
   ],
   "execution_count": 3
  },
  {
   "metadata": {},
   "cell_type": "markdown",
   "source": "But most of what we'll find in the module are functions, like `math.log`:",
   "id": "e58f8246abd54ec6"
  },
  {
   "metadata": {
    "ExecuteTime": {
     "end_time": "2024-06-27T14:09:23.511055Z",
     "start_time": "2024-06-27T14:09:23.507534Z"
    }
   },
   "cell_type": "code",
   "source": "math.log(32, 2)",
   "id": "31735337589b4045",
   "outputs": [
    {
     "data": {
      "text/plain": [
       "5.0"
      ]
     },
     "execution_count": 4,
     "metadata": {},
     "output_type": "execute_result"
    }
   ],
   "execution_count": 4
  },
  {
   "metadata": {},
   "cell_type": "markdown",
   "source": "Of course, if we don't know what `math.log` does, we can call `help()` on it:",
   "id": "99bc6494b02b100f"
  },
  {
   "metadata": {
    "ExecuteTime": {
     "end_time": "2024-06-27T14:09:23.658051Z",
     "start_time": "2024-06-27T14:09:23.656078Z"
    }
   },
   "cell_type": "code",
   "source": "help(math.log)",
   "id": "567b3a5202462fe3",
   "outputs": [
    {
     "name": "stdout",
     "output_type": "stream",
     "text": [
      "Help on built-in function log in module math:\n",
      "\n",
      "log(...)\n",
      "    log(x, [base=math.e])\n",
      "    Return the logarithm of x to the given base.\n",
      "    \n",
      "    If the base not specified, returns the natural logarithm (base e) of x.\n",
      "\n"
     ]
    }
   ],
   "execution_count": 5
  },
  {
   "metadata": {},
   "cell_type": "markdown",
   "source": "We can also call `help()` on the module itself. This will give us the combined documentation for *all* the functions and values in the module (as well as a high-level description of the module). Click the \"output\" button to see the whole `math` help page.",
   "id": "172f1e5995583dd9"
  },
  {
   "metadata": {
    "ExecuteTime": {
     "end_time": "2024-06-27T14:09:23.847451Z",
     "start_time": "2024-06-27T14:09:23.839853Z"
    }
   },
   "cell_type": "code",
   "source": "help(math)",
   "id": "a24bea32d09eaf5",
   "outputs": [
    {
     "name": "stdout",
     "output_type": "stream",
     "text": [
      "Help on module math:\n",
      "\n",
      "NAME\n",
      "    math\n",
      "\n",
      "MODULE REFERENCE\n",
      "    https://docs.python.org/3.10/library/math.html\n",
      "    \n",
      "    The following documentation is automatically generated from the Python\n",
      "    source files.  It may be incomplete, incorrect or include features that\n",
      "    are considered implementation detail and may vary between Python\n",
      "    implementations.  When in doubt, consult the module reference at the\n",
      "    location listed above.\n",
      "\n",
      "DESCRIPTION\n",
      "    This module provides access to the mathematical functions\n",
      "    defined by the C standard.\n",
      "\n",
      "FUNCTIONS\n",
      "    acos(x, /)\n",
      "        Return the arc cosine (measured in radians) of x.\n",
      "        \n",
      "        The result is between 0 and pi.\n",
      "    \n",
      "    acosh(x, /)\n",
      "        Return the inverse hyperbolic cosine of x.\n",
      "    \n",
      "    asin(x, /)\n",
      "        Return the arc sine (measured in radians) of x.\n",
      "        \n",
      "        The result is between -pi/2 and pi/2.\n",
      "    \n",
      "    asinh(x, /)\n",
      "        Return the inverse hyperbolic sine of x.\n",
      "    \n",
      "    atan(x, /)\n",
      "        Return the arc tangent (measured in radians) of x.\n",
      "        \n",
      "        The result is between -pi/2 and pi/2.\n",
      "    \n",
      "    atan2(y, x, /)\n",
      "        Return the arc tangent (measured in radians) of y/x.\n",
      "        \n",
      "        Unlike atan(y/x), the signs of both x and y are considered.\n",
      "    \n",
      "    atanh(x, /)\n",
      "        Return the inverse hyperbolic tangent of x.\n",
      "    \n",
      "    ceil(x, /)\n",
      "        Return the ceiling of x as an Integral.\n",
      "        \n",
      "        This is the smallest integer >= x.\n",
      "    \n",
      "    comb(n, k, /)\n",
      "        Number of ways to choose k items from n items without repetition and without order.\n",
      "        \n",
      "        Evaluates to n! / (k! * (n - k)!) when k <= n and evaluates\n",
      "        to zero when k > n.\n",
      "        \n",
      "        Also called the binomial coefficient because it is equivalent\n",
      "        to the coefficient of k-th term in polynomial expansion of the\n",
      "        expression (1 + x)**n.\n",
      "        \n",
      "        Raises TypeError if either of the arguments are not integers.\n",
      "        Raises ValueError if either of the arguments are negative.\n",
      "    \n",
      "    copysign(x, y, /)\n",
      "        Return a float with the magnitude (absolute value) of x but the sign of y.\n",
      "        \n",
      "        On platforms that support signed zeros, copysign(1.0, -0.0)\n",
      "        returns -1.0.\n",
      "    \n",
      "    cos(x, /)\n",
      "        Return the cosine of x (measured in radians).\n",
      "    \n",
      "    cosh(x, /)\n",
      "        Return the hyperbolic cosine of x.\n",
      "    \n",
      "    degrees(x, /)\n",
      "        Convert angle x from radians to degrees.\n",
      "    \n",
      "    dist(p, q, /)\n",
      "        Return the Euclidean distance between two points p and q.\n",
      "        \n",
      "        The points should be specified as sequences (or iterables) of\n",
      "        coordinates.  Both inputs must have the same dimension.\n",
      "        \n",
      "        Roughly equivalent to:\n",
      "            sqrt(sum((px - qx) ** 2.0 for px, qx in zip(p, q)))\n",
      "    \n",
      "    erf(x, /)\n",
      "        Error function at x.\n",
      "    \n",
      "    erfc(x, /)\n",
      "        Complementary error function at x.\n",
      "    \n",
      "    exp(x, /)\n",
      "        Return e raised to the power of x.\n",
      "    \n",
      "    expm1(x, /)\n",
      "        Return exp(x)-1.\n",
      "        \n",
      "        This function avoids the loss of precision involved in the direct evaluation of exp(x)-1 for small x.\n",
      "    \n",
      "    fabs(x, /)\n",
      "        Return the absolute value of the float x.\n",
      "    \n",
      "    factorial(x, /)\n",
      "        Find x!.\n",
      "        \n",
      "        Raise a ValueError if x is negative or non-integral.\n",
      "    \n",
      "    floor(x, /)\n",
      "        Return the floor of x as an Integral.\n",
      "        \n",
      "        This is the largest integer <= x.\n",
      "    \n",
      "    fmod(x, y, /)\n",
      "        Return fmod(x, y), according to platform C.\n",
      "        \n",
      "        x % y may differ.\n",
      "    \n",
      "    frexp(x, /)\n",
      "        Return the mantissa and exponent of x, as pair (m, e).\n",
      "        \n",
      "        m is a float and e is an int, such that x = m * 2.**e.\n",
      "        If x is 0, m and e are both 0.  Else 0.5 <= abs(m) < 1.0.\n",
      "    \n",
      "    fsum(seq, /)\n",
      "        Return an accurate floating point sum of values in the iterable seq.\n",
      "        \n",
      "        Assumes IEEE-754 floating point arithmetic.\n",
      "    \n",
      "    gamma(x, /)\n",
      "        Gamma function at x.\n",
      "    \n",
      "    gcd(*integers)\n",
      "        Greatest Common Divisor.\n",
      "    \n",
      "    hypot(...)\n",
      "        hypot(*coordinates) -> value\n",
      "        \n",
      "        Multidimensional Euclidean distance from the origin to a point.\n",
      "        \n",
      "        Roughly equivalent to:\n",
      "            sqrt(sum(x**2 for x in coordinates))\n",
      "        \n",
      "        For a two dimensional point (x, y), gives the hypotenuse\n",
      "        using the Pythagorean theorem:  sqrt(x*x + y*y).\n",
      "        \n",
      "        For example, the hypotenuse of a 3/4/5 right triangle is:\n",
      "        \n",
      "            >>> hypot(3.0, 4.0)\n",
      "            5.0\n",
      "    \n",
      "    isclose(a, b, *, rel_tol=1e-09, abs_tol=0.0)\n",
      "        Determine whether two floating point numbers are close in value.\n",
      "        \n",
      "          rel_tol\n",
      "            maximum difference for being considered \"close\", relative to the\n",
      "            magnitude of the input values\n",
      "          abs_tol\n",
      "            maximum difference for being considered \"close\", regardless of the\n",
      "            magnitude of the input values\n",
      "        \n",
      "        Return True if a is close in value to b, and False otherwise.\n",
      "        \n",
      "        For the values to be considered close, the difference between them\n",
      "        must be smaller than at least one of the tolerances.\n",
      "        \n",
      "        -inf, inf and NaN behave similarly to the IEEE 754 Standard.  That\n",
      "        is, NaN is not close to anything, even itself.  inf and -inf are\n",
      "        only close to themselves.\n",
      "    \n",
      "    isfinite(x, /)\n",
      "        Return True if x is neither an infinity nor a NaN, and False otherwise.\n",
      "    \n",
      "    isinf(x, /)\n",
      "        Return True if x is a positive or negative infinity, and False otherwise.\n",
      "    \n",
      "    isnan(x, /)\n",
      "        Return True if x is a NaN (not a number), and False otherwise.\n",
      "    \n",
      "    isqrt(n, /)\n",
      "        Return the integer part of the square root of the input.\n",
      "    \n",
      "    lcm(*integers)\n",
      "        Least Common Multiple.\n",
      "    \n",
      "    ldexp(x, i, /)\n",
      "        Return x * (2**i).\n",
      "        \n",
      "        This is essentially the inverse of frexp().\n",
      "    \n",
      "    lgamma(x, /)\n",
      "        Natural logarithm of absolute value of Gamma function at x.\n",
      "    \n",
      "    log(...)\n",
      "        log(x, [base=math.e])\n",
      "        Return the logarithm of x to the given base.\n",
      "        \n",
      "        If the base not specified, returns the natural logarithm (base e) of x.\n",
      "    \n",
      "    log10(x, /)\n",
      "        Return the base 10 logarithm of x.\n",
      "    \n",
      "    log1p(x, /)\n",
      "        Return the natural logarithm of 1+x (base e).\n",
      "        \n",
      "        The result is computed in a way which is accurate for x near zero.\n",
      "    \n",
      "    log2(x, /)\n",
      "        Return the base 2 logarithm of x.\n",
      "    \n",
      "    modf(x, /)\n",
      "        Return the fractional and integer parts of x.\n",
      "        \n",
      "        Both results carry the sign of x and are floats.\n",
      "    \n",
      "    nextafter(x, y, /)\n",
      "        Return the next floating-point value after x towards y.\n",
      "    \n",
      "    perm(n, k=None, /)\n",
      "        Number of ways to choose k items from n items without repetition and with order.\n",
      "        \n",
      "        Evaluates to n! / (n - k)! when k <= n and evaluates\n",
      "        to zero when k > n.\n",
      "        \n",
      "        If k is not specified or is None, then k defaults to n\n",
      "        and the function returns n!.\n",
      "        \n",
      "        Raises TypeError if either of the arguments are not integers.\n",
      "        Raises ValueError if either of the arguments are negative.\n",
      "    \n",
      "    pow(x, y, /)\n",
      "        Return x**y (x to the power of y).\n",
      "    \n",
      "    prod(iterable, /, *, start=1)\n",
      "        Calculate the product of all the elements in the input iterable.\n",
      "        \n",
      "        The default start value for the product is 1.\n",
      "        \n",
      "        When the iterable is empty, return the start value.  This function is\n",
      "        intended specifically for use with numeric values and may reject\n",
      "        non-numeric types.\n",
      "    \n",
      "    radians(x, /)\n",
      "        Convert angle x from degrees to radians.\n",
      "    \n",
      "    remainder(x, y, /)\n",
      "        Difference between x and the closest integer multiple of y.\n",
      "        \n",
      "        Return x - n*y where n*y is the closest integer multiple of y.\n",
      "        In the case where x is exactly halfway between two multiples of\n",
      "        y, the nearest even value of n is used. The result is always exact.\n",
      "    \n",
      "    sin(x, /)\n",
      "        Return the sine of x (measured in radians).\n",
      "    \n",
      "    sinh(x, /)\n",
      "        Return the hyperbolic sine of x.\n",
      "    \n",
      "    sqrt(x, /)\n",
      "        Return the square root of x.\n",
      "    \n",
      "    tan(x, /)\n",
      "        Return the tangent of x (measured in radians).\n",
      "    \n",
      "    tanh(x, /)\n",
      "        Return the hyperbolic tangent of x.\n",
      "    \n",
      "    trunc(x, /)\n",
      "        Truncates the Real x to the nearest Integral toward 0.\n",
      "        \n",
      "        Uses the __trunc__ magic method.\n",
      "    \n",
      "    ulp(x, /)\n",
      "        Return the value of the least significant bit of the float x.\n",
      "\n",
      "DATA\n",
      "    e = 2.718281828459045\n",
      "    inf = inf\n",
      "    nan = nan\n",
      "    pi = 3.141592653589793\n",
      "    tau = 6.283185307179586\n",
      "\n",
      "FILE\n",
      "    /Users/laurahuggon/mambaforge/lib/python3.10/lib-dynload/math.cpython-310-darwin.so\n",
      "\n",
      "\n"
     ]
    }
   ],
   "execution_count": 6
  },
  {
   "metadata": {},
   "cell_type": "markdown",
   "source": [
    "### Other import syntax\n",
    "\n",
    "If we know we'll be using functions in `math` frequently we can import it under a shorter alias to save some typing (though in this case \"math\" is already pretty short)."
   ],
   "id": "c24aa46a29289a09"
  },
  {
   "metadata": {
    "ExecuteTime": {
     "end_time": "2024-06-27T14:09:24.000348Z",
     "start_time": "2024-06-27T14:09:23.997381Z"
    }
   },
   "cell_type": "code",
   "source": [
    "import math as mt\n",
    "mt.pi"
   ],
   "id": "985174f068fc2fe4",
   "outputs": [
    {
     "data": {
      "text/plain": [
       "3.141592653589793"
      ]
     },
     "execution_count": 7,
     "metadata": {},
     "output_type": "execute_result"
    }
   ],
   "execution_count": 7
  },
  {
   "metadata": {},
   "cell_type": "markdown",
   "source": [
    "You may have seen code that does this with certain popular libraries like Pandas, Numpy, Tensorflow, or Matplotlib. For example, it's a common convention to `import numpy as np` and `import pandas as pd`.\n",
    "\n",
    "The `as` simply renames the imported module. It's equivalent to doing something like:"
   ],
   "id": "e4a157c361f24c"
  },
  {
   "metadata": {
    "ExecuteTime": {
     "end_time": "2024-06-27T14:09:24.162353Z",
     "start_time": "2024-06-27T14:09:24.159925Z"
    }
   },
   "cell_type": "code",
   "source": [
    "import math\n",
    "mt = math"
   ],
   "id": "672e6b8ca76be4cc",
   "outputs": [],
   "execution_count": 8
  },
  {
   "metadata": {},
   "cell_type": "markdown",
   "source": "Wouldn't it be great if we could refer to all the variables in the `math` module by themselves? i.e. if we could just refer to `pi` instead of `math.pi` or `mt.pi`? Good news: we can do that.",
   "id": "2c7b83eb7a07cacd"
  },
  {
   "metadata": {
    "ExecuteTime": {
     "end_time": "2024-06-27T14:09:24.326075Z",
     "start_time": "2024-06-27T14:09:24.323925Z"
    }
   },
   "cell_type": "code",
   "source": [
    "from math import *\n",
    "print(pi, log(32, 2))"
   ],
   "id": "c22cf96f93fe203d",
   "outputs": [
    {
     "name": "stdout",
     "output_type": "stream",
     "text": [
      "3.141592653589793 5.0\n"
     ]
    }
   ],
   "execution_count": 9
  },
  {
   "metadata": {},
   "cell_type": "markdown",
   "source": [
    "`import *` makes all the module's variables directly accessible to you (without any dotted prefix).\n",
    "\n",
    "Bad news: some purists might grumble at you for doing this.\n",
    "\n",
    "Worse: they kind of have a point."
   ],
   "id": "b3d9e258017081e6"
  },
  {
   "metadata": {
    "ExecuteTime": {
     "end_time": "2024-06-27T14:09:24.981887Z",
     "start_time": "2024-06-27T14:09:24.489222Z"
    }
   },
   "cell_type": "code",
   "source": [
    "from math import *\n",
    "from numpy import *\n",
    "print(pi, log(32, 2))"
   ],
   "id": "b93f462f763022ee",
   "outputs": [
    {
     "ename": "TypeError",
     "evalue": "return arrays must be of ArrayType",
     "output_type": "error",
     "traceback": [
      "\u001B[0;31m---------------------------------------------------------------------------\u001B[0m",
      "\u001B[0;31mTypeError\u001B[0m                                 Traceback (most recent call last)",
      "Cell \u001B[0;32mIn[10], line 3\u001B[0m\n\u001B[1;32m      1\u001B[0m \u001B[38;5;28;01mfrom\u001B[39;00m \u001B[38;5;21;01mmath\u001B[39;00m \u001B[38;5;28;01mimport\u001B[39;00m \u001B[38;5;241m*\u001B[39m\n\u001B[1;32m      2\u001B[0m \u001B[38;5;28;01mfrom\u001B[39;00m \u001B[38;5;21;01mnumpy\u001B[39;00m \u001B[38;5;28;01mimport\u001B[39;00m \u001B[38;5;241m*\u001B[39m\n\u001B[0;32m----> 3\u001B[0m \u001B[38;5;28mprint\u001B[39m(pi, \u001B[43mlog\u001B[49m\u001B[43m(\u001B[49m\u001B[38;5;241;43m32\u001B[39;49m\u001B[43m,\u001B[49m\u001B[43m \u001B[49m\u001B[38;5;241;43m2\u001B[39;49m\u001B[43m)\u001B[49m)\n",
      "\u001B[0;31mTypeError\u001B[0m: return arrays must be of ArrayType"
     ]
    }
   ],
   "execution_count": 10
  },
  {
   "metadata": {},
   "cell_type": "markdown",
   "source": [
    "What has happened? It worked before!\n",
    "\n",
    "These kinds of \"star imports\" can occasionally lead to weird, difficult-to-debug situations.\n",
    "\n",
    "The problem in this case is that the `math` and `numpy` modules both have functions called `log`, but they have different semantics. Because we import from `numpy` second, its `log` overwrites (or \"shadows\") the `log` variable we imported from math.\n",
    "\n",
    "A good compromise is to import only the specific things we'll need from each module:"
   ],
   "id": "db7bd4b7c95ec13e"
  },
  {
   "metadata": {
    "ExecuteTime": {
     "end_time": "2024-06-27T14:09:24.985479Z",
     "start_time": "2024-06-27T14:09:24.985404Z"
    }
   },
   "cell_type": "code",
   "source": [
    "from math import log, pi\n",
    "from numpy import asarray"
   ],
   "id": "1008766c8d3d8a81",
   "outputs": [],
   "execution_count": null
  },
  {
   "metadata": {},
   "cell_type": "markdown",
   "source": [
    "### Submodules\n",
    "\n",
    "We've seen that modules contain variables which can refer to functions or values. Something to be aware of is that they can also have variables referring to *other modules*."
   ],
   "id": "d145b7e915241e9c"
  },
  {
   "metadata": {},
   "cell_type": "code",
   "source": [
    "import numpy\n",
    "print(\"numpy.random is a\", type(numpy.random))\n",
    "print(\"it contains names such as...\",\n",
    "      dir(numpy.random)[-15:]\n",
    "     )"
   ],
   "id": "4e40070ade710b44",
   "outputs": [],
   "execution_count": null
  },
  {
   "metadata": {},
   "cell_type": "markdown",
   "source": "So if we import `numpy` as above, then calling a function in the `random` \"submodule\" will require *two* dots.",
   "id": "d2c56dbdadc8d20d"
  },
  {
   "metadata": {
    "ExecuteTime": {
     "end_time": "2024-06-27T14:09:25.016996Z",
     "start_time": "2024-06-27T14:09:25.004826Z"
    }
   },
   "cell_type": "code",
   "source": [
    "# Roll 10 dice\n",
    "rolls = numpy.random.randint(low=1, high=6, size=10)\n",
    "rolls"
   ],
   "id": "ae49056bacfeaff4",
   "outputs": [
    {
     "ename": "NameError",
     "evalue": "name 'numpy' is not defined",
     "output_type": "error",
     "traceback": [
      "\u001B[0;31m---------------------------------------------------------------------------\u001B[0m",
      "\u001B[0;31mNameError\u001B[0m                                 Traceback (most recent call last)",
      "Cell \u001B[0;32mIn[11], line 2\u001B[0m\n\u001B[1;32m      1\u001B[0m \u001B[38;5;66;03m# Roll 10 dice\u001B[39;00m\n\u001B[0;32m----> 2\u001B[0m rolls \u001B[38;5;241m=\u001B[39m \u001B[43mnumpy\u001B[49m\u001B[38;5;241m.\u001B[39mrandom\u001B[38;5;241m.\u001B[39mrandint(low\u001B[38;5;241m=\u001B[39m\u001B[38;5;241m1\u001B[39m, high\u001B[38;5;241m=\u001B[39m\u001B[38;5;241m6\u001B[39m, size\u001B[38;5;241m=\u001B[39m\u001B[38;5;241m10\u001B[39m)\n\u001B[1;32m      3\u001B[0m rolls\n",
      "\u001B[0;31mNameError\u001B[0m: name 'numpy' is not defined"
     ]
    }
   ],
   "execution_count": 11
  },
  {
   "metadata": {},
   "cell_type": "markdown",
   "source": [
    "### Oh the places you'll go, oh the objects you'll see\n",
    "\n",
    "So after 6 lessons, you're a pro with ints, floats, bools, lists, strings, and dicts (right?).\n",
    "\n",
    "Even if that were true, it doesn't end there. As you work with various libraries for specialised tasks, you'll find that they define their own types which you'll have to learn to work with. For example, if you work with the graphing library `matplotlib`, you'll be coming into contact with objects it defines which represent Subplots, Figures, TickMarks, and Annotations. `pandas` functions will give you DataFrames and Series.\n",
    "\n",
    "In this section, I want to share with you a quick survival guide for working with strange types.\n",
    "\n",
    "### Three tools for understanding strange objects\n",
    "\n",
    "In the cell above, we saw that calling a `numpy` function gave us an \"array\". We've never seen anything like this before (not in this course anyways). But don't panic: we have three familiar builtin functions to help us here.\n",
    "\n",
    "**1: `type()`** (what is this thing?)"
   ],
   "id": "fe470e04a4e6d87c"
  },
  {
   "metadata": {
    "ExecuteTime": {
     "end_time": "2024-06-27T14:09:25.165202Z",
     "start_time": "2024-06-27T14:09:25.156041Z"
    }
   },
   "cell_type": "code",
   "source": "type(rolls)",
   "id": "621abe7e30345942",
   "outputs": [
    {
     "ename": "NameError",
     "evalue": "name 'rolls' is not defined",
     "output_type": "error",
     "traceback": [
      "\u001B[0;31m---------------------------------------------------------------------------\u001B[0m",
      "\u001B[0;31mNameError\u001B[0m                                 Traceback (most recent call last)",
      "Cell \u001B[0;32mIn[12], line 1\u001B[0m\n\u001B[0;32m----> 1\u001B[0m \u001B[38;5;28mtype\u001B[39m(\u001B[43mrolls\u001B[49m)\n",
      "\u001B[0;31mNameError\u001B[0m: name 'rolls' is not defined"
     ]
    }
   ],
   "execution_count": 12
  },
  {
   "metadata": {},
   "cell_type": "markdown",
   "source": "**2: `dir()`** (what can I do with it?)",
   "id": "8b30c41df14ec19f"
  },
  {
   "metadata": {
    "ExecuteTime": {
     "end_time": "2024-06-27T14:09:25.332514Z",
     "start_time": "2024-06-27T14:09:25.319887Z"
    }
   },
   "cell_type": "code",
   "source": "print(dir(rolls))",
   "id": "8bbc2b61f8bacdd4",
   "outputs": [
    {
     "ename": "NameError",
     "evalue": "name 'rolls' is not defined",
     "output_type": "error",
     "traceback": [
      "\u001B[0;31m---------------------------------------------------------------------------\u001B[0m",
      "\u001B[0;31mNameError\u001B[0m                                 Traceback (most recent call last)",
      "Cell \u001B[0;32mIn[13], line 1\u001B[0m\n\u001B[0;32m----> 1\u001B[0m \u001B[38;5;28mprint\u001B[39m(\u001B[38;5;28mdir\u001B[39m(\u001B[43mrolls\u001B[49m))\n",
      "\u001B[0;31mNameError\u001B[0m: name 'rolls' is not defined"
     ]
    }
   ],
   "execution_count": 13
  },
  {
   "metadata": {
    "ExecuteTime": {
     "end_time": "2024-06-27T14:09:25.448943Z",
     "start_time": "2024-06-27T14:09:25.438887Z"
    }
   },
   "cell_type": "code",
   "source": [
    "# If I want the average roll, the \"mean\" method looks promising...\n",
    "rolls.mean()"
   ],
   "id": "260d9b190dd80afb",
   "outputs": [
    {
     "ename": "NameError",
     "evalue": "name 'rolls' is not defined",
     "output_type": "error",
     "traceback": [
      "\u001B[0;31m---------------------------------------------------------------------------\u001B[0m",
      "\u001B[0;31mNameError\u001B[0m                                 Traceback (most recent call last)",
      "Cell \u001B[0;32mIn[14], line 2\u001B[0m\n\u001B[1;32m      1\u001B[0m \u001B[38;5;66;03m# If I want the average roll, the \"mean\" method looks promising...\u001B[39;00m\n\u001B[0;32m----> 2\u001B[0m \u001B[43mrolls\u001B[49m\u001B[38;5;241m.\u001B[39mmean()\n",
      "\u001B[0;31mNameError\u001B[0m: name 'rolls' is not defined"
     ]
    }
   ],
   "execution_count": 14
  },
  {
   "metadata": {
    "ExecuteTime": {
     "end_time": "2024-06-27T14:09:25.518560Z",
     "start_time": "2024-06-27T14:09:25.508704Z"
    }
   },
   "cell_type": "code",
   "source": [
    "# Or maybe I just want to turn the array into a list, in which case I can use \"tolist\"\n",
    "rolls.tolist()"
   ],
   "id": "658fb370c430766",
   "outputs": [
    {
     "ename": "NameError",
     "evalue": "name 'rolls' is not defined",
     "output_type": "error",
     "traceback": [
      "\u001B[0;31m---------------------------------------------------------------------------\u001B[0m",
      "\u001B[0;31mNameError\u001B[0m                                 Traceback (most recent call last)",
      "Cell \u001B[0;32mIn[15], line 2\u001B[0m\n\u001B[1;32m      1\u001B[0m \u001B[38;5;66;03m# Or maybe I just want to turn the array into a list, in which case I can use \"tolist\"\u001B[39;00m\n\u001B[0;32m----> 2\u001B[0m \u001B[43mrolls\u001B[49m\u001B[38;5;241m.\u001B[39mtolist()\n",
      "\u001B[0;31mNameError\u001B[0m: name 'rolls' is not defined"
     ]
    }
   ],
   "execution_count": 15
  },
  {
   "metadata": {},
   "cell_type": "markdown",
   "source": "**3: `help()`** (tell me more)",
   "id": "3c5a80f4ac6c7477"
  },
  {
   "metadata": {
    "ExecuteTime": {
     "end_time": "2024-06-27T14:09:25.997240Z",
     "start_time": "2024-06-27T14:09:25.984570Z"
    }
   },
   "cell_type": "code",
   "source": [
    "# That \"ravel\" attribute sounds interesting. I'm a big classical music fan.\n",
    "help(rolls.ravel)"
   ],
   "id": "26fa990285093015",
   "outputs": [
    {
     "ename": "NameError",
     "evalue": "name 'rolls' is not defined",
     "output_type": "error",
     "traceback": [
      "\u001B[0;31m---------------------------------------------------------------------------\u001B[0m",
      "\u001B[0;31mNameError\u001B[0m                                 Traceback (most recent call last)",
      "Cell \u001B[0;32mIn[16], line 2\u001B[0m\n\u001B[1;32m      1\u001B[0m \u001B[38;5;66;03m# That \"ravel\" attribute sounds interesting. I'm a big classical music fan.\u001B[39;00m\n\u001B[0;32m----> 2\u001B[0m help(\u001B[43mrolls\u001B[49m\u001B[38;5;241m.\u001B[39mravel)\n",
      "\u001B[0;31mNameError\u001B[0m: name 'rolls' is not defined"
     ]
    }
   ],
   "execution_count": 16
  },
  {
   "metadata": {
    "ExecuteTime": {
     "end_time": "2024-06-27T14:09:26.498783Z",
     "start_time": "2024-06-27T14:09:26.490348Z"
    }
   },
   "cell_type": "code",
   "source": [
    "# Okay, just tell me everything there is to know about numpy.ndarray\n",
    "help(rolls)"
   ],
   "id": "3e4f197370d69b37",
   "outputs": [
    {
     "ename": "NameError",
     "evalue": "name 'rolls' is not defined",
     "output_type": "error",
     "traceback": [
      "\u001B[0;31m---------------------------------------------------------------------------\u001B[0m",
      "\u001B[0;31mNameError\u001B[0m                                 Traceback (most recent call last)",
      "Cell \u001B[0;32mIn[17], line 2\u001B[0m\n\u001B[1;32m      1\u001B[0m \u001B[38;5;66;03m# Okay, just tell me everything there is to know about numpy.ndarray\u001B[39;00m\n\u001B[0;32m----> 2\u001B[0m help(\u001B[43mrolls\u001B[49m)\n",
      "\u001B[0;31mNameError\u001B[0m: name 'rolls' is not defined"
     ]
    }
   ],
   "execution_count": 17
  },
  {
   "metadata": {},
   "cell_type": "markdown",
   "source": [
    "## Operator overloading\n",
    "\n",
    "What's the value of the below expression?"
   ],
   "id": "3d3d76fea79cf416"
  },
  {
   "metadata": {
    "ExecuteTime": {
     "end_time": "2024-06-27T14:09:26.663357Z",
     "start_time": "2024-06-27T14:09:26.653803Z"
    }
   },
   "cell_type": "code",
   "source": "[3, 4, 1, 2, 2, 1] + 10",
   "id": "f8af687825b05bb7",
   "outputs": [
    {
     "ename": "TypeError",
     "evalue": "can only concatenate list (not \"int\") to list",
     "output_type": "error",
     "traceback": [
      "\u001B[0;31m---------------------------------------------------------------------------\u001B[0m",
      "\u001B[0;31mTypeError\u001B[0m                                 Traceback (most recent call last)",
      "Cell \u001B[0;32mIn[18], line 1\u001B[0m\n\u001B[0;32m----> 1\u001B[0m \u001B[43m[\u001B[49m\u001B[38;5;241;43m3\u001B[39;49m\u001B[43m,\u001B[49m\u001B[43m \u001B[49m\u001B[38;5;241;43m4\u001B[39;49m\u001B[43m,\u001B[49m\u001B[43m \u001B[49m\u001B[38;5;241;43m1\u001B[39;49m\u001B[43m,\u001B[49m\u001B[43m \u001B[49m\u001B[38;5;241;43m2\u001B[39;49m\u001B[43m,\u001B[49m\u001B[43m \u001B[49m\u001B[38;5;241;43m2\u001B[39;49m\u001B[43m,\u001B[49m\u001B[43m \u001B[49m\u001B[38;5;241;43m1\u001B[39;49m\u001B[43m]\u001B[49m\u001B[43m \u001B[49m\u001B[38;5;241;43m+\u001B[39;49m\u001B[43m \u001B[49m\u001B[38;5;241;43m10\u001B[39;49m\n",
      "\u001B[0;31mTypeError\u001B[0m: can only concatenate list (not \"int\") to list"
     ]
    }
   ],
   "execution_count": 18
  },
  {
   "metadata": {},
   "cell_type": "markdown",
   "source": "But what about ...",
   "id": "14994717d93e4a0a"
  },
  {
   "metadata": {
    "ExecuteTime": {
     "end_time": "2024-06-27T14:09:26.838097Z",
     "start_time": "2024-06-27T14:09:26.828533Z"
    }
   },
   "cell_type": "code",
   "source": "rolls + 10",
   "id": "611c703213d7bac6",
   "outputs": [
    {
     "ename": "NameError",
     "evalue": "name 'rolls' is not defined",
     "output_type": "error",
     "traceback": [
      "\u001B[0;31m---------------------------------------------------------------------------\u001B[0m",
      "\u001B[0;31mNameError\u001B[0m                                 Traceback (most recent call last)",
      "Cell \u001B[0;32mIn[19], line 1\u001B[0m\n\u001B[0;32m----> 1\u001B[0m \u001B[43mrolls\u001B[49m \u001B[38;5;241m+\u001B[39m \u001B[38;5;241m10\u001B[39m\n",
      "\u001B[0;31mNameError\u001B[0m: name 'rolls' is not defined"
     ]
    }
   ],
   "execution_count": 19
  },
  {
   "metadata": {},
   "cell_type": "markdown",
   "source": [
    "We might think that Python strictly polices how pieces of its core syntax behave such as `+`, `<`, `in`, `==`, or square brackets for indexing and slicing. But in fact, it takes a very hands-off approach. When you define a new type, you can choose how addition works for it, or what it means for an object of that type to be equal to something else.\n",
    "\n",
    "The designers of lists decided that adding them to numbers wasn't allowed. The designers of `numpy` arrays went a different way (adding the number to each element of the array).\n",
    "\n",
    "Here are a few more examples of how `numpy` arrays interact unexpectedly with Python operators (or at least differently from lists)."
   ],
   "id": "53410c849d2c5dfb"
  },
  {
   "metadata": {
    "ExecuteTime": {
     "end_time": "2024-06-27T14:09:27.616975Z",
     "start_time": "2024-06-27T14:09:27.596914Z"
    }
   },
   "cell_type": "code",
   "source": [
    "# At which indices are the dice less than or equal to 3?\n",
    "rolls <= 3"
   ],
   "id": "864647739a7bc9c2",
   "outputs": [
    {
     "ename": "NameError",
     "evalue": "name 'rolls' is not defined",
     "output_type": "error",
     "traceback": [
      "\u001B[0;31m---------------------------------------------------------------------------\u001B[0m",
      "\u001B[0;31mNameError\u001B[0m                                 Traceback (most recent call last)",
      "Cell \u001B[0;32mIn[20], line 2\u001B[0m\n\u001B[1;32m      1\u001B[0m \u001B[38;5;66;03m# At which indices are the dice less than or equal to 3?\u001B[39;00m\n\u001B[0;32m----> 2\u001B[0m \u001B[43mrolls\u001B[49m \u001B[38;5;241m<\u001B[39m\u001B[38;5;241m=\u001B[39m \u001B[38;5;241m3\u001B[39m\n",
      "\u001B[0;31mNameError\u001B[0m: name 'rolls' is not defined"
     ]
    }
   ],
   "execution_count": 20
  },
  {
   "metadata": {
    "ExecuteTime": {
     "end_time": "2024-06-27T14:09:27.697903Z",
     "start_time": "2024-06-27T14:09:27.682874Z"
    }
   },
   "cell_type": "code",
   "source": [
    "xlist = [[1,2,3],[2,4,6],]\n",
    "# Create a 2-dimensional array\n",
    "x = numpy.asarray(xlist)\n",
    "print(\"xlist = {}\\nx =\\n{}\".format(xlist, x))"
   ],
   "id": "7bae03eb7de7371",
   "outputs": [
    {
     "ename": "NameError",
     "evalue": "name 'numpy' is not defined",
     "output_type": "error",
     "traceback": [
      "\u001B[0;31m---------------------------------------------------------------------------\u001B[0m",
      "\u001B[0;31mNameError\u001B[0m                                 Traceback (most recent call last)",
      "Cell \u001B[0;32mIn[21], line 3\u001B[0m\n\u001B[1;32m      1\u001B[0m xlist \u001B[38;5;241m=\u001B[39m [[\u001B[38;5;241m1\u001B[39m,\u001B[38;5;241m2\u001B[39m,\u001B[38;5;241m3\u001B[39m],[\u001B[38;5;241m2\u001B[39m,\u001B[38;5;241m4\u001B[39m,\u001B[38;5;241m6\u001B[39m],]\n\u001B[1;32m      2\u001B[0m \u001B[38;5;66;03m# Create a 2-dimensional array\u001B[39;00m\n\u001B[0;32m----> 3\u001B[0m x \u001B[38;5;241m=\u001B[39m \u001B[43mnumpy\u001B[49m\u001B[38;5;241m.\u001B[39masarray(xlist)\n\u001B[1;32m      4\u001B[0m \u001B[38;5;28mprint\u001B[39m(\u001B[38;5;124m\"\u001B[39m\u001B[38;5;124mxlist = \u001B[39m\u001B[38;5;132;01m{}\u001B[39;00m\u001B[38;5;130;01m\\n\u001B[39;00m\u001B[38;5;124mx =\u001B[39m\u001B[38;5;130;01m\\n\u001B[39;00m\u001B[38;5;132;01m{}\u001B[39;00m\u001B[38;5;124m\"\u001B[39m\u001B[38;5;241m.\u001B[39mformat(xlist, x))\n",
      "\u001B[0;31mNameError\u001B[0m: name 'numpy' is not defined"
     ]
    }
   ],
   "execution_count": 21
  },
  {
   "metadata": {
    "ExecuteTime": {
     "end_time": "2024-06-27T14:09:27.843332Z",
     "start_time": "2024-06-27T14:09:27.826140Z"
    }
   },
   "cell_type": "code",
   "source": [
    "# Get the last element of the second row of our numpy array\n",
    "x[1,-1]"
   ],
   "id": "66e35920efd9c565",
   "outputs": [
    {
     "ename": "NameError",
     "evalue": "name 'x' is not defined",
     "output_type": "error",
     "traceback": [
      "\u001B[0;31m---------------------------------------------------------------------------\u001B[0m",
      "\u001B[0;31mNameError\u001B[0m                                 Traceback (most recent call last)",
      "Cell \u001B[0;32mIn[22], line 2\u001B[0m\n\u001B[1;32m      1\u001B[0m \u001B[38;5;66;03m# Get the last element of the second row of our numpy array\u001B[39;00m\n\u001B[0;32m----> 2\u001B[0m \u001B[43mx\u001B[49m[\u001B[38;5;241m1\u001B[39m,\u001B[38;5;241m-\u001B[39m\u001B[38;5;241m1\u001B[39m]\n",
      "\u001B[0;31mNameError\u001B[0m: name 'x' is not defined"
     ]
    }
   ],
   "execution_count": 22
  },
  {
   "metadata": {
    "ExecuteTime": {
     "end_time": "2024-06-27T14:09:27.899322Z",
     "start_time": "2024-06-27T14:09:27.883865Z"
    }
   },
   "cell_type": "code",
   "source": [
    "# Get the last element of the second sublist of our nested list?\n",
    "xlist[1,-1]"
   ],
   "id": "e722d47c2764e22e",
   "outputs": [
    {
     "ename": "TypeError",
     "evalue": "list indices must be integers or slices, not tuple",
     "output_type": "error",
     "traceback": [
      "\u001B[0;31m---------------------------------------------------------------------------\u001B[0m",
      "\u001B[0;31mTypeError\u001B[0m                                 Traceback (most recent call last)",
      "Cell \u001B[0;32mIn[23], line 2\u001B[0m\n\u001B[1;32m      1\u001B[0m \u001B[38;5;66;03m# Get the last element of the second sublist of our nested list?\u001B[39;00m\n\u001B[0;32m----> 2\u001B[0m \u001B[43mxlist\u001B[49m\u001B[43m[\u001B[49m\u001B[38;5;241;43m1\u001B[39;49m\u001B[43m,\u001B[49m\u001B[38;5;241;43m-\u001B[39;49m\u001B[38;5;241;43m1\u001B[39;49m\u001B[43m]\u001B[49m\n",
      "\u001B[0;31mTypeError\u001B[0m: list indices must be integers or slices, not tuple"
     ]
    }
   ],
   "execution_count": 23
  },
  {
   "metadata": {},
   "cell_type": "markdown",
   "source": [
    "numpy's `ndarray` type is specialized for working with multi-dimensional data, so it defines its own logic for indexing, allowing us to index by a tuple to specify the index at each dimension.\n",
    "\n",
    "### When does 1 + 1 not equal 2?\n",
    "\n",
    "Things can get weirder than this. You may have heard of (or even used) tensorflow, a Python library popularly used for deep learning. It makes extensive use of operator overloading."
   ],
   "id": "8dad7d46b63ae154"
  },
  {
   "metadata": {
    "ExecuteTime": {
     "end_time": "2024-06-27T14:09:32.377971Z",
     "start_time": "2024-06-27T14:09:28.207703Z"
    }
   },
   "cell_type": "code",
   "source": [
    "import tensorflow as tf\n",
    "\n",
    "# Create two constants, each with value 1\n",
    "a = tf.constant(1)\n",
    "b = tf.constant(1)\n",
    "# Add them together to get...\n",
    "a + b"
   ],
   "id": "7ef1008c8bdf288b",
   "outputs": [
    {
     "data": {
      "text/plain": [
       "<tf.Tensor: shape=(), dtype=int32, numpy=2>"
      ]
     },
     "execution_count": 24,
     "metadata": {},
     "output_type": "execute_result"
    }
   ],
   "execution_count": 24
  },
  {
   "metadata": {},
   "cell_type": "markdown",
   "source": [
    "`a + b` isn't 2, it is (to quote tensorflow's documentation):\n",
    "\n",
    "A symbolic handle to one of the outputs of an `Operation`. It does not hold the values of that operation's output, but instead provides a means of computing those values in a TensorFlow `tf.Session`.\n",
    "\n",
    "It's important just to be aware of the fact that this sort of thing is possible and that libraries will often use operator overloading in non-obvious or magical-seeming ways.\n",
    "\n",
    "Understanding how Python's operators work when applied to ints, strings, and lists is no guarantee that you'll be able to immediately understand what they do when applied to a tensorflow `Tensor`, or a numpy `ndarray`, or a pandas `DataFrame`.\n",
    "\n",
    "Once you've had a little taste of DataFrames, for example, an expression like the one below starts to look appealingly intuitive:"
   ],
   "id": "46574dc378a2b2ba"
  },
  {
   "metadata": {},
   "cell_type": "code",
   "source": [
    "# Get the rows with population over 1m in South America\n",
    "df[(df['population'] > 10**6) & (df['continent'] == 'South America')]"
   ],
   "id": "11f9f021fdd90319",
   "outputs": [],
   "execution_count": null
  },
  {
   "metadata": {},
   "cell_type": "markdown",
   "source": [
    "But why does it work? The example above features something like **5** different overloaded operators. What's each of those operations doing? It can help to know the answer when things start going wrong.\n",
    "\n",
    "**Curious how it all works?**\n",
    "\n",
    "Have you ever called `help()` or `dir()` on an object and wondered what the heck all those names with the double-underscores were?"
   ],
   "id": "62762c7d2c3699f7"
  },
  {
   "metadata": {
    "ExecuteTime": {
     "end_time": "2024-06-27T14:09:41.437330Z",
     "start_time": "2024-06-27T14:09:41.431455Z"
    }
   },
   "cell_type": "code",
   "source": "print(dir(list))",
   "id": "8bc494e7c1136109",
   "outputs": [
    {
     "name": "stdout",
     "output_type": "stream",
     "text": [
      "['__add__', '__class__', '__class_getitem__', '__contains__', '__delattr__', '__delitem__', '__dir__', '__doc__', '__eq__', '__format__', '__ge__', '__getattribute__', '__getitem__', '__gt__', '__hash__', '__iadd__', '__imul__', '__init__', '__init_subclass__', '__iter__', '__le__', '__len__', '__lt__', '__mul__', '__ne__', '__new__', '__reduce__', '__reduce_ex__', '__repr__', '__reversed__', '__rmul__', '__setattr__', '__setitem__', '__sizeof__', '__str__', '__subclasshook__', 'append', 'clear', 'copy', 'count', 'extend', 'index', 'insert', 'pop', 'remove', 'reverse', 'sort']\n"
     ]
    }
   ],
   "execution_count": 25
  },
  {
   "metadata": {},
   "cell_type": "markdown",
   "source": [
    "This turns out to be directly related to operator overloading.\n",
    "\n",
    "When Python programmers want to define how operators behave on their types, they do so by implementing methods with special names beginning and ending with 2 underscores such as `__lt__`, `__setattr__`, or `__contains__`. Generally, names that follow this double-underscore format have a special meaning to Python.\n",
    "\n",
    "So, for example, the expression `x in [1, 2, 3]` is actually calling the list method `__contains__` behind-the-scenes. It's equivalent to (the much uglier) `[1, 2, 3].__contains__(x)`.\n",
    "\n",
    "If you're curious to learn more, you can check out Python's official documentation, which describes many, many more of these special \"underscores\" methods.\n",
    "\n",
    "We won't be defining our own types in these lessons (if only there was time!), but I hope you'll get to experience the joys of defining your own wonderful, weird types later down the road."
   ],
   "id": "2b6ab1c213fa83e2"
  }
 ],
 "metadata": {
  "kernelspec": {
   "display_name": "Python 3",
   "language": "python",
   "name": "python3"
  },
  "language_info": {
   "codemirror_mode": {
    "name": "ipython",
    "version": 2
   },
   "file_extension": ".py",
   "mimetype": "text/x-python",
   "name": "python",
   "nbconvert_exporter": "python",
   "pygments_lexer": "ipython2",
   "version": "2.7.6"
  }
 },
 "nbformat": 4,
 "nbformat_minor": 5
}
