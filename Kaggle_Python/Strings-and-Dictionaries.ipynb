{
 "cells": [
  {
   "metadata": {},
   "cell_type": "markdown",
   "source": "# Strings and Dictionaries",
   "id": "ccf5d3180f993ce9"
  },
  {
   "metadata": {},
   "cell_type": "markdown",
   "source": [
    "## Strings\n",
    "\n",
    "One place where the Python language really shines is in the manipulation of strings. This section will cover some of Python's built-in string methods and formatting operations.\n",
    "\n",
    "Such string manipulation patterns come up often in the context of data science work.\n",
    "\n",
    "## String syntax\n",
    "\n",
    "You've already seen plenty of strings in examples during the previous lessons, but just to recap, strings in Python can be defined using either single or double quotations. They are functionally equivalent."
   ],
   "id": "e2c9cbdd99945586"
  },
  {
   "cell_type": "code",
   "id": "initial_id",
   "metadata": {
    "collapsed": true,
    "ExecuteTime": {
     "end_time": "2024-06-03T13:22:45.059264Z",
     "start_time": "2024-06-03T13:22:45.047623Z"
    }
   },
   "source": [
    "x = 'Pluto is a planet'\n",
    "y = \"Pluto is a planet\"\n",
    "x == y"
   ],
   "outputs": [
    {
     "data": {
      "text/plain": [
       "True"
      ]
     },
     "execution_count": 1,
     "metadata": {},
     "output_type": "execute_result"
    }
   ],
   "execution_count": 1
  },
  {
   "metadata": {},
   "cell_type": "markdown",
   "source": [
    "Double quotes are convenient if your string contains a single quote character (e.g. representing an apostrophe).\n",
    "\n",
    "Similarly, it's easy to create a string that contains double-quotes if you wrap it in single quotes:"
   ],
   "id": "d8e4ca61efbb049d"
  },
  {
   "metadata": {
    "ExecuteTime": {
     "end_time": "2024-06-03T13:22:46.365413Z",
     "start_time": "2024-06-03T13:22:46.356404Z"
    }
   },
   "cell_type": "code",
   "source": [
    "print(\"Pluto's a planet!\")\n",
    "print('My dog is named \"Pluto\"')"
   ],
   "id": "f939b288e9e6e7b6",
   "outputs": [
    {
     "name": "stdout",
     "output_type": "stream",
     "text": [
      "Pluto's a planet!\n",
      "My dog is named \"Pluto\"\n"
     ]
    }
   ],
   "execution_count": 2
  },
  {
   "metadata": {},
   "cell_type": "markdown",
   "source": "If we try to put a single quote character inside a single-quoted string, Python gets confused:",
   "id": "28bc21c16ce38266"
  },
  {
   "metadata": {
    "ExecuteTime": {
     "end_time": "2024-06-03T13:22:46.517729Z",
     "start_time": "2024-06-03T13:22:46.512861Z"
    }
   },
   "cell_type": "code",
   "source": "'Pluto's a planet!'",
   "id": "81e35cc10d4b9141",
   "outputs": [
    {
     "ename": "SyntaxError",
     "evalue": "unterminated string literal (detected at line 1) (4019940687.py, line 1)",
     "output_type": "error",
     "traceback": [
      "\u001B[0;36m  Cell \u001B[0;32mIn[3], line 1\u001B[0;36m\u001B[0m\n\u001B[0;31m    'Pluto's a planet!'\u001B[0m\n\u001B[0m                      ^\u001B[0m\n\u001B[0;31mSyntaxError\u001B[0m\u001B[0;31m:\u001B[0m unterminated string literal (detected at line 1)\n"
     ]
    }
   ],
   "execution_count": 3
  },
  {
   "metadata": {},
   "cell_type": "markdown",
   "source": "We can fix this by \"escaping\" the single quote with a backslash.",
   "id": "57435b270d672dd"
  },
  {
   "metadata": {
    "ExecuteTime": {
     "end_time": "2024-06-03T13:22:46.649467Z",
     "start_time": "2024-06-03T13:22:46.644793Z"
    }
   },
   "cell_type": "code",
   "source": "'Pluto\\'s a planet!'",
   "id": "86117f0016d8b344",
   "outputs": [
    {
     "data": {
      "text/plain": [
       "\"Pluto's a planet!\""
      ]
     },
     "execution_count": 4,
     "metadata": {},
     "output_type": "execute_result"
    }
   ],
   "execution_count": 4
  },
  {
   "metadata": {},
   "cell_type": "markdown",
   "source": [
    "Some important uses of the backslash character include:\n",
    "\n",
    "* `\\'` = '\n",
    "* `\\\"` = \"\n",
    "* `\\\\` = \\\n",
    "* `\\n` = newline character "
   ],
   "id": "1d8d9e65f3a82ca"
  },
  {
   "metadata": {
    "ExecuteTime": {
     "end_time": "2024-06-03T13:22:46.771930Z",
     "start_time": "2024-06-03T13:22:46.769990Z"
    }
   },
   "cell_type": "code",
   "source": [
    "hello = \"hello\\nworld\"\n",
    "print(hello)"
   ],
   "id": "291d41aa2280e241",
   "outputs": [
    {
     "name": "stdout",
     "output_type": "stream",
     "text": [
      "hello\n",
      "world\n"
     ]
    }
   ],
   "execution_count": 5
  },
  {
   "metadata": {},
   "cell_type": "markdown",
   "source": "In addition, Python's triple quote syntax for strings lets us include newlines literally (i.e. by just hitting 'Enter' on our keyboard, rather than using the special '\\n' sequence). We've already seen this in the docstrings we use to document our functions, but we can use them anywhere we want to define a string.",
   "id": "11329e6163b1926e"
  },
  {
   "metadata": {
    "ExecuteTime": {
     "end_time": "2024-06-03T13:22:46.934897Z",
     "start_time": "2024-06-03T13:22:46.930849Z"
    }
   },
   "cell_type": "code",
   "source": [
    "triplequoted_hello = \"\"\"hello\n",
    "world\"\"\"\n",
    "print(triplequoted_hello)\n",
    "triplequoted_hello == hello"
   ],
   "id": "c26973f462f88fd0",
   "outputs": [
    {
     "name": "stdout",
     "output_type": "stream",
     "text": [
      "hello\n",
      "world\n"
     ]
    },
    {
     "data": {
      "text/plain": [
       "True"
      ]
     },
     "execution_count": 6,
     "metadata": {},
     "output_type": "execute_result"
    }
   ],
   "execution_count": 6
  },
  {
   "metadata": {},
   "cell_type": "markdown",
   "source": "The `print()` function automatically adds a newline character unless we specify a value for the keyword argument `end` other than the default value of `'\\n'`:",
   "id": "407f1faeb33215b4"
  },
  {
   "metadata": {
    "ExecuteTime": {
     "end_time": "2024-06-03T13:22:47.115729Z",
     "start_time": "2024-06-03T13:22:47.113229Z"
    }
   },
   "cell_type": "code",
   "source": [
    "print(\"hello\")\n",
    "print(\"world\")\n",
    "print(\"hello\", end='')\n",
    "print(\"pluto\")"
   ],
   "id": "fc9ceacc371d01fa",
   "outputs": [
    {
     "name": "stdout",
     "output_type": "stream",
     "text": [
      "hello\n",
      "world\n",
      "hellopluto\n"
     ]
    }
   ],
   "execution_count": 7
  },
  {
   "metadata": {},
   "cell_type": "markdown",
   "source": [
    "## Strings are sequences\n",
    "\n",
    "Strings can be thought of as sequences of characters. Almost everything we've seen that we can do to a list, we can also do to a string."
   ],
   "id": "5a665a54ac52b174"
  },
  {
   "metadata": {
    "ExecuteTime": {
     "end_time": "2024-06-03T13:22:47.272608Z",
     "start_time": "2024-06-03T13:22:47.266653Z"
    }
   },
   "cell_type": "code",
   "source": [
    "# Indexing\n",
    "planet = 'Pluto'\n",
    "planet[0]"
   ],
   "id": "24215f9c2d4007b1",
   "outputs": [
    {
     "data": {
      "text/plain": [
       "'P'"
      ]
     },
     "execution_count": 8,
     "metadata": {},
     "output_type": "execute_result"
    }
   ],
   "execution_count": 8
  },
  {
   "metadata": {
    "ExecuteTime": {
     "end_time": "2024-06-03T13:22:47.350327Z",
     "start_time": "2024-06-03T13:22:47.347230Z"
    }
   },
   "cell_type": "code",
   "source": [
    "# Slicing\n",
    "planet[-3:]"
   ],
   "id": "c116643ce6f9be74",
   "outputs": [
    {
     "data": {
      "text/plain": [
       "'uto'"
      ]
     },
     "execution_count": 9,
     "metadata": {},
     "output_type": "execute_result"
    }
   ],
   "execution_count": 9
  },
  {
   "metadata": {
    "ExecuteTime": {
     "end_time": "2024-06-03T13:22:47.444187Z",
     "start_time": "2024-06-03T13:22:47.441077Z"
    }
   },
   "cell_type": "code",
   "source": [
    "# How long is this string?\n",
    "len(planet)"
   ],
   "id": "6fdca2a5aba47c90",
   "outputs": [
    {
     "data": {
      "text/plain": [
       "5"
      ]
     },
     "execution_count": 10,
     "metadata": {},
     "output_type": "execute_result"
    }
   ],
   "execution_count": 10
  },
  {
   "metadata": {
    "ExecuteTime": {
     "end_time": "2024-06-03T13:22:47.527112Z",
     "start_time": "2024-06-03T13:22:47.523984Z"
    }
   },
   "cell_type": "code",
   "source": [
    "# Yes, we can even loop over them\n",
    "[char+'! ' for char in planet]"
   ],
   "id": "ce5f26f172940457",
   "outputs": [
    {
     "data": {
      "text/plain": [
       "['P! ', 'l! ', 'u! ', 't! ', 'o! ']"
      ]
     },
     "execution_count": 11,
     "metadata": {},
     "output_type": "execute_result"
    }
   ],
   "execution_count": 11
  },
  {
   "metadata": {},
   "cell_type": "markdown",
   "source": "But a major way in which they differ from lists is that they are *immutable*. We can't modify them.",
   "id": "94f9a7f057380643"
  },
  {
   "metadata": {
    "ExecuteTime": {
     "end_time": "2024-06-03T13:22:47.839128Z",
     "start_time": "2024-06-03T13:22:47.679988Z"
    }
   },
   "cell_type": "code",
   "source": [
    "planet[0] = 'B'\n",
    "# planet.append doesn't work either"
   ],
   "id": "f853655e622fc33",
   "outputs": [
    {
     "ename": "TypeError",
     "evalue": "'str' object does not support item assignment",
     "output_type": "error",
     "traceback": [
      "\u001B[0;31m---------------------------------------------------------------------------\u001B[0m",
      "\u001B[0;31mTypeError\u001B[0m                                 Traceback (most recent call last)",
      "Cell \u001B[0;32mIn[12], line 1\u001B[0m\n\u001B[0;32m----> 1\u001B[0m \u001B[43mplanet\u001B[49m\u001B[43m[\u001B[49m\u001B[38;5;241;43m0\u001B[39;49m\u001B[43m]\u001B[49m \u001B[38;5;241m=\u001B[39m \u001B[38;5;124m'\u001B[39m\u001B[38;5;124mB\u001B[39m\u001B[38;5;124m'\u001B[39m\n\u001B[1;32m      2\u001B[0m \u001B[38;5;66;03m# planet.append doesn't work either\u001B[39;00m\n",
      "\u001B[0;31mTypeError\u001B[0m: 'str' object does not support item assignment"
     ]
    }
   ],
   "execution_count": 12
  },
  {
   "metadata": {},
   "cell_type": "markdown",
   "source": [
    "## String methods\n",
    "\n",
    "Like `list`, the type `str` has lots of very useful methods. I'll show just a few examples here."
   ],
   "id": "b12938a10e64ac08"
  },
  {
   "metadata": {
    "ExecuteTime": {
     "end_time": "2024-06-03T13:22:48.322261Z",
     "start_time": "2024-06-03T13:22:48.318621Z"
    }
   },
   "cell_type": "code",
   "source": [
    "# ALL CAPS\n",
    "claim = \"Pluto is a planet!\"\n",
    "claim.upper()"
   ],
   "id": "ef962b5b17b428f2",
   "outputs": [
    {
     "data": {
      "text/plain": [
       "'PLUTO IS A PLANET!'"
      ]
     },
     "execution_count": 13,
     "metadata": {},
     "output_type": "execute_result"
    }
   ],
   "execution_count": 13
  },
  {
   "metadata": {
    "ExecuteTime": {
     "end_time": "2024-06-03T13:22:48.814605Z",
     "start_time": "2024-06-03T13:22:48.811331Z"
    }
   },
   "cell_type": "code",
   "source": [
    "# all lowercase\n",
    "claim.lower()"
   ],
   "id": "45c7388fd021e973",
   "outputs": [
    {
     "data": {
      "text/plain": [
       "'pluto is a planet!'"
      ]
     },
     "execution_count": 14,
     "metadata": {},
     "output_type": "execute_result"
    }
   ],
   "execution_count": 14
  },
  {
   "metadata": {
    "ExecuteTime": {
     "end_time": "2024-06-03T13:22:48.905418Z",
     "start_time": "2024-06-03T13:22:48.902479Z"
    }
   },
   "cell_type": "code",
   "source": [
    "# Searching for the first index of a substring (including spaces and starting from 0)\n",
    "claim.index('plan')"
   ],
   "id": "180da6851192f55f",
   "outputs": [
    {
     "data": {
      "text/plain": [
       "11"
      ]
     },
     "execution_count": 15,
     "metadata": {},
     "output_type": "execute_result"
    }
   ],
   "execution_count": 15
  },
  {
   "metadata": {
    "ExecuteTime": {
     "end_time": "2024-06-03T13:22:48.974370Z",
     "start_time": "2024-06-03T13:22:48.971828Z"
    }
   },
   "cell_type": "code",
   "source": [
    "claim.startswith(planet)\n",
    "print(planet)"
   ],
   "id": "1edfcedaec3b1d9e",
   "outputs": [
    {
     "name": "stdout",
     "output_type": "stream",
     "text": [
      "Pluto\n"
     ]
    }
   ],
   "execution_count": 16
  },
  {
   "metadata": {
    "ExecuteTime": {
     "end_time": "2024-06-03T13:22:49.096575Z",
     "start_time": "2024-06-03T13:22:49.093008Z"
    }
   },
   "cell_type": "code",
   "source": [
    "# false because of missing exclamation mark\n",
    "claim.endswith('planet')"
   ],
   "id": "d0a7ef4e5f53b645",
   "outputs": [
    {
     "data": {
      "text/plain": [
       "False"
      ]
     },
     "execution_count": 17,
     "metadata": {},
     "output_type": "execute_result"
    }
   ],
   "execution_count": 17
  },
  {
   "metadata": {},
   "cell_type": "markdown",
   "source": [
    "## Going between strings and lists: `.split()` and `.join()`\n",
    "\n",
    "`str.split()` turns a string into a list of smaller strings, breaking on whitespace by default. This is super useful for taking you from one big string to a list of words."
   ],
   "id": "5d03971a9b654b1d"
  },
  {
   "metadata": {
    "ExecuteTime": {
     "end_time": "2024-06-03T13:22:49.229149Z",
     "start_time": "2024-06-03T13:22:49.225941Z"
    }
   },
   "cell_type": "code",
   "source": [
    "print(claim)\n",
    "words = claim.split()\n",
    "print(words)"
   ],
   "id": "b2361b3b53b97657",
   "outputs": [
    {
     "name": "stdout",
     "output_type": "stream",
     "text": [
      "Pluto is a planet!\n",
      "['Pluto', 'is', 'a', 'planet!']\n"
     ]
    }
   ],
   "execution_count": 18
  },
  {
   "metadata": {},
   "cell_type": "markdown",
   "source": "Occasionally you'll want to split on something other than whitespace:",
   "id": "abe5916e77b03257"
  },
  {
   "metadata": {
    "ExecuteTime": {
     "end_time": "2024-06-03T13:22:49.391249Z",
     "start_time": "2024-06-03T13:22:49.389239Z"
    }
   },
   "cell_type": "code",
   "source": [
    "datestr = '1956-01-31'\n",
    "year, month, day = datestr.split('-')"
   ],
   "id": "1f2689accee89000",
   "outputs": [],
   "execution_count": 19
  },
  {
   "metadata": {},
   "cell_type": "markdown",
   "source": "`str.join()` takes us in the other direction, sewing a list of strings up into one long string, using the string it was called on as a separator.",
   "id": "9fb4bbc26e58299"
  },
  {
   "metadata": {
    "ExecuteTime": {
     "end_time": "2024-06-03T13:22:49.562162Z",
     "start_time": "2024-06-03T13:22:49.558773Z"
    }
   },
   "cell_type": "code",
   "source": "'/'.join([month, day, year])",
   "id": "c8ce16da13a4aa98",
   "outputs": [
    {
     "data": {
      "text/plain": [
       "'01/31/1956'"
      ]
     },
     "execution_count": 20,
     "metadata": {},
     "output_type": "execute_result"
    }
   ],
   "execution_count": 20
  },
  {
   "metadata": {
    "ExecuteTime": {
     "end_time": "2024-06-03T13:22:49.647784Z",
     "start_time": "2024-06-03T13:22:49.644483Z"
    }
   },
   "cell_type": "code",
   "source": [
    "# Yes, we can put unicode characters right in our string literals :)\n",
    "' 👏 '.join([word.upper() for word in words])"
   ],
   "id": "57f43a7f3f6effea",
   "outputs": [
    {
     "data": {
      "text/plain": [
       "'PLUTO 👏 IS 👏 A 👏 PLANET!'"
      ]
     },
     "execution_count": 21,
     "metadata": {},
     "output_type": "execute_result"
    }
   ],
   "execution_count": 21
  },
  {
   "metadata": {},
   "cell_type": "markdown",
   "source": [
    "## Building strings with `.format()`\n",
    "\n",
    "Python lets us concatenate strings with the `+` operator."
   ],
   "id": "68884923749653a4"
  },
  {
   "metadata": {
    "ExecuteTime": {
     "end_time": "2024-06-03T13:22:49.822615Z",
     "start_time": "2024-06-03T13:22:49.819603Z"
    }
   },
   "cell_type": "code",
   "source": "planet + ', we miss you.'",
   "id": "e4c34516b3e0deac",
   "outputs": [
    {
     "data": {
      "text/plain": [
       "'Pluto, we miss you.'"
      ]
     },
     "execution_count": 22,
     "metadata": {},
     "output_type": "execute_result"
    }
   ],
   "execution_count": 22
  },
  {
   "metadata": {},
   "cell_type": "markdown",
   "source": "If we want to throw in any non-string objects, we have to be careful to call `str(`)` on them first:",
   "id": "78e39c204df3840a"
  },
  {
   "metadata": {
    "ExecuteTime": {
     "end_time": "2024-06-03T13:22:49.989563Z",
     "start_time": "2024-06-03T13:22:49.976385Z"
    }
   },
   "cell_type": "code",
   "source": [
    "position = 9\n",
    "planet + \", you'll always be the \" + position + \"th planet to me.\""
   ],
   "id": "f2415fb019fa76b0",
   "outputs": [
    {
     "ename": "TypeError",
     "evalue": "can only concatenate str (not \"int\") to str",
     "output_type": "error",
     "traceback": [
      "\u001B[0;31m---------------------------------------------------------------------------\u001B[0m",
      "\u001B[0;31mTypeError\u001B[0m                                 Traceback (most recent call last)",
      "Cell \u001B[0;32mIn[23], line 2\u001B[0m\n\u001B[1;32m      1\u001B[0m position \u001B[38;5;241m=\u001B[39m \u001B[38;5;241m9\u001B[39m\n\u001B[0;32m----> 2\u001B[0m \u001B[43mplanet\u001B[49m\u001B[43m \u001B[49m\u001B[38;5;241;43m+\u001B[39;49m\u001B[43m \u001B[49m\u001B[38;5;124;43m\"\u001B[39;49m\u001B[38;5;124;43m, you\u001B[39;49m\u001B[38;5;124;43m'\u001B[39;49m\u001B[38;5;124;43mll always be the \u001B[39;49m\u001B[38;5;124;43m\"\u001B[39;49m\u001B[43m \u001B[49m\u001B[38;5;241;43m+\u001B[39;49m\u001B[43m \u001B[49m\u001B[43mposition\u001B[49m \u001B[38;5;241m+\u001B[39m \u001B[38;5;124m\"\u001B[39m\u001B[38;5;124mth planet to me.\u001B[39m\u001B[38;5;124m\"\u001B[39m\n",
      "\u001B[0;31mTypeError\u001B[0m: can only concatenate str (not \"int\") to str"
     ]
    }
   ],
   "execution_count": 23
  },
  {
   "metadata": {
    "ExecuteTime": {
     "end_time": "2024-06-03T13:22:50.091313Z",
     "start_time": "2024-06-03T13:22:50.082643Z"
    }
   },
   "cell_type": "code",
   "source": "planet + \", you'll always be the \" + str(position) + \"th planet to me.\"",
   "id": "ac3e421c7a024272",
   "outputs": [
    {
     "data": {
      "text/plain": [
       "\"Pluto, you'll always be the 9th planet to me.\""
      ]
     },
     "execution_count": 24,
     "metadata": {},
     "output_type": "execute_result"
    }
   ],
   "execution_count": 24
  },
  {
   "metadata": {},
   "cell_type": "markdown",
   "source": "This is getting hard to read and annoying to type. `str.format()` to the rescue.",
   "id": "67eb1004d1c08812"
  },
  {
   "metadata": {
    "ExecuteTime": {
     "end_time": "2024-06-03T13:22:50.308828Z",
     "start_time": "2024-06-03T13:22:50.304378Z"
    }
   },
   "cell_type": "code",
   "source": "\"{}, you'll always be the {}th planet to me.\" .format(planet, position)",
   "id": "8849fc2b0e34ac11",
   "outputs": [
    {
     "data": {
      "text/plain": [
       "\"Pluto, you'll always be the 9th planet to me.\""
      ]
     },
     "execution_count": 25,
     "metadata": {},
     "output_type": "execute_result"
    }
   ],
   "execution_count": 25
  },
  {
   "metadata": {},
   "cell_type": "markdown",
   "source": [
    "So much cleaner! We call `.format()` on a \"format string\", where the Python values we want to insert are represented with `{}` placeholders.\n",
    "\n",
    "Notice how we didn't even have to call `str()` to convert `positio`n from an int. `format()` takes care of that for us.\n",
    "\n",
    "If that was all that `format()` did, it would still be incredibly useful. But as it turns out, it can do a lot more. Here's just a taste:"
   ],
   "id": "d35993a261854000"
  },
  {
   "metadata": {
    "ExecuteTime": {
     "end_time": "2024-06-03T13:22:50.423907Z",
     "start_time": "2024-06-03T13:22:50.419450Z"
    }
   },
   "cell_type": "code",
   "source": [
    "pluto_mass = 1.303 * 10**22\n",
    "earth_mass = 5.9722 * 10**24\n",
    "population = 52910390\n",
    "#                 2 dp            3 dp, format as percent                 separate with commas\n",
    "\"{} weighs about {:.2} kilograms ({:.3%} of Earth's mass). It is home to {:,} Plutonians.\".format(\n",
    "    planet, pluto_mass, pluto_mass / earth_mass, population,\n",
    ")"
   ],
   "id": "cf0dc8fdba7afb48",
   "outputs": [
    {
     "data": {
      "text/plain": [
       "\"Pluto weighs about 1.3e+22 kilograms (0.218% of Earth's mass). It is home to 52,910,390 Plutonians.\""
      ]
     },
     "execution_count": 26,
     "metadata": {},
     "output_type": "execute_result"
    }
   ],
   "execution_count": 26
  },
  {
   "metadata": {
    "ExecuteTime": {
     "end_time": "2024-06-03T13:22:50.525927Z",
     "start_time": "2024-06-03T13:22:50.523383Z"
    }
   },
   "cell_type": "code",
   "source": [
    "# Referring to format() arguments by index, starting from 0\n",
    "s = \"\"\"Pluto's a {0}.\n",
    "No, it's a {1}.\n",
    "{0}!\n",
    "{1}!\"\"\".format('planet', 'dwarf planet')\n",
    "print(s)"
   ],
   "id": "ee66fcd9b0ea5e35",
   "outputs": [
    {
     "name": "stdout",
     "output_type": "stream",
     "text": [
      "Pluto's a planet.\n",
      "No, it's a dwarf planet.\n",
      "planet!\n",
      "dwarf planet!\n"
     ]
    }
   ],
   "execution_count": 27
  },
  {
   "metadata": {},
   "cell_type": "markdown",
   "source": [
    "## Dictionaries\n",
    "\n",
    "Dictionaries are a built-in Python data structure for mapping keys to values."
   ],
   "id": "8b85e31ca38b6821"
  },
  {
   "metadata": {
    "ExecuteTime": {
     "end_time": "2024-06-03T13:22:51.170685Z",
     "start_time": "2024-06-03T13:22:51.167683Z"
    }
   },
   "cell_type": "code",
   "source": "numbers = {'one':1, 'two':2, 'three':3}",
   "id": "fd57d3f063a9fdfe",
   "outputs": [],
   "execution_count": 28
  },
  {
   "metadata": {},
   "cell_type": "markdown",
   "source": [
    "In this case `'one'`, `'two'`, and `'three'` are the keys, and 1, 2 and 3 are their corresponding values.\n",
    "\n",
    "Values are accessed via square bracket syntax similar to indexing into lists and strings."
   ],
   "id": "9fdfc4adaa93757f"
  },
  {
   "metadata": {
    "ExecuteTime": {
     "end_time": "2024-06-03T13:22:51.731592Z",
     "start_time": "2024-06-03T13:22:51.728041Z"
    }
   },
   "cell_type": "code",
   "source": "numbers[\"one\"]",
   "id": "937f0ee5cfde8c8c",
   "outputs": [
    {
     "data": {
      "text/plain": [
       "1"
      ]
     },
     "execution_count": 29,
     "metadata": {},
     "output_type": "execute_result"
    }
   ],
   "execution_count": 29
  },
  {
   "metadata": {},
   "cell_type": "markdown",
   "source": "We can use the same syntax to add another key, value pair:",
   "id": "921f213a26de39a5"
  },
  {
   "metadata": {
    "ExecuteTime": {
     "end_time": "2024-06-03T13:22:51.902493Z",
     "start_time": "2024-06-03T13:22:51.899308Z"
    }
   },
   "cell_type": "code",
   "source": [
    "numbers[\"eleven\"] = 11\n",
    "numbers"
   ],
   "id": "e7f2b774fadf9169",
   "outputs": [
    {
     "data": {
      "text/plain": [
       "{'one': 1, 'two': 2, 'three': 3, 'eleven': 11}"
      ]
     },
     "execution_count": 30,
     "metadata": {},
     "output_type": "execute_result"
    }
   ],
   "execution_count": 30
  },
  {
   "metadata": {},
   "cell_type": "markdown",
   "source": "Or to change the value associated with an existing key:",
   "id": "9dedcf1be22ecf78"
  },
  {
   "metadata": {
    "ExecuteTime": {
     "end_time": "2024-06-03T13:22:52.067797Z",
     "start_time": "2024-06-03T13:22:52.064857Z"
    }
   },
   "cell_type": "code",
   "source": [
    "numbers['one'] = 'Pluto'\n",
    "numbers"
   ],
   "id": "2fea5ded28581537",
   "outputs": [
    {
     "data": {
      "text/plain": [
       "{'one': 'Pluto', 'two': 2, 'three': 3, 'eleven': 11}"
      ]
     },
     "execution_count": 31,
     "metadata": {},
     "output_type": "execute_result"
    }
   ],
   "execution_count": 31
  },
  {
   "metadata": {},
   "cell_type": "markdown",
   "source": "Python has *dictionary comprehensions* with a syntax similar to the list comprehensions we saw in the previous tutorial.",
   "id": "e0bccea95ed5431"
  },
  {
   "metadata": {
    "ExecuteTime": {
     "end_time": "2024-06-03T13:22:52.508267Z",
     "start_time": "2024-06-03T13:22:52.504283Z"
    }
   },
   "cell_type": "code",
   "source": [
    "planets = ['Mercury', 'Venus', 'Earth', 'Mars', 'Jupiter', 'Saturn', 'Uranus', 'Neptune']\n",
    "planet_to_initial = {planet: planet[0] for planet in planets}\n",
    "planet_to_initial"
   ],
   "id": "c1a7d879785837ce",
   "outputs": [
    {
     "data": {
      "text/plain": [
       "{'Mercury': 'M',\n",
       " 'Venus': 'V',\n",
       " 'Earth': 'E',\n",
       " 'Mars': 'M',\n",
       " 'Jupiter': 'J',\n",
       " 'Saturn': 'S',\n",
       " 'Uranus': 'U',\n",
       " 'Neptune': 'N'}"
      ]
     },
     "execution_count": 32,
     "metadata": {},
     "output_type": "execute_result"
    }
   ],
   "execution_count": 32
  },
  {
   "metadata": {},
   "cell_type": "markdown",
   "source": "The `in` operator tells us whether something is a key in the dictionary.",
   "id": "84b5f9abe57800b0"
  },
  {
   "metadata": {
    "ExecuteTime": {
     "end_time": "2024-06-03T13:22:53.095790Z",
     "start_time": "2024-06-03T13:22:53.088839Z"
    }
   },
   "cell_type": "code",
   "source": "\"Saturn\" in planet_to_initial",
   "id": "ba2bc01195385a58",
   "outputs": [
    {
     "data": {
      "text/plain": [
       "True"
      ]
     },
     "execution_count": 33,
     "metadata": {},
     "output_type": "execute_result"
    }
   ],
   "execution_count": 33
  },
  {
   "metadata": {
    "ExecuteTime": {
     "end_time": "2024-06-03T13:22:53.769502Z",
     "start_time": "2024-06-03T13:22:53.765817Z"
    }
   },
   "cell_type": "code",
   "source": "'Betelgeuse' in planet_to_initial",
   "id": "f447bacc8500c040",
   "outputs": [
    {
     "data": {
      "text/plain": [
       "False"
      ]
     },
     "execution_count": 34,
     "metadata": {},
     "output_type": "execute_result"
    }
   ],
   "execution_count": 34
  },
  {
   "metadata": {},
   "cell_type": "markdown",
   "source": "A `for` loop over a dictionary will loop over its keys:",
   "id": "20bbda694555856e"
  },
  {
   "metadata": {
    "ExecuteTime": {
     "end_time": "2024-06-03T13:22:54.566Z",
     "start_time": "2024-06-03T13:22:54.563218Z"
    }
   },
   "cell_type": "code",
   "source": [
    "for key in numbers:\n",
    "    print(\"{} = {}\".format(key, numbers[key]))"
   ],
   "id": "a92731a923580e5c",
   "outputs": [
    {
     "name": "stdout",
     "output_type": "stream",
     "text": [
      "one = Pluto\n",
      "two = 2\n",
      "three = 3\n",
      "eleven = 11\n"
     ]
    }
   ],
   "execution_count": 35
  },
  {
   "metadata": {},
   "cell_type": "markdown",
   "source": "We can access a collection of all the keys or all the values with `dict.keys()` and `dict.values()`, respectively.",
   "id": "e83062ed319d4989"
  },
  {
   "metadata": {
    "ExecuteTime": {
     "end_time": "2024-06-03T13:22:55.158679Z",
     "start_time": "2024-06-03T13:22:55.155853Z"
    }
   },
   "cell_type": "code",
   "source": [
    "# Get all the initials, sort them alphabetically, and put them in a space-separated string.\n",
    "' '.join(sorted(planet_to_initial.values()))"
   ],
   "id": "26bc336fe6aab215",
   "outputs": [
    {
     "data": {
      "text/plain": [
       "'E J M M N S U V'"
      ]
     },
     "execution_count": 36,
     "metadata": {},
     "output_type": "execute_result"
    }
   ],
   "execution_count": 36
  },
  {
   "metadata": {},
   "cell_type": "markdown",
   "source": "The very useful `dict.items()` method lets us iterate over the keys and values of a dictionary simultaneously. (In Python jargon, an **item** refers to a key, value pair)",
   "id": "6922ee1d3b0d8c1f"
  },
  {
   "metadata": {
    "ExecuteTime": {
     "end_time": "2024-06-03T13:22:55.864713Z",
     "start_time": "2024-06-03T13:22:55.857862Z"
    }
   },
   "cell_type": "code",
   "source": "planet_to_initial.items()",
   "id": "7af27a4140a72f7f",
   "outputs": [
    {
     "data": {
      "text/plain": [
       "dict_items([('Mercury', 'M'), ('Venus', 'V'), ('Earth', 'E'), ('Mars', 'M'), ('Jupiter', 'J'), ('Saturn', 'S'), ('Uranus', 'U'), ('Neptune', 'N')])"
      ]
     },
     "execution_count": 37,
     "metadata": {},
     "output_type": "execute_result"
    }
   ],
   "execution_count": 37
  },
  {
   "metadata": {
    "ExecuteTime": {
     "end_time": "2024-06-03T13:22:56.307778Z",
     "start_time": "2024-06-03T13:22:56.295445Z"
    }
   },
   "cell_type": "code",
   "source": [
    "for planet, initial in planet_to_initial.items():\n",
    "    print(\"{} begins with \\\"{}\\\"\".format(planet.rjust(10), initial))"
   ],
   "id": "24c3df588020b66a",
   "outputs": [
    {
     "name": "stdout",
     "output_type": "stream",
     "text": [
      "   Mercury begins with \"M\"\n",
      "     Venus begins with \"V\"\n",
      "     Earth begins with \"E\"\n",
      "      Mars begins with \"M\"\n",
      "   Jupiter begins with \"J\"\n",
      "    Saturn begins with \"S\"\n",
      "    Uranus begins with \"U\"\n",
      "   Neptune begins with \"N\"\n"
     ]
    }
   ],
   "execution_count": 38
  }
 ],
 "metadata": {
  "kernelspec": {
   "display_name": "Python 3",
   "language": "python",
   "name": "python3"
  },
  "language_info": {
   "codemirror_mode": {
    "name": "ipython",
    "version": 2
   },
   "file_extension": ".py",
   "mimetype": "text/x-python",
   "name": "python",
   "nbconvert_exporter": "python",
   "pygments_lexer": "ipython2",
   "version": "2.7.6"
  }
 },
 "nbformat": 4,
 "nbformat_minor": 5
}
