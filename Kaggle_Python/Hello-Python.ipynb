{
 "cells": [
  {
   "metadata": {},
   "cell_type": "markdown",
   "source": "# Hello, Python",
   "id": "82fe4e144a8ee659"
  },
  {
   "metadata": {},
   "cell_type": "markdown",
   "source": [
    "Python was named for the British comedy troupe Monty Python, so we'll make our first Python program a homage to their skit about Spam.\n",
    "\n",
    "Just for fun, try reading over the code below and predicting what it's going to do when run. (If you have no idea, that's fine!)"
   ],
   "id": "a8ea0c25a271c565"
  },
  {
   "cell_type": "code",
   "id": "initial_id",
   "metadata": {
    "collapsed": true,
    "ExecuteTime": {
     "end_time": "2024-05-18T17:31:47.717611Z",
     "start_time": "2024-05-18T17:31:47.709477Z"
    }
   },
   "source": [
    "spam_amount = 0\n",
    "print(spam_amount)\n",
    "\n",
    "# Ordering Spam, egg, Spam, Spam, bacon and Spam (4 more servings of Spam)\n",
    "spam_amount = spam_amount + 4\n",
    "\n",
    "if spam_amount > 0:\n",
    "    print(\"But I don't want ANY spam!\")\n",
    "\n",
    "viking_song = \"Spam \" * spam_amount\n",
    "print(viking_song)"
   ],
   "outputs": [
    {
     "name": "stdout",
     "output_type": "stream",
     "text": [
      "0\n",
      "But I don't want ANY spam!\n",
      "Spam Spam Spam Spam \n"
     ]
    }
   ],
   "execution_count": 1
  },
  {
   "metadata": {},
   "cell_type": "markdown",
   "source": "There's a lot to unpack here! This silly program demonstrates many important aspects of what Python code looks like and how it works. Let's review the code from top to bottom.",
   "id": "46a1f261c1e9a7b8"
  },
  {
   "metadata": {
    "ExecuteTime": {
     "end_time": "2024-05-18T17:31:47.769258Z",
     "start_time": "2024-05-18T17:31:47.766997Z"
    }
   },
   "cell_type": "code",
   "source": "spam_amount = 0",
   "id": "eb52c014e9694700",
   "outputs": [],
   "execution_count": 2
  },
  {
   "metadata": {},
   "cell_type": "markdown",
   "source": [
    "**Variable assignment:** Here we create a variable called `spam_amount` and assign it the value of 0 using `=`, which is called the assignment operator.\n",
    "\n",
    "**Note:** If you've programmed in certain other languages (like Java or C++), you might be noticing some things Python *doesn't* require us to do here:\n",
    "* We don't need to \"declare\" `spam_amount` before assigning to it.\n",
    "* We don't need to tell Python what type of value `spam_amount` is going to refer to. In fact, we can even go on to reassign `spam_amount` to refer to a different sort of thing like a string or a boolean."
   ],
   "id": "c91c995ea8929b3f"
  },
  {
   "metadata": {
    "ExecuteTime": {
     "end_time": "2024-05-18T17:31:47.774362Z",
     "start_time": "2024-05-18T17:31:47.771708Z"
    }
   },
   "cell_type": "code",
   "source": "print(spam_amount)",
   "id": "aa1c96faa251260a",
   "outputs": [
    {
     "name": "stdout",
     "output_type": "stream",
     "text": [
      "0\n"
     ]
    }
   ],
   "execution_count": 3
  },
  {
   "metadata": {},
   "cell_type": "markdown",
   "source": "**Function calls:** `print` is a Python function that displays the value passed to it on the screen. We call functions by putting parentheses after their name, and putting the inputs (or *arguments*) to the function in those parentheses.",
   "id": "628c28f40429f8d9"
  },
  {
   "metadata": {
    "ExecuteTime": {
     "end_time": "2024-05-18T17:31:47.779006Z",
     "start_time": "2024-05-18T17:31:47.776812Z"
    }
   },
   "cell_type": "code",
   "source": [
    "# Ordering Spam, egg, Spam, Spam, bacon and Spam (4 more servings of Spam)\n",
    "spam_amount = spam_amount + 4"
   ],
   "id": "f9313c3572fddc8",
   "outputs": [],
   "execution_count": 4
  },
  {
   "metadata": {},
   "cell_type": "markdown",
   "source": [
    "The first line above is a **comment**. In Python, comments begin with the `#` symbol.\n",
    "\n",
    "Next we see an example of reassignment. Reassigning the value of an existing variable looks just the same as creating a variable - it still uses the `=` assignment operator.\n",
    "\n",
    "In this case, the value we're assigning to `spam_amount` involves some simple arithmetic on its previous value. When it encounters this line, Python evaluates the expression on the right-hand-side of the `=` (0 + 4 = 4), and then assigns that value to the variable on the left-hand-side."
   ],
   "id": "308f1daff8431005"
  },
  {
   "metadata": {
    "ExecuteTime": {
     "end_time": "2024-05-18T17:31:47.789661Z",
     "start_time": "2024-05-18T17:31:47.786812Z"
    }
   },
   "cell_type": "code",
   "source": [
    "if spam_amount > 0:\n",
    "    print(\"But I don't want ANY spam!\")\n",
    "\n",
    "viking_song = \"Spam Spam Spam\"\n",
    "print(viking_song)"
   ],
   "id": "ee499b024055ec33",
   "outputs": [
    {
     "name": "stdout",
     "output_type": "stream",
     "text": [
      "But I don't want ANY spam!\n",
      "Spam Spam Spam\n"
     ]
    }
   ],
   "execution_count": 5
  },
  {
   "metadata": {},
   "cell_type": "markdown",
   "source": [
    "We won't talk much about \"conditionals\" until later, but, even if you've never coded before, you can probably guess what this does. Python is prized for its readability and the simplicity.\n",
    "\n",
    "Note how we indicated which code belongs to the `if`. `\"But I don't want ANY spam!\"` is only supposed to be printed if `spam_amount` is positive. But the later code (like `print(viking_song)`) should be executed no matter what. How do we (and Python) know that?\n",
    "\n",
    "The colon (`:`) at the end of the `if` line indicates that a new **code block** is starting. Subsequent lines which are indented are part of that code block.\n",
    "\n",
    "**Note:** If you've coded before, you might know that some other languages use `{`curly braces`}` to mark the beginning and end of code blocks. Python's use of meaningful whitespace can be surprising to programmers who are accustomed to other languages, but in practice it can lead to more consistent and readable code than languages that do not enforce indentation of code blocks.\n",
    "\n",
    "The later lines dealing with `viking_song` are not indented with an extra 4 spaces, so they're not a part of the if's code block. We'll see more examples of indented code blocks later when we define functions and using loops.\n",
    "\n",
    "This code snippet is also our first sighting of a **string** in Python:"
   ],
   "id": "7155f6b98033c2f8"
  },
  {
   "metadata": {
    "ExecuteTime": {
     "end_time": "2024-05-18T17:31:47.812303Z",
     "start_time": "2024-05-18T17:31:47.807415Z"
    }
   },
   "cell_type": "code",
   "source": "\"But I don't want ANY spam!\"",
   "id": "cc5acc3320e89b6f",
   "outputs": [
    {
     "data": {
      "text/plain": [
       "\"But I don't want ANY spam!\""
      ]
     },
     "execution_count": 6,
     "metadata": {},
     "output_type": "execute_result"
    }
   ],
   "execution_count": 6
  },
  {
   "metadata": {},
   "cell_type": "markdown",
   "source": "Strings can be marked either by double or single quotation marks. (But because this particular string *contains* a single-quote character, we might confuse Python by trying to surround it with single-quotes, unless we're careful.)",
   "id": "420a7d0b503ce87a"
  },
  {
   "metadata": {
    "ExecuteTime": {
     "end_time": "2024-05-18T17:31:47.840525Z",
     "start_time": "2024-05-18T17:31:47.838181Z"
    }
   },
   "cell_type": "code",
   "source": [
    "viking_song = \"Spam \" * spam_amount\n",
    "print(viking_song)"
   ],
   "id": "302e2dad69a2f502",
   "outputs": [
    {
     "name": "stdout",
     "output_type": "stream",
     "text": [
      "Spam Spam Spam Spam \n"
     ]
    }
   ],
   "execution_count": 7
  },
  {
   "metadata": {},
   "cell_type": "markdown",
   "source": [
    "The `*` operator can be used to multiply two numbers (`3 * 3` evaluates to 9), but we can also multiply a string by a number, to get a version that's been repeated that many times. Python offers a number of cheeky little time-saving tricks like this where operators like `*` and `+` have a different meaning depending on what kind of thing they're applied to. (The technical term for this is operator overloading.)\n",
    "\n",
    "## Numbers and arithmetic in Python\n",
    "\n",
    "We've already seen an example of a variable containing a number above:"
   ],
   "id": "4026ab6b3917faac"
  },
  {
   "metadata": {
    "ExecuteTime": {
     "end_time": "2024-05-18T17:31:47.856063Z",
     "start_time": "2024-05-18T17:31:47.853953Z"
    }
   },
   "cell_type": "code",
   "source": "spam_amount = 0",
   "id": "79303d49a936e7b2",
   "outputs": [],
   "execution_count": 8
  },
  {
   "metadata": {},
   "cell_type": "markdown",
   "source": "\"Number\" is a fine informal name for the kind of thing, but if we wanted to be more technical, we could ask Python how it would describe the type of thing that `spam_amount` is:",
   "id": "b75afe83d188c984"
  },
  {
   "metadata": {
    "ExecuteTime": {
     "end_time": "2024-05-18T17:31:47.861421Z",
     "start_time": "2024-05-18T17:31:47.857993Z"
    }
   },
   "cell_type": "code",
   "source": "type(spam_amount)",
   "id": "99642a39d75f0f5",
   "outputs": [
    {
     "data": {
      "text/plain": [
       "int"
      ]
     },
     "execution_count": 9,
     "metadata": {},
     "output_type": "execute_result"
    }
   ],
   "execution_count": 9
  },
  {
   "metadata": {},
   "cell_type": "markdown",
   "source": "It's an `int` - short for integer. There's another sort of number we commonly encounter in Python:",
   "id": "c299d8a556b3c7b5"
  },
  {
   "metadata": {
    "ExecuteTime": {
     "end_time": "2024-05-18T17:31:47.898609Z",
     "start_time": "2024-05-18T17:31:47.895555Z"
    }
   },
   "cell_type": "code",
   "source": "type(19.95)",
   "id": "d23209cf0af6074d",
   "outputs": [
    {
     "data": {
      "text/plain": [
       "float"
      ]
     },
     "execution_count": 10,
     "metadata": {},
     "output_type": "execute_result"
    }
   ],
   "execution_count": 10
  },
  {
   "metadata": {},
   "cell_type": "markdown",
   "source": [
    "A `float` is a number with a decimal place - very useful for representing things like weights or proportions.\n",
    "\n",
    "`type()` is the second built-in function we've seen (after `print()`), and it's another good one to remember. It's very useful to be able to ask Python \"what kind of thing is this?\".\n",
    "\n",
    "A natural thing to want to do with numbers is perform arithmetic. We've seen the `+` operator for addition, and the `*` operator for multiplication. Python also has us covered for the rest of the basic buttons on your calculator:\n",
    "* `a + b`: Addition - Sum of `a` and `b`\n",
    "* `a - b`: Subtraction - Difference of `a` and `b`\n",
    "* `a * b`:  Multiplication - Product of `a` and `b`\n",
    "* `a / b`:  True division - Quotient of `a` and `b`\n",
    "* `a // b`: Floor division - Quotient of `a` and `b`, removing fractional parts\n",
    "* `a % b`: Modulus - Integer remainder after division of `a` by `b`\n",
    "* `a ** b`: Exponentiation - `a` raised to the power of `b`\n",
    "* `-a`: Negation - The negative of `a`\n",
    "\n",
    "One interesting observation here is that, whereas your calculator probably just has one button for division, Python can do two kinds. \"True division\" is basically what your calculator does:"
   ],
   "id": "7c470c07f349861f"
  },
  {
   "metadata": {
    "ExecuteTime": {
     "end_time": "2024-05-18T17:31:47.910304Z",
     "start_time": "2024-05-18T17:31:47.907553Z"
    }
   },
   "cell_type": "code",
   "source": [
    "print(5 / 2)\n",
    "print(6 / 2)"
   ],
   "id": "fb7826f454ed06f4",
   "outputs": [
    {
     "name": "stdout",
     "output_type": "stream",
     "text": [
      "2.5\n",
      "3.0\n"
     ]
    }
   ],
   "execution_count": 11
  },
  {
   "metadata": {},
   "cell_type": "markdown",
   "source": [
    "It always gives us a `float`.\n",
    "\n",
    "The `//` operator gives us a result that's rounded down to the next integer."
   ],
   "id": "63134f92309f3479"
  },
  {
   "metadata": {
    "ExecuteTime": {
     "end_time": "2024-05-18T17:31:47.922586Z",
     "start_time": "2024-05-18T17:31:47.919982Z"
    }
   },
   "cell_type": "code",
   "source": [
    "print(5 // 2)\n",
    "print(6 // 2)"
   ],
   "id": "5471c99d72fd91b3",
   "outputs": [
    {
     "name": "stdout",
     "output_type": "stream",
     "text": [
      "2\n",
      "3\n"
     ]
    }
   ],
   "execution_count": 12
  },
  {
   "metadata": {},
   "cell_type": "markdown",
   "source": [
    "## Order of operations\n",
    "\n",
    "The arithmetic we learned in primary school has conventions about the order in which operations are evaluated. Some remember these by a mnemonic such as **PEMDAS** - **P**arentheses, **E**xponents, **M**ultiplication/**D**ivision, **A**ddition/**S**ubtraction.\n",
    "\n",
    "Python follows similar rules about which calculations to perform first. They're mostly pretty intuitive."
   ],
   "id": "e4f248adf78fe4b9"
  },
  {
   "metadata": {
    "ExecuteTime": {
     "end_time": "2024-05-18T17:31:47.958720Z",
     "start_time": "2024-05-18T17:31:47.954635Z"
    }
   },
   "cell_type": "code",
   "source": "8 - 3 + 2",
   "id": "7c817d5c6f29410e",
   "outputs": [
    {
     "data": {
      "text/plain": [
       "7"
      ]
     },
     "execution_count": 13,
     "metadata": {},
     "output_type": "execute_result"
    }
   ],
   "execution_count": 13
  },
  {
   "metadata": {
    "ExecuteTime": {
     "end_time": "2024-05-18T17:31:47.970717Z",
     "start_time": "2024-05-18T17:31:47.967179Z"
    }
   },
   "cell_type": "code",
   "source": "-3 + 4 * 2",
   "id": "a671af165147db23",
   "outputs": [
    {
     "data": {
      "text/plain": [
       "5"
      ]
     },
     "execution_count": 14,
     "metadata": {},
     "output_type": "execute_result"
    }
   ],
   "execution_count": 14
  },
  {
   "metadata": {},
   "cell_type": "markdown",
   "source": "Sometimes the default order of operations isn't what we want:",
   "id": "66ca663d719c14a4"
  },
  {
   "metadata": {
    "ExecuteTime": {
     "end_time": "2024-05-18T17:31:47.982933Z",
     "start_time": "2024-05-18T17:31:47.979542Z"
    }
   },
   "cell_type": "code",
   "source": [
    "hat_height_cm = 25\n",
    "my_height_cm = 190\n",
    "# How tall am I, in meters, when wearing my hat?\n",
    "total_height_meters = hat_height_cm + my_height_cm / 100\n",
    "print(\"Height in meters =\", total_height_meters, \"?\")"
   ],
   "id": "2a270ed9121d4b1a",
   "outputs": [
    {
     "name": "stdout",
     "output_type": "stream",
     "text": [
      "Height in meters = 26.9 ?\n"
     ]
    }
   ],
   "execution_count": 15
  },
  {
   "metadata": {},
   "cell_type": "markdown",
   "source": "Parentheses are useful here. You can add them to force Python to evaluate sub-expressions in whatever order you want.",
   "id": "9dadf2447c6e79e5"
  },
  {
   "metadata": {
    "ExecuteTime": {
     "end_time": "2024-05-18T17:31:48.011159Z",
     "start_time": "2024-05-18T17:31:48.008033Z"
    }
   },
   "cell_type": "code",
   "source": [
    "total_height_meters = (hat_height_cm + my_height_cm) / 100\n",
    "print(\"Height in meters =\", total_height_meters)"
   ],
   "id": "e592fcfdfcf57a7f",
   "outputs": [
    {
     "name": "stdout",
     "output_type": "stream",
     "text": [
      "Height in meters = 2.15\n"
     ]
    }
   ],
   "execution_count": 16
  },
  {
   "metadata": {},
   "cell_type": "markdown",
   "source": [
    "## Builtin functions for working with numbers\n",
    "\n",
    "`min` and `max` return the minimum and maximum of their arguments, respectively..."
   ],
   "id": "7c4d6c9dda9a571b"
  },
  {
   "metadata": {
    "ExecuteTime": {
     "end_time": "2024-05-18T17:31:48.023403Z",
     "start_time": "2024-05-18T17:31:48.020163Z"
    }
   },
   "cell_type": "code",
   "source": [
    "print(min(1, 2, 3))\n",
    "print(max(1, 2, 3))"
   ],
   "id": "941142fd07a7814f",
   "outputs": [
    {
     "name": "stdout",
     "output_type": "stream",
     "text": [
      "1\n",
      "3\n"
     ]
    }
   ],
   "execution_count": 17
  },
  {
   "metadata": {},
   "cell_type": "markdown",
   "source": "`abs` returns the absolute value of an argument:",
   "id": "c6ab84dd53669a5c"
  },
  {
   "metadata": {
    "ExecuteTime": {
     "end_time": "2024-05-18T17:31:48.035244Z",
     "start_time": "2024-05-18T17:31:48.032506Z"
    }
   },
   "cell_type": "code",
   "source": [
    "print(abs(32))\n",
    "print(abs(-32))"
   ],
   "id": "65deb25ecd21c268",
   "outputs": [
    {
     "name": "stdout",
     "output_type": "stream",
     "text": [
      "32\n",
      "32\n"
     ]
    }
   ],
   "execution_count": 18
  },
  {
   "metadata": {},
   "cell_type": "markdown",
   "source": "In addition to being the names of Python's two main numerical types, `int` and `float` can also be called as functions which convert their arguments to the corresponding type:",
   "id": "3fce310e2bdc871f"
  },
  {
   "metadata": {
    "ExecuteTime": {
     "end_time": "2024-05-18T17:31:48.068944Z",
     "start_time": "2024-05-18T17:31:48.066383Z"
    }
   },
   "cell_type": "code",
   "source": [
    "print(float(10))\n",
    "print(int(3.33))\n",
    "# They can even be called on strings!\n",
    "print(int('807') + 1)"
   ],
   "id": "700438cc3172407",
   "outputs": [
    {
     "name": "stdout",
     "output_type": "stream",
     "text": [
      "10.0\n",
      "3\n",
      "808\n"
     ]
    }
   ],
   "execution_count": 19
  }
 ],
 "metadata": {
  "kernelspec": {
   "display_name": "Python 3",
   "language": "python",
   "name": "python3"
  },
  "language_info": {
   "codemirror_mode": {
    "name": "ipython",
    "version": 2
   },
   "file_extension": ".py",
   "mimetype": "text/x-python",
   "name": "python",
   "nbconvert_exporter": "python",
   "pygments_lexer": "ipython2",
   "version": "2.7.6"
  }
 },
 "nbformat": 4,
 "nbformat_minor": 5
}
