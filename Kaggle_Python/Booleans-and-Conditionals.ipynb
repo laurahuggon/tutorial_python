{
 "cells": [
  {
   "metadata": {},
   "cell_type": "markdown",
   "source": "# Booleans and Conditionals",
   "id": "57bc9ed6caa46f8c"
  },
  {
   "metadata": {},
   "cell_type": "markdown",
   "source": [
    "## Booleans\n",
    "\n",
    "Python has a type of variable called `bool`. It has two possible values: `True` and `False`."
   ],
   "id": "82859fd3535998da"
  },
  {
   "cell_type": "code",
   "id": "initial_id",
   "metadata": {
    "collapsed": true,
    "ExecuteTime": {
     "end_time": "2024-05-24T20:05:59.234491Z",
     "start_time": "2024-05-24T20:05:59.227295Z"
    }
   },
   "source": [
    "x = True\n",
    "print(x)\n",
    "print(type(x))"
   ],
   "outputs": [
    {
     "name": "stdout",
     "output_type": "stream",
     "text": [
      "True\n",
      "<class 'bool'>\n"
     ]
    }
   ],
   "execution_count": 1
  },
  {
   "metadata": {},
   "cell_type": "markdown",
   "source": [
    "Rather than putting `True` or `False` directly in our code, we usually get boolean values from **boolean operators**. These are operators that answer yes/no questions. We'll go through some of these operators below.\n",
    "\n",
    "## Comparison operations\n",
    "\n",
    "* `a == b` - `a` equal to `b`\n",
    "* `a != b` - `a` not equal to `b`\n",
    "* `a < b` - `a` less than `b`\n",
    "* `a > b` - `a` greater than `b`\n",
    "* `a <= b` - `a` less than or equal to `b`\n",
    "* `a >= b` - `a` greater than or equal to `b`"
   ],
   "id": "6ccba2d72a0d0baf"
  },
  {
   "metadata": {
    "ExecuteTime": {
     "end_time": "2024-05-24T20:05:59.275488Z",
     "start_time": "2024-05-24T20:05:59.271752Z"
    }
   },
   "cell_type": "code",
   "source": [
    "def can_run_for_president(age):\n",
    "    \"\"\"Can someone of the given age run for president in the US?\"\"\"\n",
    "    # The US Constitution says you must be at least 35 years old\n",
    "    return age >= 35\n",
    "\n",
    "print(\"Can a 19-year-old run for president?\", can_run_for_president(19))\n",
    "print(\"Can a 45-year-old run for president?\", can_run_for_president(45))"
   ],
   "id": "cbfb23163c9c65e1",
   "outputs": [
    {
     "name": "stdout",
     "output_type": "stream",
     "text": [
      "Can a 19-year-old run for president? False\n",
      "Can a 45-year-old run for president? True\n"
     ]
    }
   ],
   "execution_count": 2
  },
  {
   "metadata": {},
   "cell_type": "markdown",
   "source": "Comparisons frequently work like you'd hope.",
   "id": "19ca48d147de69b3"
  },
  {
   "metadata": {
    "ExecuteTime": {
     "end_time": "2024-05-24T20:05:59.291865Z",
     "start_time": "2024-05-24T20:05:59.286235Z"
    }
   },
   "cell_type": "code",
   "source": "3.0 == 3",
   "id": "deb070e62290d15",
   "outputs": [
    {
     "data": {
      "text/plain": [
       "True"
      ]
     },
     "execution_count": 3,
     "metadata": {},
     "output_type": "execute_result"
    }
   ],
   "execution_count": 3
  },
  {
   "metadata": {},
   "cell_type": "markdown",
   "source": "But sometimes they can be tricky.",
   "id": "79930f45f15a9a79"
  },
  {
   "metadata": {
    "ExecuteTime": {
     "end_time": "2024-05-24T20:05:59.297750Z",
     "start_time": "2024-05-24T20:05:59.293430Z"
    }
   },
   "cell_type": "code",
   "source": "\"3\" == 3",
   "id": "a701a061b15bdab",
   "outputs": [
    {
     "data": {
      "text/plain": [
       "False"
      ]
     },
     "execution_count": 4,
     "metadata": {},
     "output_type": "execute_result"
    }
   ],
   "execution_count": 4
  },
  {
   "metadata": {},
   "cell_type": "markdown",
   "source": "Comparison operators can be combined with the arithmetic operators we've already seen to express a virtually limitless range of mathematical tests. For example, we can check if a number is odd by checking that the modulus with 2 returns 1:",
   "id": "9a0832c055ba3ceb"
  },
  {
   "metadata": {
    "ExecuteTime": {
     "end_time": "2024-05-24T20:05:59.301878Z",
     "start_time": "2024-05-24T20:05:59.298996Z"
    }
   },
   "cell_type": "code",
   "source": [
    "def is_odd(n):\n",
    "    return (n % 2) == 1\n",
    "\n",
    "print(\"Is 100 odd?\", is_odd(100))\n",
    "print(\"Is -1 odd?\", is_odd(-1))"
   ],
   "id": "418b6c5c7bdeb88f",
   "outputs": [
    {
     "name": "stdout",
     "output_type": "stream",
     "text": [
      "Is 100 odd? False\n",
      "Is -1 odd? True\n"
     ]
    }
   ],
   "execution_count": 5
  },
  {
   "metadata": {},
   "cell_type": "markdown",
   "source": [
    "Remember to use `==` instead of `=` when making comparisons. If you write `n == 2` you are asking about the value of n. When you write `n = 2` you are changing the value of n.\n",
    "\n",
    "## Combining boolean values\n",
    "\n",
    "You can combine boolean values using the standard concepts of \"and\", \"or\", and \"not\". In fact, the words to do this are: `and`, `or`, and `not`.\n",
    "\n",
    "With these, we can make our `can_run_for_president` function more accurate."
   ],
   "id": "469d80823f9a2b35"
  },
  {
   "metadata": {
    "ExecuteTime": {
     "end_time": "2024-05-24T20:05:59.324875Z",
     "start_time": "2024-05-24T20:05:59.321347Z"
    }
   },
   "cell_type": "code",
   "source": [
    "def can_run_for_president(age, is_natural_born_citizen):\n",
    "    \"\"\"Can someone of the given age and citizenship status run for president in the US?\"\"\"\n",
    "    # The US Constitution says you must be a natural born citizen *and* at least 35 years old\n",
    "    return is_natural_born_citizen and (age >= 35)\n",
    "\n",
    "print(can_run_for_president(19, True))\n",
    "print(can_run_for_president(55, False))\n",
    "print(can_run_for_president(55, True))"
   ],
   "id": "fd9a02d9ccc4149b",
   "outputs": [
    {
     "name": "stdout",
     "output_type": "stream",
     "text": [
      "False\n",
      "False\n",
      "True\n"
     ]
    }
   ],
   "execution_count": 6
  },
  {
   "metadata": {},
   "cell_type": "markdown",
   "source": "Consider the following expression:",
   "id": "cea553eb9e2df80"
  },
  {
   "metadata": {
    "ExecuteTime": {
     "end_time": "2024-05-24T20:05:59.336852Z",
     "start_time": "2024-05-24T20:05:59.333793Z"
    }
   },
   "cell_type": "code",
   "source": [
    "have_umbrella = False\n",
    "have_hood = False\n",
    "rain_level = 0\n",
    "is_workday = False\n",
    "\n",
    "prepared_for_weather = have_umbrella or rain_level < 5 and have_hood or not rain_level > 0 and is_workday\n",
    "\n",
    "print(prepared_for_weather)"
   ],
   "id": "d479ae9eb67ad083",
   "outputs": [
    {
     "name": "stdout",
     "output_type": "stream",
     "text": [
      "False\n"
     ]
    }
   ],
   "execution_count": 7
  },
  {
   "metadata": {},
   "cell_type": "markdown",
   "source": [
    "I'm trying to say that I'm prepared for today's weather:\n",
    "* If I have an umbrella.\n",
    "* Or if the rain isn't too heavy and I have a hood.\n",
    "* Otherwise, I'm still fine unless it's raining and it's a workday.\n",
    "\n",
    "But not only is my Python code hard to read, it has a bug. We can address both problems by adding some parentheses:"
   ],
   "id": "556fda97cf717f28"
  },
  {
   "metadata": {
    "ExecuteTime": {
     "end_time": "2024-05-24T20:05:59.347320Z",
     "start_time": "2024-05-24T20:05:59.344880Z"
    }
   },
   "cell_type": "code",
   "source": [
    "prepared_for_weather = have_umbrella or (rain_level < 5 and have_hood) or not (rain_level > 0 and is_workday)\n",
    "\n",
    "print(prepared_for_weather)"
   ],
   "id": "4f71bd9f32ec0ab3",
   "outputs": [
    {
     "name": "stdout",
     "output_type": "stream",
     "text": [
      "True\n"
     ]
    }
   ],
   "execution_count": 8
  },
  {
   "metadata": {},
   "cell_type": "markdown",
   "source": "You can add even more parentheses if you think it helps readability:",
   "id": "c95b79b26422c194"
  },
  {
   "metadata": {
    "ExecuteTime": {
     "end_time": "2024-05-24T20:05:59.375850Z",
     "start_time": "2024-05-24T20:05:59.373444Z"
    }
   },
   "cell_type": "code",
   "source": "prepared_for_weather = have_umbrella or ((rain_level < 5) and have_hood) or (not (rain_level > 0 and is_workday))",
   "id": "45f9a9ba9c8d5e47",
   "outputs": [],
   "execution_count": 9
  },
  {
   "metadata": {},
   "cell_type": "markdown",
   "source": "We can also split it over multiple lines to emphasize the 3-part structure described above:",
   "id": "599a3e8c2050a1be"
  },
  {
   "metadata": {
    "ExecuteTime": {
     "end_time": "2024-05-24T20:05:59.380561Z",
     "start_time": "2024-05-24T20:05:59.377861Z"
    }
   },
   "cell_type": "code",
   "source": [
    "prepared_for_weather = (\n",
    "    have_umbrella \n",
    "    or ((rain_level < 5) and have_hood) \n",
    "    or (not (rain_level > 0 and is_workday))\n",
    ")"
   ],
   "id": "fe13e45c8c2f149d",
   "outputs": [],
   "execution_count": 10
  },
  {
   "metadata": {},
   "cell_type": "markdown",
   "source": [
    "## Conditionals\n",
    "\n",
    "Booleans are most useful when combined with conditional statements, using the keywords `if`, `elif`, and `else`.\n",
    "\n",
    "Conditional statements, often referred to as *if-then* statements, let you control what pieces of code are run based on the value of some Boolean condition. Here's an example:"
   ],
   "id": "49e45da82b9bd045"
  },
  {
   "metadata": {
    "ExecuteTime": {
     "end_time": "2024-05-24T20:05:59.390452Z",
     "start_time": "2024-05-24T20:05:59.387157Z"
    }
   },
   "cell_type": "code",
   "source": [
    "def inspect(x):\n",
    "    if x == 0:\n",
    "        print(x, \"is zero\")\n",
    "    elif x > 0:\n",
    "        print(x, \"is positive\")\n",
    "    elif x < 0:\n",
    "        print(x, \"is negative\")\n",
    "    else:\n",
    "        print(x, \"is unlike anything I've ever seen...\")\n",
    "\n",
    "inspect(0)\n",
    "inspect(-15)"
   ],
   "id": "ec38dba817c3fa47",
   "outputs": [
    {
     "name": "stdout",
     "output_type": "stream",
     "text": [
      "0 is zero\n",
      "-15 is negative\n"
     ]
    }
   ],
   "execution_count": 11
  },
  {
   "metadata": {},
   "cell_type": "markdown",
   "source": [
    "The `if` and `else` keywords are often used in other languages; its more unique keyword is `elif`, a contraction of \"else if\". In these conditional clauses, `elif` and `else` blocks are optional; additionally, you can include as many elif statements as you would like.\n",
    "\n",
    "Note especially the use of colons (`:`) and whitespace to denote separate blocks of code. This is similar to what happens when we define a function - the function header ends with `:`, and the following line is indented with 4 spaces. All subsequent indented lines belong to the body of the function, until we encounter an unindented line, ending the function definition."
   ],
   "id": "2614234f908376f6"
  },
  {
   "metadata": {
    "ExecuteTime": {
     "end_time": "2024-05-24T20:05:59.396482Z",
     "start_time": "2024-05-24T20:05:59.392088Z"
    }
   },
   "cell_type": "code",
   "source": [
    "def f(x):\n",
    "    if x > 0:\n",
    "        print(\"Only printed when x is positive; x =\", x)\n",
    "        print(\"Also only printed when x is positive; x =\", x)\n",
    "    print(\"Always printed, regardless of x's value; x =\", x)\n",
    "\n",
    "f(1)\n",
    "f(0)"
   ],
   "id": "e03793ca97661b5f",
   "outputs": [
    {
     "name": "stdout",
     "output_type": "stream",
     "text": [
      "Only printed when x is positive; x = 1\n",
      "Also only printed when x is positive; x = 1\n",
      "Always printed, regardless of x's value; x = 1\n",
      "Always printed, regardless of x's value; x = 0\n"
     ]
    }
   ],
   "execution_count": 12
  },
  {
   "metadata": {},
   "cell_type": "markdown",
   "source": [
    "## Boolean conversion\n",
    "\n",
    "We've seen `int()`, which turns things into ints, and `float()`, which turns things into floats, so you might not be surprised to hear that Python has a `bool()` function which turns things into bools."
   ],
   "id": "41395376ade0d446"
  },
  {
   "metadata": {
    "ExecuteTime": {
     "end_time": "2024-05-24T20:05:59.402110Z",
     "start_time": "2024-05-24T20:05:59.399388Z"
    }
   },
   "cell_type": "code",
   "source": [
    "print(bool(1)) # all numbers are treated as true, except 0\n",
    "print(bool(0))\n",
    "print(bool(\"asf\")) # all strings are treated as true, except the empty string \"\"\n",
    "print(bool(\"\"))\n",
    "# Generally empty sequences (strings, lists, and other types we've yet to see like lists and tuples) are \"falsey\" and the rest are \"truthy\""
   ],
   "id": "3caa119be7f9ee1e",
   "outputs": [
    {
     "name": "stdout",
     "output_type": "stream",
     "text": [
      "True\n",
      "False\n",
      "True\n",
      "False\n"
     ]
    }
   ],
   "execution_count": 13
  },
  {
   "metadata": {},
   "cell_type": "markdown",
   "source": "We can use non-boolean objects in `if` conditions and other places where a boolean would be expected. Python will implicitly treat them as their corresponding boolean value:",
   "id": "611ca5eaeb121ccf"
  },
  {
   "metadata": {
    "ExecuteTime": {
     "end_time": "2024-05-24T20:05:59.471318Z",
     "start_time": "2024-05-24T20:05:59.467888Z"
    }
   },
   "cell_type": "code",
   "source": [
    "if 0: # 0 is evaluated as False, so this block is not executed\n",
    "    print(0)\n",
    "elif \"spam\": # Any non-empty string is evaluated as True, so this block is executed\n",
    "    print(\"spam\")"
   ],
   "id": "32ddea9f012438fc",
   "outputs": [
    {
     "name": "stdout",
     "output_type": "stream",
     "text": [
      "spam\n"
     ]
    }
   ],
   "execution_count": 14
  }
 ],
 "metadata": {
  "kernelspec": {
   "display_name": "Python 3",
   "language": "python",
   "name": "python3"
  },
  "language_info": {
   "codemirror_mode": {
    "name": "ipython",
    "version": 2
   },
   "file_extension": ".py",
   "mimetype": "text/x-python",
   "name": "python",
   "nbconvert_exporter": "python",
   "pygments_lexer": "ipython2",
   "version": "2.7.6"
  }
 },
 "nbformat": 4,
 "nbformat_minor": 5
}
